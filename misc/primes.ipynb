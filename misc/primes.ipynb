{
 "cells": [
  {
   "cell_type": "code",
   "execution_count": 217,
   "metadata": {
    "collapsed": true
   },
   "outputs": [],
   "source": [
    "#https://projecteuler.net/problem=49"
   ]
  },
  {
   "cell_type": "code",
   "execution_count": 63,
   "metadata": {
    "collapsed": true
   },
   "outputs": [],
   "source": [
    "raw = file(\"primes_raw.txt\").readlines()"
   ]
  },
  {
   "cell_type": "code",
   "execution_count": 64,
   "metadata": {
    "collapsed": false
   },
   "outputs": [
    {
     "data": {
      "text/plain": [
       "1000"
      ]
     },
     "execution_count": 64,
     "metadata": {},
     "output_type": "execute_result"
    }
   ],
   "source": [
    "len(raw)"
   ]
  },
  {
   "cell_type": "code",
   "execution_count": 65,
   "metadata": {
    "collapsed": false
   },
   "outputs": [
    {
     "data": {
      "text/plain": [
       "(10000, 104729)"
      ]
     },
     "execution_count": 65,
     "metadata": {},
     "output_type": "execute_result"
    }
   ],
   "source": [
    "plist=[]\n",
    "for line in raw:\n",
    "    nums = filter(lambda s: s not in (\"\", \"\\n\"), line.split(\" \"))\n",
    "    for num in nums:\n",
    "        plist.append(int(num))\n",
    "        \n",
    "len(plist), max(plist)"
   ]
  },
  {
   "cell_type": "code",
   "execution_count": 66,
   "metadata": {
    "collapsed": false
   },
   "outputs": [
    {
     "data": {
      "text/plain": [
       "(1061, 1009, 9973)"
      ]
     },
     "execution_count": 66,
     "metadata": {},
     "output_type": "execute_result"
    }
   ],
   "source": [
    "digits = map(lambda n: len(str(n)), plist)\n",
    "fourdigits = [plist[i] for i in range(len(plist)) if digits[i] == 4]\n",
    "len(fourdigits), min(fourdigits), max(fourdigits)"
   ]
  },
  {
   "cell_type": "code",
   "execution_count": 67,
   "metadata": {
    "collapsed": true
   },
   "outputs": [],
   "source": [
    "def isperm(n1,n2):\n",
    "    x2 = [c for c in str(n2)]\n",
    "    for c in str(n1):\n",
    "        if c not in x2: \n",
    "            return False\n",
    "        else:\n",
    "            x2.remove(c)\n",
    "    return True"
   ]
  },
  {
   "cell_type": "code",
   "execution_count": 68,
   "metadata": {
    "collapsed": false
   },
   "outputs": [
    {
     "data": {
      "text/plain": [
       "(False, True)"
      ]
     },
     "execution_count": 68,
     "metadata": {},
     "output_type": "execute_result"
    }
   ],
   "source": [
    "isperm(20,50), isperm(35,53)"
   ]
  },
  {
   "cell_type": "code",
   "execution_count": 69,
   "metadata": {
    "collapsed": false
   },
   "outputs": [
    {
     "data": {
      "text/plain": [
       "[[1009, 9001],\n",
       " [1013, 1031, 1103, 1301, 3011],\n",
       " [1019, 1091, 1109, 1901, 9011],\n",
       " [1021, 1201, 2011]]"
      ]
     },
     "execution_count": 69,
     "metadata": {},
     "output_type": "execute_result"
    }
   ],
   "source": [
    "perm10 = map(lambda x1: filter(lambda x2: isperm(x1,x2), fourdigits) ,fourdigits[:10])\n",
    "perm10[:4]"
   ]
  },
  {
   "cell_type": "code",
   "execution_count": 51,
   "metadata": {
    "collapsed": true
   },
   "outputs": [],
   "source": [
    "perms = map(lambda x1: filter(lambda x2: isperm(x1,x2), fourdigits) ,fourdigits)"
   ]
  },
  {
   "cell_type": "code",
   "execution_count": 62,
   "metadata": {
    "collapsed": false
   },
   "outputs": [
    {
     "data": {
      "text/plain": [
       "[(11, [1279, 1297, 2179, 2719, 2791, 2917, 2971, 7129, 7219, 9127, 9721]),\n",
       " (11, [1279, 1297, 2179, 2719, 2791, 2917, 2971, 7129, 7219, 9127, 9721]),\n",
       " (11, [1279, 1297, 2179, 2719, 2791, 2917, 2971, 7129, 7219, 9127, 9721]),\n",
       " (11, [1279, 1297, 2179, 2719, 2791, 2917, 2971, 7129, 7219, 9127, 9721]),\n",
       " (11, [1279, 1297, 2179, 2719, 2791, 2917, 2971, 7129, 7219, 9127, 9721]),\n",
       " (11, [1279, 1297, 2179, 2719, 2791, 2917, 2971, 7129, 7219, 9127, 9721]),\n",
       " (11, [1279, 1297, 2179, 2719, 2791, 2917, 2971, 7129, 7219, 9127, 9721]),\n",
       " (11, [1279, 1297, 2179, 2719, 2791, 2917, 2971, 7129, 7219, 9127, 9721]),\n",
       " (11, [1279, 1297, 2179, 2719, 2791, 2917, 2971, 7129, 7219, 9127, 9721]),\n",
       " (11, [1279, 1297, 2179, 2719, 2791, 2917, 2971, 7129, 7219, 9127, 9721]),\n",
       " (11, [1279, 1297, 2179, 2719, 2791, 2917, 2971, 7129, 7219, 9127, 9721]),\n",
       " (11, [1237, 1327, 1723, 2137, 2371, 2713, 2731, 3217, 3271, 7213, 7321]),\n",
       " (11, [1237, 1327, 1723, 2137, 2371, 2713, 2731, 3217, 3271, 7213, 7321])]"
      ]
     },
     "execution_count": 62,
     "metadata": {},
     "output_type": "execute_result"
    }
   ],
   "source": [
    "mostperms = map(lambda l: (len(l), l), perms)\n",
    "mostperms.sort(reverse=True)\n",
    "mostperms[:13]"
   ]
  },
  {
   "cell_type": "code",
   "execution_count": 70,
   "metadata": {
    "collapsed": true
   },
   "outputs": [],
   "source": [
    "perm1 = perms[1]"
   ]
  },
  {
   "cell_type": "code",
   "execution_count": 71,
   "metadata": {
    "collapsed": false
   },
   "outputs": [
    {
     "data": {
      "text/plain": [
       "[1013, 1031, 1103, 1301, 3011]"
      ]
     },
     "execution_count": 71,
     "metadata": {},
     "output_type": "execute_result"
    }
   ],
   "source": [
    "perm1"
   ]
  },
  {
   "cell_type": "code",
   "execution_count": 73,
   "metadata": {
    "collapsed": true
   },
   "outputs": [],
   "source": [
    "import math"
   ]
  },
  {
   "cell_type": "code",
   "execution_count": 123,
   "metadata": {
    "collapsed": false
   },
   "outputs": [
    {
     "data": {
      "text/plain": [
       "[[(0, 0, 0), (0, 1, 18), (0, 2, 90), (0, 3, 288), (0, 4, 1998)],\n",
       " [(1, 0, 18), (1, 1, 0), (1, 2, 72), (1, 3, 270), (1, 4, 1980)],\n",
       " [(2, 0, 90), (2, 1, 72), (2, 2, 0), (2, 3, 198), (2, 4, 1908)],\n",
       " [(3, 0, 288), (3, 1, 270), (3, 2, 198), (3, 3, 0), (3, 4, 1710)],\n",
       " [(4, 0, 1998), (4, 1, 1980), (4, 2, 1908), (4, 3, 1710), (4, 4, 0)]]"
      ]
     },
     "execution_count": 123,
     "metadata": {},
     "output_type": "execute_result"
    }
   ],
   "source": [
    "difs = [[ (i1,i2,max(n2 - n1,n1 - n2)) for i2,n2 in enumerate(perm1) ]for i1,n1 in enumerate(perm1)]\n",
    "difs"
   ]
  },
  {
   "cell_type": "code",
   "execution_count": 125,
   "metadata": {
    "collapsed": false
   },
   "outputs": [
    {
     "data": {
      "text/plain": [
       "[[],\n",
       " [(1, 0, 18)],\n",
       " [(2, 0, 90), (2, 1, 72)],\n",
       " [(3, 0, 288), (3, 1, 270), (3, 2, 198)],\n",
       " [(4, 0, 1998), (4, 1, 1980), (4, 2, 1908), (4, 3, 1710)]]"
      ]
     },
     "execution_count": 125,
     "metadata": {},
     "output_type": "execute_result"
    }
   ],
   "source": [
    "difs_uppertri = [difs[i][:i] for i in range(len(perm1))]\n",
    "difs_uppertri"
   ]
  },
  {
   "cell_type": "code",
   "execution_count": null,
   "metadata": {
    "collapsed": true
   },
   "outputs": [],
   "source": []
  },
  {
   "cell_type": "code",
   "execution_count": 128,
   "metadata": {
    "collapsed": false
   },
   "outputs": [
    {
     "data": {
      "text/plain": [
       "[(1, 0, 18),\n",
       " (2, 0, 90),\n",
       " (2, 1, 72),\n",
       " (3, 0, 288),\n",
       " (3, 1, 270),\n",
       " (3, 2, 198),\n",
       " (4, 0, 1998),\n",
       " (4, 1, 1980),\n",
       " (4, 2, 1908),\n",
       " (4, 3, 1710)]"
      ]
     },
     "execution_count": 128,
     "metadata": {},
     "output_type": "execute_result"
    }
   ],
   "source": [
    "flatdifs12 = [item for sublist in difs_uppertri for item in sublist]\n",
    "flatdifs12"
   ]
  },
  {
   "cell_type": "code",
   "execution_count": 142,
   "metadata": {
    "collapsed": false
   },
   "outputs": [
    {
     "data": {
      "text/plain": [
       "[1, 1, 1, 1, 1, 1, 1, 1, 1, 1]"
      ]
     },
     "execution_count": 142,
     "metadata": {},
     "output_type": "execute_result"
    }
   ],
   "source": [
    "flatdifs = [f[2] for f in flatdifs12]\n",
    "repeats = [ flatdifs.count(f) for f in flatdifs  ]\n",
    "repeats"
   ]
  },
  {
   "cell_type": "code",
   "execution_count": 92,
   "metadata": {
    "collapsed": false
   },
   "outputs": [
    {
     "data": {
      "text/plain": [
       "3"
      ]
     },
     "execution_count": 92,
     "metadata": {},
     "output_type": "execute_result"
    }
   ],
   "source": [
    "a = [1,2,3,1,2,1]\n",
    "a.count(1)"
   ]
  },
  {
   "cell_type": "code",
   "execution_count": 168,
   "metadata": {
    "collapsed": false
   },
   "outputs": [],
   "source": [
    "def matchdifs(perm1, **kwargs):\n",
    "    difs = [[ (i1,i2,max(n2 - n1,n1 - n2)) for i2,n2 in enumerate(perm1) ]for i1,n1 in enumerate(perm1)]\n",
    "    difs_uppertri = [difs[i][:i] for i in range(len(perm1))]\n",
    "    flatdifs12 = [item for sublist in difs_uppertri for item in sublist]\n",
    "    \n",
    "    flatdifs = [f[2] for f in flatdifs12]\n",
    "    repeats = [ flatdifs.count(f) for f in flatdifs  ]\n",
    "    \n",
    "    wheretwo = [ (flatdifs[i], (perm1[flatdifs12[i][0]]  ,perm1[flatdifs12[i][1]] )) for i,v in enumerate(repeats) if v > kwargs.get('v',1)]\n",
    "    if len(wheretwo) > 0:\n",
    "            return wheretwo\n",
    "    \n",
    "    if kwargs.get('output',False):\n",
    "        wheretwo = [(flatdifs12[i],flatdifs[i],v) for i,v in enumerate(repeats) if v > kwargs.get('v',1)]\n",
    "        if len(wheretwo) > 0:\n",
    "            return (perm1, wheretwo)\n",
    "    \n",
    "    return False"
   ]
  },
  {
   "cell_type": "code",
   "execution_count": 178,
   "metadata": {
    "collapsed": false
   },
   "outputs": [
    {
     "name": "stdout",
     "output_type": "stream",
     "text": [
      "1061\n",
      "194\n"
     ]
    },
    {
     "data": {
      "text/plain": [
       "[[(90, (3109, 3019)),\n",
       "  (5994, (9013, 3019)),\n",
       "  (5994, (9103, 3109)),\n",
       "  (90, (9103, 9013))],\n",
       " [(90, (3109, 3019)),\n",
       "  (5994, (9013, 3019)),\n",
       "  (5994, (9103, 3109)),\n",
       "  (90, (9103, 9013))],\n",
       " [(90, (1213, 1123)),\n",
       "  (108, (1231, 1123)),\n",
       "  (18, (1231, 1213)),\n",
       "  (198, (1321, 1123)),\n",
       "  (108, (1321, 1213)),\n",
       "  (90, (1321, 1231)),\n",
       "  (990, (2113, 1123)),\n",
       "  (900, (2113, 1213)),\n",
       "  (1008, (2131, 1123)),\n",
       "  (900, (2131, 1231)),\n",
       "  (810, (2131, 1321)),\n",
       "  (18, (2131, 2113)),\n",
       "  (990, (2311, 1321)),\n",
       "  (198, (2311, 2113)),\n",
       "  (1008, (3121, 2113)),\n",
       "  (990, (3121, 2131)),\n",
       "  (810, (3121, 2311))],\n",
       " [(198, (1361, 1163)),\n",
       "  (4950, (6113, 1163)),\n",
       "  (4950, (6311, 1361)),\n",
       "  (198, (6311, 6113))],\n",
       " [(720, (1913, 1193)),\n",
       "  (1998, (3191, 1193)),\n",
       "  (1998, (3911, 1913)),\n",
       "  (720, (3911, 3191))]]"
      ]
     },
     "execution_count": 178,
     "metadata": {},
     "output_type": "execute_result"
    }
   ],
   "source": [
    "repeatdifs = map(lambda n: matchdifs(n,v=1) ,perms)\n",
    "print len(repeatdifs)\n",
    "repeatdifs = filter(lambda x: x,repeatdifs)\n",
    "#repeatdifs = [(i,r) for i,r in enumerate(repeatdifs) if r != False]\n",
    "print len(repeatdifs)\n",
    "repeatdifs[:5]"
   ]
  },
  {
   "cell_type": "code",
   "execution_count": 207,
   "metadata": {
    "collapsed": false
   },
   "outputs": [
    {
     "data": {
      "text/plain": [
       "False"
      ]
     },
     "execution_count": 207,
     "metadata": {},
     "output_type": "execute_result"
    }
   ],
   "source": [
    "a1 = repeatdifs[0][0]\n",
    "a2 = repeatdifs[0][0]\n",
    "a1 != a2"
   ]
  },
  {
   "cell_type": "code",
   "execution_count": 180,
   "metadata": {
    "collapsed": false
   },
   "outputs": [
    {
     "data": {
      "text/plain": [
       "(1, 2, 3, 4)"
      ]
     },
     "execution_count": 180,
     "metadata": {},
     "output_type": "execute_result"
    }
   ],
   "source": [
    "(1,2) + (3,4)"
   ]
  },
  {
   "cell_type": "code",
   "execution_count": 188,
   "metadata": {
    "collapsed": false
   },
   "outputs": [
    {
     "data": {
      "text/plain": [
       "True"
      ]
     },
     "execution_count": 188,
     "metadata": {},
     "output_type": "execute_result"
    }
   ],
   "source": [
    "(2,3) in (3,4)\n",
    "any(map(lambda n: n in (3,4), (1,3)))"
   ]
  },
  {
   "cell_type": "code",
   "execution_count": 208,
   "metadata": {
    "collapsed": false
   },
   "outputs": [],
   "source": [
    "def triplet(difvec):\n",
    "    \n",
    "    for dif1 in difvec:\n",
    "        _dif = dif1[0]\n",
    "        _difpair = dif1[1]\n",
    "        \n",
    "        for dif2 in difvec:\n",
    "            c_dif = dif2[0]\n",
    "            c_difpair = dif2[1]\n",
    "                \n",
    "            if (dif1 != dif2) and (_dif == c_dif)  and  any(map(lambda n: n in c_difpair, _difpair)):\n",
    "                return c_difpair, _difpair\n",
    "            \n",
    "    return False"
   ]
  },
  {
   "cell_type": "code",
   "execution_count": 209,
   "metadata": {
    "collapsed": false
   },
   "outputs": [],
   "source": [
    "final = map(triplet,repeatdifs)"
   ]
  },
  {
   "cell_type": "code",
   "execution_count": 210,
   "metadata": {
    "collapsed": false
   },
   "outputs": [
    {
     "data": {
      "text/plain": [
       "[False,\n",
       " False,\n",
       " False,\n",
       " False,\n",
       " False,\n",
       " False,\n",
       " False,\n",
       " False,\n",
       " False,\n",
       " False,\n",
       " False,\n",
       " False,\n",
       " False,\n",
       " False,\n",
       " False,\n",
       " False,\n",
       " ((8147, 4817), (4817, 1487)),\n",
       " False,\n",
       " False,\n",
       " False,\n",
       " False,\n",
       " False,\n",
       " False,\n",
       " False,\n",
       " False,\n",
       " False,\n",
       " False,\n",
       " False,\n",
       " False,\n",
       " ((8147, 4817), (4817, 1487)),\n",
       " False,\n",
       " False,\n",
       " False,\n",
       " False,\n",
       " False,\n",
       " False,\n",
       " False,\n",
       " False,\n",
       " False,\n",
       " False,\n",
       " False,\n",
       " False,\n",
       " False,\n",
       " False,\n",
       " False,\n",
       " False,\n",
       " False,\n",
       " ((9629, 6299), (6299, 2969)),\n",
       " False,\n",
       " False,\n",
       " False,\n",
       " False,\n",
       " ((9629, 6299), (6299, 2969)),\n",
       " False,\n",
       " False,\n",
       " False,\n",
       " False,\n",
       " False,\n",
       " False,\n",
       " False,\n",
       " False,\n",
       " False,\n",
       " False,\n",
       " False,\n",
       " False,\n",
       " False,\n",
       " False,\n",
       " False,\n",
       " False,\n",
       " False,\n",
       " False,\n",
       " False,\n",
       " False,\n",
       " False,\n",
       " False,\n",
       " False,\n",
       " False,\n",
       " False,\n",
       " False,\n",
       " False,\n",
       " False,\n",
       " False,\n",
       " False,\n",
       " False,\n",
       " False,\n",
       " False,\n",
       " False,\n",
       " False,\n",
       " False,\n",
       " False,\n",
       " False,\n",
       " False,\n",
       " False,\n",
       " ((8147, 4817), (4817, 1487)),\n",
       " False,\n",
       " ((8147, 4817), (4817, 1487)),\n",
       " False,\n",
       " False,\n",
       " False,\n",
       " False,\n",
       " False,\n",
       " False,\n",
       " False,\n",
       " False,\n",
       " False,\n",
       " False,\n",
       " False,\n",
       " False,\n",
       " False,\n",
       " False,\n",
       " False,\n",
       " False,\n",
       " False,\n",
       " False,\n",
       " False,\n",
       " False,\n",
       " False,\n",
       " False,\n",
       " False,\n",
       " False,\n",
       " False,\n",
       " False,\n",
       " ((9629, 6299), (6299, 2969)),\n",
       " False,\n",
       " False,\n",
       " False,\n",
       " False,\n",
       " False,\n",
       " False,\n",
       " False,\n",
       " False,\n",
       " False,\n",
       " False,\n",
       " False,\n",
       " False,\n",
       " False,\n",
       " False,\n",
       " False,\n",
       " False,\n",
       " False,\n",
       " False,\n",
       " False,\n",
       " False,\n",
       " False,\n",
       " False,\n",
       " False,\n",
       " False,\n",
       " False,\n",
       " False,\n",
       " ((8147, 4817), (4817, 1487)),\n",
       " False,\n",
       " False,\n",
       " False,\n",
       " False,\n",
       " False,\n",
       " False,\n",
       " False,\n",
       " ((8147, 4817), (4817, 1487)),\n",
       " False,\n",
       " False,\n",
       " ((8147, 4817), (4817, 1487)),\n",
       " False,\n",
       " False,\n",
       " False,\n",
       " False,\n",
       " False,\n",
       " False,\n",
       " ((8147, 4817), (4817, 1487)),\n",
       " False,\n",
       " False,\n",
       " False,\n",
       " False,\n",
       " False,\n",
       " False,\n",
       " False,\n",
       " False,\n",
       " False,\n",
       " False,\n",
       " False,\n",
       " False,\n",
       " False,\n",
       " False,\n",
       " False,\n",
       " False,\n",
       " False,\n",
       " False,\n",
       " False,\n",
       " ((9629, 6299), (6299, 2969)),\n",
       " False,\n",
       " False,\n",
       " False,\n",
       " False,\n",
       " False,\n",
       " False]"
      ]
     },
     "execution_count": 210,
     "metadata": {},
     "output_type": "execute_result"
    }
   ],
   "source": [
    "final"
   ]
  },
  {
   "cell_type": "code",
   "execution_count": null,
   "metadata": {
    "collapsed": true
   },
   "outputs": [],
   "source": []
  },
  {
   "cell_type": "code",
   "execution_count": 211,
   "metadata": {
    "collapsed": false
   },
   "outputs": [
    {
     "data": {
      "text/plain": [
       "[((8147, 4817), (4817, 1487)),\n",
       " ((8147, 4817), (4817, 1487)),\n",
       " ((9629, 6299), (6299, 2969)),\n",
       " ((9629, 6299), (6299, 2969)),\n",
       " ((8147, 4817), (4817, 1487)),\n",
       " ((8147, 4817), (4817, 1487)),\n",
       " ((9629, 6299), (6299, 2969)),\n",
       " ((8147, 4817), (4817, 1487)),\n",
       " ((8147, 4817), (4817, 1487)),\n",
       " ((8147, 4817), (4817, 1487)),\n",
       " ((8147, 4817), (4817, 1487)),\n",
       " ((9629, 6299), (6299, 2969))]"
      ]
     },
     "execution_count": 211,
     "metadata": {},
     "output_type": "execute_result"
    }
   ],
   "source": [
    "filter(lambda x: x,final)"
   ]
  },
  {
   "cell_type": "code",
   "execution_count": 212,
   "metadata": {
    "collapsed": false
   },
   "outputs": [
    {
     "data": {
      "text/plain": [
       "((8147, 4817), (4817, 1487))"
      ]
     },
     "execution_count": 212,
     "metadata": {},
     "output_type": "execute_result"
    }
   ],
   "source": [
    "(8147, 4817), (4817, 1487)"
   ]
  },
  {
   "cell_type": "code",
   "execution_count": 213,
   "metadata": {
    "collapsed": false
   },
   "outputs": [
    {
     "data": {
      "text/plain": [
       "3330"
      ]
     },
     "execution_count": 213,
     "metadata": {},
     "output_type": "execute_result"
    }
   ],
   "source": [
    "8147 - 4817"
   ]
  },
  {
   "cell_type": "code",
   "execution_count": 214,
   "metadata": {
    "collapsed": false
   },
   "outputs": [
    {
     "data": {
      "text/plain": [
       "((9629, 6299), (6299, 2969))"
      ]
     },
     "execution_count": 214,
     "metadata": {},
     "output_type": "execute_result"
    }
   ],
   "source": [
    "(9629, 6299), (6299, 2969)"
   ]
  },
  {
   "cell_type": "code",
   "execution_count": 215,
   "metadata": {
    "collapsed": false
   },
   "outputs": [
    {
     "data": {
      "text/plain": [
       "3330"
      ]
     },
     "execution_count": 215,
     "metadata": {},
     "output_type": "execute_result"
    }
   ],
   "source": [
    "9629 - 6299"
   ]
  },
  {
   "cell_type": "code",
   "execution_count": 216,
   "metadata": {
    "collapsed": false
   },
   "outputs": [
    {
     "data": {
      "text/plain": [
       "-3330"
      ]
     },
     "execution_count": 216,
     "metadata": {},
     "output_type": "execute_result"
    }
   ],
   "source": [
    "2969 - 6299"
   ]
  },
  {
   "cell_type": "code",
   "execution_count": 112,
   "metadata": {
    "collapsed": false
   },
   "outputs": [
    {
     "name": "stdout",
     "output_type": "stream",
     "text": [
      "False\n"
     ]
    },
    {
     "data": {
      "text/plain": [
       "([1013, 1031, 1103, 1301, 3011, 1049], [(0, 18, 2), (11, 18, 2)])"
      ]
     },
     "execution_count": 112,
     "metadata": {},
     "output_type": "execute_result"
    }
   ],
   "source": [
    "perm2 = perm1[:]\n",
    "print matchdifs(perm2)\n",
    "perm2.append(perm2[1]+18)\n",
    "matchdifs(perm2)"
   ]
  },
  {
   "cell_type": "code",
   "execution_count": 102,
   "metadata": {
    "collapsed": false
   },
   "outputs": [
    {
     "data": {
      "text/plain": [
       "18"
      ]
     },
     "execution_count": 102,
     "metadata": {},
     "output_type": "execute_result"
    }
   ],
   "source": [
    "perm2[1] - perm2[0]"
   ]
  },
  {
   "cell_type": "code",
   "execution_count": 114,
   "metadata": {
    "collapsed": false
   },
   "outputs": [
    {
     "name": "stdout",
     "output_type": "stream",
     "text": [
      "([1039, 1093, 3019, 3109, 9013, 9103], [(5, 90, 2), (8, 5994, 2), (13, 5994, 2), (14, 90, 2)])\n"
     ]
    }
   ],
   "source": [
    "for n in perms:\n",
    "    out = matchdifs(n)\n",
    "    if out:\n",
    "        break\n",
    "print out"
   ]
  },
  {
   "cell_type": "code",
   "execution_count": 119,
   "metadata": {
    "collapsed": false
   },
   "outputs": [
    {
     "data": {
      "text/plain": [
       "3019"
      ]
     },
     "execution_count": 119,
     "metadata": {},
     "output_type": "execute_result"
    }
   ],
   "source": []
  },
  {
   "cell_type": "code",
   "execution_count": null,
   "metadata": {
    "collapsed": true
   },
   "outputs": [],
   "source": []
  },
  {
   "cell_type": "code",
   "execution_count": null,
   "metadata": {
    "collapsed": false
   },
   "outputs": [],
   "source": []
  }
 ],
 "metadata": {
  "kernelspec": {
   "display_name": "Python 2",
   "language": "python",
   "name": "python2"
  },
  "language_info": {
   "codemirror_mode": {
    "name": "ipython",
    "version": 2
   },
   "file_extension": ".py",
   "mimetype": "text/x-python",
   "name": "python",
   "nbconvert_exporter": "python",
   "pygments_lexer": "ipython2",
   "version": "2.7.10"
  }
 },
 "nbformat": 4,
 "nbformat_minor": 0
}
