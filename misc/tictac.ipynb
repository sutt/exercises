{
 "cells": [
  {
   "cell_type": "code",
   "execution_count": 2,
   "metadata": {
    "collapsed": true
   },
   "outputs": [],
   "source": [
    "import random"
   ]
  },
  {
   "cell_type": "code",
   "execution_count": 7,
   "metadata": {
    "collapsed": false
   },
   "outputs": [
    {
     "data": {
      "text/plain": [
       "[3]"
      ]
     },
     "execution_count": 7,
     "metadata": {},
     "output_type": "execute_result"
    }
   ],
   "source": [
    "random.sample([1,2,3],1)"
   ]
  },
  {
   "cell_type": "code",
   "execution_count": 135,
   "metadata": {
    "collapsed": false
   },
   "outputs": [],
   "source": [
    "winners = [[1,5,9],[3,5,7],[4,5,6],[2,5,8]]\n",
    "\n",
    "def win(p):\n",
    "    return 3 in map(lambda x1: sum(map(lambda x2: x2 in p, x1)), winners)\n",
    "\n",
    "def game(**kwargs):\n",
    "    x, o = [], []\n",
    "    turn = 1\n",
    "    spots = range(1,10)\n",
    "    gridout = kwargs.get('gridout', False)\n",
    "    \n",
    "    for i in range(9):\n",
    "        \n",
    "        new = random.sample(spots, 1)[0]\n",
    "        spots.remove(new)\n",
    "        \n",
    "        if turn == 1:\n",
    "            x.append(new)\n",
    "        else:\n",
    "            o.append(new)\n",
    "            \n",
    "        if win(x):return ( 1, [1,x,o]) [1*gridout]\n",
    "        if win(o):return (-1, [-1,x,o])[1*gridout]\n",
    "        \n",
    "        turn = 1 if turn != 1 else 2\n",
    "        \n",
    "    return ( 0, [0,x,o]) [1*gridout]"
   ]
  },
  {
   "cell_type": "code",
   "execution_count": 141,
   "metadata": {
    "collapsed": false
   },
   "outputs": [
    {
     "name": "stdout",
     "output_type": "stream",
     "text": [
      "[-1, [1, 4, 2, 8], [3, 6, 5, 7]]\n"
     ]
    }
   ],
   "source": [
    "d = {}\n",
    "d['gridout'] = 1\n",
    "out = game(**d)\n",
    "print out"
   ]
  },
  {
   "cell_type": "code",
   "execution_count": 142,
   "metadata": {
    "collapsed": false
   },
   "outputs": [
    {
     "name": "stdout",
     "output_type": "stream",
     "text": [
      "XXO\n",
      "XOO\n",
      "OX~\n",
      " -1\n"
     ]
    }
   ],
   "source": [
    "print grid(out,**{'winner':True})"
   ]
  },
  {
   "cell_type": "code",
   "execution_count": 58,
   "metadata": {
    "collapsed": false
   },
   "outputs": [],
   "source": [
    "def multi(N):\n",
    "    out = [game() for i in range (N)]\n",
    "    #print out[:40]\n",
    "    print \" winO, draw, winX: \"+ \" | \".join(map(lambda x: str(out.count(x)),[-1,0,1]) )\n",
    "    print \"advantage: \", str(sum(out))\n"
   ]
  },
  {
   "cell_type": "code",
   "execution_count": 61,
   "metadata": {
    "collapsed": false
   },
   "outputs": [
    {
     "name": "stdout",
     "output_type": "stream",
     "text": [
      " winO, draw, winX: 19134 | 37985 | 42881\n",
      "advantage:  23747\n",
      " winO, draw, winX: 18843 | 38340 | 42817\n",
      "advantage:  23974\n",
      " winO, draw, winX: 19056 | 38202 | 42742\n",
      "advantage:  23686\n"
     ]
    }
   ],
   "source": [
    "multi(100000)\n",
    "multi(100000)\n",
    "multi(100000)\n",
    "\n"
   ]
  },
  {
   "cell_type": "code",
   "execution_count": 128,
   "metadata": {
    "collapsed": false
   },
   "outputs": [],
   "source": [
    "def n2g(n):\n",
    "    return ((n - 1) / 3) + n - 1\n",
    "\n",
    "def grid(g,**kwargs):\n",
    "    win,x,o = g[0],g[1],g[2]\n",
    "    \n",
    "    vec = \"~\"*3\n",
    "    vec +=\"\\n\"\n",
    "    mat = vec*3\n",
    "\n",
    "    xs = [n2g(a) for a in x]\n",
    "    os = [n2g(a) for a in o]\n",
    "    \n",
    "    for a in xs:\n",
    "        mat = mat[:a] + \"X\" + mat[a+1:]\n",
    "    for a in os:\n",
    "        mat = mat[:a] + \"O\" + mat[a+1:]\n",
    "    \n",
    "    if kwargs.get('winner',False):\n",
    "        vec = \" \" + str(win)\n",
    "        mat += vec  \n",
    "    return mat\n",
    "        "
   ]
  },
  {
   "cell_type": "code",
   "execution_count": 143,
   "metadata": {
    "collapsed": false
   },
   "outputs": [
    {
     "name": "stdout",
     "output_type": "stream",
     "text": [
      "XXX\n",
      "XOO\n",
      "OOX\n",
      " 0\n",
      "\n",
      "\n",
      "X~O\n",
      "XXX\n",
      "~OO\n",
      " 1\n",
      "\n",
      "\n",
      "XOX\n",
      "OOO\n",
      "XX~\n",
      " -1\n",
      "\n",
      "\n",
      "OX~\n",
      "~OX\n",
      "X~O\n",
      " -1\n",
      "\n",
      "\n",
      "OXO\n",
      "XX~\n",
      "OX~\n",
      " 1\n",
      "\n",
      "\n",
      "~~X\n",
      "OXO\n",
      "XOX\n",
      " 1\n",
      "\n",
      "\n",
      "O~O\n",
      "XOX\n",
      "XXO\n",
      " -1\n",
      "\n",
      "\n",
      "OOX\n",
      "OXX\n",
      "XXO\n",
      " 1\n",
      "\n",
      "\n",
      "OXO\n",
      "OXO\n",
      "XXX\n",
      " 1\n",
      "\n",
      "\n",
      "OX~\n",
      "OX~\n",
      "XXO\n",
      " 1\n",
      "\n",
      "\n"
     ]
    }
   ],
   "source": [
    "for i in range(10):\n",
    "    print grid( game(gridout = 1), winner = True) \n",
    "    print \"\\n\""
   ]
  },
  {
   "cell_type": "code",
   "execution_count": null,
   "metadata": {
    "collapsed": true
   },
   "outputs": [],
   "source": []
  }
 ],
 "metadata": {
  "kernelspec": {
   "display_name": "Python 2",
   "language": "python",
   "name": "python2"
  },
  "language_info": {
   "codemirror_mode": {
    "name": "ipython",
    "version": 2
   },
   "file_extension": ".py",
   "mimetype": "text/x-python",
   "name": "python",
   "nbconvert_exporter": "python",
   "pygments_lexer": "ipython2",
   "version": "2.7.10"
  }
 },
 "nbformat": 4,
 "nbformat_minor": 0
}
