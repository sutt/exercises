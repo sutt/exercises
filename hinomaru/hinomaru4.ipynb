{
 "cells": [
  {
   "cell_type": "markdown",
   "metadata": {},
   "source": [
    "### Initial setup"
   ]
  },
  {
   "cell_type": "code",
   "execution_count": 250,
   "metadata": {
    "collapsed": true
   },
   "outputs": [],
   "source": [
    "#http://puzzles.bostonpython.com/hinomaru.html\n",
    "import os, sys, random, time, math\n",
    "\n",
    "def recurse_dims(obj):\n",
    "    try:\n",
    "        next = obj[:]\n",
    "    except:\n",
    "        return []\n",
    "    dims = []\n",
    "    for i in range(1000):\n",
    "        try:\n",
    "            if len(next) > 0:\n",
    "                dims.append(len(next))\n",
    "            else:\n",
    "                break\n",
    "        except:\n",
    "            break            \n",
    "        next = next[0]\n",
    "    return dims\n",
    "\n",
    "SOLUTION = [\n",
    "    (0,0,0,0,0,0,0,0,0,0,0,0,0,0,0,0,0,0),\n",
    "    (0,0,0,0,0,0,0,1,1,1,1,0,0,0,0,0,0,0),\n",
    "    (0,0,0,0,0,1,1,1,1,1,1,1,1,0,0,0,0,0),\n",
    "    (0,0,0,0,0,1,1,1,1,1,1,1,1,0,0,0,0,0),\n",
    "    (0,0,0,0,1,1,1,1,1,1,1,1,1,1,0,0,0,0),\n",
    "    (0,0,0,0,1,1,1,1,1,1,1,1,1,1,0,0,0,0),\n",
    "    (0,0,0,0,1,1,1,1,1,1,1,1,1,1,0,0,0,0),\n",
    "    (0,0,0,0,1,1,1,1,1,1,1,1,1,1,0,0,0,0),\n",
    "    (0,0,0,0,0,1,1,1,1,1,1,1,1,0,0,0,0,0),\n",
    "    (0,0,0,0,0,1,1,1,1,1,1,1,1,0,0,0,0,0),\n",
    "    (0,0,0,0,0,0,0,1,1,1,1,0,0,0,0,0,0,0),\n",
    "    (0,0,0,0,0,0,0,0,0,0,0,0,0,0,0,0,0,0),\n",
    "]\n",
    "\n",
    "TILES = [\n",
    "    (\n",
    "        ((1,1,1,1,1,1), (1,1,1,1,1,1), (1,1,1,1,1,1)),\n",
    "        ((0,1,1,1,1,1), (0,1,1,1,1,1), (0,0,1,1,1,1)),\n",
    "    ),\n",
    "    (\n",
    "        ((1,1,1,1,1,1), (1,1,1,1,1,1), (1,1,1,1,1,1)),\n",
    "        ((1,1,0,0,0,0), (1,1,0,0,0,0), (1,0,0,0,0,0)),\n",
    "    ),\n",
    "    (\n",
    "        ((1,1,1,1,1,1), (1,1,1,1,1,1), (1,1,1,1,1,1)),\n",
    "        ((0,0,0,0,0,0), (1,1,0,0,0,0), (1,1,1,1,0,0)),\n",
    "    ),\n",
    "    (\n",
    "        ((1,1,1,1,1,1), (0,1,1,1,1,0), (0,0,0,0,0,0)),\n",
    "        ((1,1,1,1,0,0), (1,1,0,0,0,0), (0,0,0,0,0,0)),\n",
    "    ),\n",
    "    (\n",
    "        ((1,1,1,1,1,1), (0,1,1,1,1,0), (0,0,0,0,0,0)),\n",
    "        ((0,0,0,0,0,0), (0,0,0,0,0,0), (0,0,0,0,0,0)),\n",
    "    ),\n",
    "    (\n",
    "        ((1,1,1,1,1,0), (1,1,1,1,1,0), (1,1,1,1,0,0)),\n",
    "        ((0,0,0,0,0,0), (0,0,0,0,0,0), (1,0,0,0,0,0)),\n",
    "    ),\n",
    "    (\n",
    "        ((1,1,1,1,0,0), (1,1,1,1,1,0), (1,1,1,1,1,0)),\n",
    "        ((0,0,1,1,1,1), (0,0,0,0,1,1), (0,0,0,0,0,0)),\n",
    "    ),\n",
    "    (\n",
    "        ((0,0,0,0,0,0), (0,0,0,0,1,1), (0,0,1,1,1,1)),\n",
    "        ((0,0,0,0,0,0), (0,0,0,0,0,0), (0,0,0,0,0,0)),\n",
    "    ),\n",
    "    (\n",
    "        ((0,0,1,1,1,1), (0,0,0,0,1,1), (0,0,0,0,0,0)),\n",
    "        ((0,0,0,0,0,0), (0,0,0,0,0,0), (0,0,0,0,0,1)),\n",
    "    ),\n",
    "    (\n",
    "        ((0,0,0,0,1,1), (0,0,0,0,1,1), (0,0,0,0,0,1)),\n",
    "        ((0,0,0,0,0,0), (0,0,0,0,0,0), (0,0,0,0,0,0)),\n",
    "    ),\n",
    "    (\n",
    "        ((0,0,0,0,0,1), (0,0,0,0,1,1), (0,0,0,0,1,1)),\n",
    "        ((0,0,0,0,0,0), (0,0,0,0,0,0), (0,0,0,0,0,1)),\n",
    "    ),\n",
    "    (\n",
    "        ((0,0,0,0,0,1), (0,0,0,0,0,0), (0,0,0,0,0,0)),\n",
    "        ((0,0,0,0,0,0), (0,0,0,0,0,0), (0,0,0,0,0,0)),\n",
    "    ),\n",
    "]\n"
   ]
  },
  {
   "cell_type": "code",
   "execution_count": 251,
   "metadata": {
    "collapsed": true
   },
   "outputs": [],
   "source": [
    "#http://puzzles.bostonpython.com/hinomaru.html\n",
    "import os, sys, random, time, math"
   ]
  },
  {
   "cell_type": "code",
   "execution_count": 252,
   "metadata": {
    "collapsed": true
   },
   "outputs": [],
   "source": [
    "t, s = TILES, SOLUTION"
   ]
  },
  {
   "cell_type": "markdown",
   "metadata": {},
   "source": [
    "### DIMENSIONS of t, s"
   ]
  },
  {
   "cell_type": "code",
   "execution_count": 253,
   "metadata": {
    "collapsed": false
   },
   "outputs": [
    {
     "name": "stdout",
     "output_type": "stream",
     "text": [
      "[12, 2, 3, 6] [12, 18]\n"
     ]
    }
   ],
   "source": [
    "print recurse_dims(t), recurse_dims(s)\n",
    "_TILES, _SIDES,_TYVECS, _TXDOTS = recurse_dims(t)\n",
    "_SYVECS, _SXDOTS = recurse_dims(s)"
   ]
  },
  {
   "cell_type": "markdown",
   "metadata": {},
   "source": [
    "### modxyz: all the ways to arrange 3x6 tiles on the board"
   ]
  },
  {
   "cell_type": "code",
   "execution_count": 254,
   "metadata": {
    "collapsed": true
   },
   "outputs": [],
   "source": [
    "def mod(dims,solution):\n",
    "    return filter(lambda p: any( map(lambda dim: (p) % (dim) == 0,dims) ), \\\n",
    "                  range(0,solution) )"
   ]
  },
  {
   "cell_type": "code",
   "execution_count": 255,
   "metadata": {
    "collapsed": false
   },
   "outputs": [
    {
     "name": "stdout",
     "output_type": "stream",
     "text": [
      "[0, 3, 6, 9, 12, 15] [0, 3, 6, 9]\n"
     ]
    }
   ],
   "source": [
    "modx = mod((_TXDOTS,_TYVECS),_SXDOTS)\n",
    "mody = mod((_TXDOTS,_TYVECS),_SYVECS)\n",
    "print modx, mody"
   ]
  },
  {
   "cell_type": "code",
   "execution_count": 256,
   "metadata": {
    "collapsed": false
   },
   "outputs": [
    {
     "name": "stdout",
     "output_type": "stream",
     "text": [
      "[(0, 0, 0), (0, 0, 1), (0, 3, 0), (0, 3, 1)]\n"
     ]
    },
    {
     "data": {
      "text/plain": [
       "48"
      ]
     },
     "execution_count": 256,
     "metadata": {},
     "output_type": "execute_result"
    }
   ],
   "source": [
    "# z: orientation => 0: stout, 6longx3high ; 1: tall: 3longx6high\n",
    "modxy = [(x,y) for x in modx for y in mody]\n",
    "modxyz = [(a[0],a[1],b) for a in modxy for b in range(2)]\n",
    "print modxyz[:4]\n",
    "len(modxyz)"
   ]
  },
  {
   "cell_type": "markdown",
   "metadata": {},
   "source": [
    "### combos - map each tile to a  {side, flip, xyz in {modxyz}}"
   ]
  },
  {
   "cell_type": "code",
   "execution_count": 257,
   "metadata": {
    "collapsed": false
   },
   "outputs": [
    {
     "data": {
      "text/plain": [
       "2304"
      ]
     },
     "execution_count": 257,
     "metadata": {},
     "output_type": "execute_result"
    }
   ],
   "source": [
    "#combos: all combinations of    indt-\"tile-code\", tileside - \"heads/tails\", \n",
    "#                               xy - \"topleft coord\", z - \"tall/stout\" ,\n",
    "#                               flip-\"0flip/180flip\"\n",
    "combos = [(tile, flip,tileside,xyz,indt) for flip in range(2) for tileside in range(2) for xyz in modxyz for indt,tile in enumerate(t)]\n",
    "len(combos)"
   ]
  },
  {
   "cell_type": "markdown",
   "metadata": {},
   "source": [
    "###  match combos against s if its a match goes into valid"
   ]
  },
  {
   "cell_type": "code",
   "execution_count": 258,
   "metadata": {
    "collapsed": true
   },
   "outputs": [],
   "source": [
    "def tilemark(tx,xx,yy,zz,ff):\n",
    "    #if flip = -1 -> y can be bigger than x\n",
    "    flip = -1 if ff else 1\n",
    "    tt = [x[::flip] for x in tx[::flip]]\n",
    "    if not(zz):\n",
    "        out = tt[yy][xx]\n",
    "    else:    \n",
    "        out = tt[2-xx][yy]\n",
    "    return out\n",
    "\n",
    "def matchtile(tile,flip,xyz):\n",
    "    x,y,z = xyz[0], xyz[1], xyz[2]\n",
    "    r0, r1 = range(3), range(6)\n",
    "    xiter, yiter = (r0,r1) if z else (r1,r0)\n",
    "    try:\n",
    "        out = all( [s[y+ y0][x + x0] == tilemark(tile,x0,y0,z,flip) for x0 in xiter for y0 in yiter])\n",
    "        return out\n",
    "    except:\n",
    "        return False #error occurs because some shapes are bigger than smallest mod"
   ]
  },
  {
   "cell_type": "code",
   "execution_count": 259,
   "metadata": {
    "collapsed": false
   },
   "outputs": [
    {
     "name": "stdout",
     "output_type": "stream",
     "text": [
      "combo1:\n",
      "((((1, 1, 1, 1, 1, 1), (1, 1, 1, 1, 1, 1), (1, 1, 1, 1, 1, 1)), ((0, 1, 1, 1, 1, 1), (0, 1, 1, 1, 1, 1), (0, 0, 1, 1, 1, 1))), 0, 0, (0, 0, 0), 0)\n",
      "t1, tile-data:\n",
      "((0, 1, 1, 1, 1, 1), (0, 1, 1, 1, 1, 1), (0, 0, 1, 1, 1, 1))\n",
      "tmark over a x,y range: \n",
      "[(0, 0, 0), (0, 1, 0), (0, 2, 1), (1, 0, 0), (1, 1, 1), (1, 2, 1), (2, 0, 0), (2, 1, 1), (2, 2, 1)]\n",
      "[0, 0, 0, 1, 1, 0, 1, 1, 1]\n",
      "[0, 0, 1, 0, 1, 1, 0, 1, 1]\n",
      "out of bounds, when stout y < 3\n",
      "nope\n",
      "yep,  1\n",
      "e1:  False\n",
      "e2:  True\n",
      "e3:  False\n"
     ]
    }
   ],
   "source": [
    "#View and understand the existing data structures\n",
    "\n",
    "combo1 = combos[0]\n",
    "print 'combo1:'\n",
    "print combo1\n",
    "\n",
    "t1 = combo1[0][1] #note:double indexed for [tile-data][tile-side]\n",
    "print 't1, tile-data:'\n",
    "print t1\n",
    "\n",
    "f1,z1 = combo1[3],combo1[4]\n",
    "tmark1 = [ (x,y,tilemark(t1,x,y,f1,z1)) for x in xrange(3) for y in xrange(3)]\n",
    "print 'tmark over a x,y range: '\n",
    "print tmark1   #notice tilemark doesn't use the position from combo, only the by given x,y index\n",
    "\n",
    "#check flip\n",
    "tmarkA = [ tilemark(t1,x,y,0,z1) for x in xrange(3) for y in xrange(3)]\n",
    "tmarkB = [ tilemark(t1,x,y,1,z1) for x in xrange(3) for y in xrange(3)]\n",
    "print tmarkA\n",
    "print tmarkB\n",
    "\n",
    "print 'out of bounds, when stout y < 3'\n",
    "try:\n",
    "    tilemark(t1,2,4,0,0) #tile,x,y,z,flip\n",
    "except:\n",
    "    print 'nope'\n",
    "print 'yep, ', tilemark(t1,2,4,1,0)  # y <6, when z=1\n",
    "\n",
    "#Check matchtile\n",
    "t0 = TILES[0][0]\n",
    "e2 = matchtile(t0,0,(0,0,0))            #doesn't match topleft\n",
    "print 'e1: ', e1\n",
    "\n",
    "e2 = matchtile(t0,0,(4,4,0))            #matches middle of circle\n",
    "print 'e2: ', e2\n",
    "\n",
    "e3 = matchtile(t0,0,(4,4,1))            #...but not when z = talll\n",
    "print 'e3: ', e3"
   ]
  },
  {
   "cell_type": "code",
   "execution_count": 273,
   "metadata": {
    "collapsed": false
   },
   "outputs": [
    {
     "data": {
      "text/plain": [
       "126"
      ]
     },
     "execution_count": 273,
     "metadata": {},
     "output_type": "execute_result"
    }
   ],
   "source": [
    "#valid: if matchtile returns true, tile t, with params p matches to solution mat\n",
    "valid = filter(lambda i: matchtile(i[0][i[2]],i[1],i[3]), combos)   #THE BUG! this flips\n",
    "len(valid)"
   ]
  },
  {
   "cell_type": "code",
   "execution_count": 274,
   "metadata": {
    "collapsed": false
   },
   "outputs": [
    {
     "name": "stdout",
     "output_type": "stream",
     "text": [
      "[10, 9, 11, 7, 8, 3, 4, 8, 0, 1, 2, 0, 1, 2, 0, 1, 2, 5, 3, 4, 6, 0, 1, 2, 5, 6, 7, 8, 10, 4, 7, 9, 11, 4, 7, 9, 11, 4, 7, 9, 11, 6, 0, 3, 6, 0, 2, 3, 5, 1, 2, 4, 7, 9, 11, 4, 7, 9, 11, 4, 7, 9, 11, 5, 6, 7, 3, 4, 6, 0, 1, 2, 0, 1, 2, 0, 1, 2, 8, 5, 0, 1, 2, 7, 11, 9, 3, 4, 10, 8, 4, 7, 9, 11, 1, 4, 7, 9, 11, 4, 7, 9, 11, 5, 3, 2, 2, 6, 0, 0, 3, 6, 8, 10, 4, 7, 9, 11, 4, 7, 9, 11, 4, 7, 9, 11]\n",
      "Counter({4: 16, 7: 16, 9: 14, 11: 14, 0: 12, 2: 12, 1: 10, 3: 8, 6: 8, 5: 6, 8: 6, 10: 4})\n",
      "[0, 1, 2, 3, 4, 5, 6, 7, 8, 9, 10, 11]\n",
      "[(0, 12), (1, 10), (2, 12), (3, 8), (4, 16), (5, 6), (6, 8), (7, 16), (8, 6), (9, 14), (10, 4), (11, 14)]\n"
     ]
    }
   ],
   "source": [
    "#Which tilenum it uses 0 -11\n",
    "tts = map(lambda x: x[4],valid)\n",
    "print tts\n",
    "\n",
    "from collections import Counter\n",
    "ctts = Counter(tts)\n",
    "print ctts\n",
    "kk = ctts.keys()\n",
    "print kk\n",
    "print [(k, ctts[k]) for k in kk]   #tilenum4 is used most often"
   ]
  },
  {
   "cell_type": "markdown",
   "metadata": {},
   "source": [
    "### valid2 = valid + xy position covered on canvas"
   ]
  },
  {
   "cell_type": "code",
   "execution_count": 262,
   "metadata": {
    "collapsed": true
   },
   "outputs": [],
   "source": [
    "#x,y = (0,3)  18*3 + 0 = 54, which is where it starts, "
   ]
  },
  {
   "cell_type": "code",
   "execution_count": 275,
   "metadata": {
    "collapsed": false
   },
   "outputs": [
    {
     "name": "stdout",
     "output_type": "stream",
     "text": [
      "(0, 3, 0)\n",
      "(54, 72, 90, 55, 73, 91, 56, 74, 92, 57, 75, 93, 58, 76, 94, 59, 77, 95)\n"
     ]
    }
   ],
   "source": [
    "#valid2: (tile, flip,tileside,xyz,indt, (xyt's))\n",
    "def v2xy(v):\n",
    "    x,y,z = v[3][0], v[3][1], v[3][2]\n",
    "    _xr, _yr = (_TYVECS, _TXDOTS) if z else (_TXDOTS, _TYVECS)\n",
    "    xy = [(xx + x, yy + y) for xx in range(_xr) for yy in range(_yr)]\n",
    "    return xy\n",
    "\n",
    "def xy2code(xy):\n",
    "    x,y = xy[0],xy[1]\n",
    "    return (y*_SXDOTS)+x   #numbering across, then down\n",
    "\n",
    "def xyt(info_obj):\n",
    "    return tuple(map(xy2code,v2xy(info_obj)))\n",
    "\n",
    "print valid[0][3]   \n",
    "print xyt(valid[0])    "
   ]
  },
  {
   "cell_type": "code",
   "execution_count": 276,
   "metadata": {
    "collapsed": false
   },
   "outputs": [
    {
     "data": {
      "text/plain": [
       "((((0, 0, 0, 0, 0, 1), (0, 0, 0, 0, 1, 1), (0, 0, 0, 0, 1, 1)),\n",
       "  ((0, 0, 0, 0, 0, 0), (0, 0, 0, 0, 0, 0), (0, 0, 0, 0, 0, 1))),\n",
       " 0,\n",
       " 0,\n",
       " (0, 3, 0),\n",
       " 10,\n",
       " (54, 72, 90, 55, 73, 91, 56, 74, 92, 57, 75, 93, 58, 76, 94, 59, 77, 95))"
      ]
     },
     "execution_count": 276,
     "metadata": {},
     "output_type": "execute_result"
    }
   ],
   "source": [
    "valid2 = map(lambda v: ( v[0], v[1], v[2], v[3],v[4], xyt(v) ) ,valid)\n",
    "valid2[0]"
   ]
  },
  {
   "cell_type": "markdown",
   "metadata": {},
   "source": [
    "### are any of these plays off the board?"
   ]
  },
  {
   "cell_type": "code",
   "execution_count": 111,
   "metadata": {
    "collapsed": false
   },
   "outputs": [
    {
     "name": "stdout",
     "output_type": "stream",
     "text": [
      "12 18\n"
     ]
    }
   ],
   "source": [
    "print _SYVECS, _SXDOTS"
   ]
  },
  {
   "cell_type": "code",
   "execution_count": 112,
   "metadata": {
    "collapsed": false
   },
   "outputs": [
    {
     "data": {
      "text/plain": [
       "126"
      ]
     },
     "execution_count": 112,
     "metadata": {},
     "output_type": "execute_result"
    }
   ],
   "source": [
    "def xy2validate(xy):\n",
    "    x,y = xy[0],xy[1]\n",
    "    if (x >= _SXDOTS) or (y >= _SYVECS):\n",
    "        return False\n",
    "    return True\n",
    "\n",
    "def xyt_validate(info_obj):\n",
    "    return tuple(map(xy2validate,v2xy(info_obj)))\n",
    "\n",
    "valid2b = map(lambda v: (xyt_validate(v),v) ,valid2)\n",
    "valid2b = filter(lambda v: all(v[0]) ,valid2b)\n",
    "valid2b = map(lambda v: v[1],valid2b)\n",
    "len(valid2b)    # Looks good, none of the xys of any tile exceeds the board"
   ]
  },
  {
   "cell_type": "code",
   "execution_count": 138,
   "metadata": {
    "collapsed": false
   },
   "outputs": [
    {
     "data": {
      "text/plain": [
       "[(0, 9, 0),\n",
       " (3, 9, 0),\n",
       " (6, 9, 0),\n",
       " (6, 9, 0),\n",
       " (9, 9, 0),\n",
       " (3, 9, 0),\n",
       " (9, 9, 0),\n",
       " (0, 9, 0),\n",
       " (3, 9, 0),\n",
       " (12, 9, 0),\n",
       " (12, 9, 0)]"
      ]
     },
     "execution_count": 138,
     "metadata": {},
     "output_type": "execute_result"
    }
   ],
   "source": [
    "#all the bottom tiles are stout, so they dont go off the board\n",
    "yy = 9\n",
    "yyv = filter(lambda v: v[3][1] == yy ,valid2)\n",
    "map(lambda v: v[3],yyv)"
   ]
  },
  {
   "cell_type": "markdown",
   "metadata": {},
   "source": [
    "### now for each v in valid, strikeout incompatible plays in valid2\n"
   ]
  },
  {
   "cell_type": "code",
   "execution_count": 277,
   "metadata": {
    "collapsed": false
   },
   "outputs": [
    {
     "name": "stdout",
     "output_type": "stream",
     "text": [
      "[[0, 96, 4, 5, 6, 97, 98, 92, 88, 90, 91, 28, 29, 30, 31, 32, 33, 34, 35, 36, 41, 93, 113, 94, 105, 95, 63], [1, 5, 6, 31, 33, 34, 35, 36, 37, 38, 39, 40, 42, 43, 53, 57, 61, 64, 65, 85, 92, 95, 96, 97, 98, 99, 100, 101, 102, 116, 120, 124], [65, 2, 7, 84, 100, 103, 93, 101, 32, 98, 99, 36, 37, 102, 39, 40, 106, 43, 44, 117, 54, 121, 58, 38, 125, 62], [65, 66, 3, 4, 83, 105, 68, 26, 91, 28, 30, 96, 34, 27, 100, 38, 104, 41, 67, 45, 115, 52, 119, 56, 123, 60], [0, 3, 4, 5, 6, 7, 78, 89, 27, 28, 94, 104, 41, 112, 105, 63]]\n",
      "----\n",
      "[27, 32, 26, 26, 16, 19, 28, 15, 28, 28, 30, 28, 28, 30, 28, 28, 30, 25, 16, 25, 27, 28, 28, 30, 27, 26, 27, 19, 18, 32, 32, 30, 30, 37, 37, 34, 35, 31, 31, 28, 28, 19, 27, 18, 17, 26, 21, 17, 20, 33, 23, 31, 31, 28, 28, 37, 37, 34, 35, 32, 32, 30, 30, 27, 27, 27, 16, 25, 26, 28, 28, 30, 28, 28, 30, 28, 28, 30, 15, 25, 28, 28, 30, 26, 26, 32, 19, 28, 27, 16, 32, 32, 30, 30, 33, 37, 37, 34, 35, 31, 31, 28, 28, 20, 17, 23, 21, 17, 27, 26, 18, 19, 19, 18, 31, 31, 28, 28, 37, 37, 34, 35, 32, 32, 30, 30]\n",
      "----\n",
      "37 15\n"
     ]
    }
   ],
   "source": [
    "# each v in valid will strike out a portion of other v's\n",
    "# -> so we can update strikeout vec as union of preproc's stikeouts\n",
    "\n",
    "def strikeout(x):    \n",
    "    valid3 = [(i,v) for i,v in enumerate(valid2)]\n",
    "    tile_i, xy_list = valid2[x][4], valid2[x][5] \n",
    "\n",
    "    out1 = filter(lambda v: v[1][4] == tile_i ,valid3)\n",
    "    ind1 = map(lambda v: v[0] ,out1)\n",
    "\n",
    "    out2 = filter(lambda v:any(map(lambda xyt: xyt in xy_list ,v[1][5]) ),valid3)\n",
    "    ind2 = map(lambda v: v[0] ,out2)\n",
    "    \n",
    "    return list( set.union(set(ind1), set(ind2) ) )\n",
    "\n",
    "so = [[] for i in range(len(valid2))]\n",
    "for i in range(len(valid2)) :\n",
    "    so[i].extend(strikeout(i))\n",
    "    \n",
    "print so[:5]\n",
    "outs = map(len,so)\n",
    "print '----'\n",
    "print outs\n",
    "print '----'\n",
    "print max(outs),min(outs)\n"
   ]
  },
  {
   "cell_type": "markdown",
   "metadata": {},
   "source": [
    "### Build function to search for combinations of 12 from valid2-set that win"
   ]
  },
  {
   "cell_type": "code",
   "execution_count": 278,
   "metadata": {
    "collapsed": true
   },
   "outputs": [],
   "source": [
    "def puzzle(**kwargs):\n",
    "    layout = []\n",
    "    struckout = []\n",
    "    allv = range(len(valid2))\n",
    "    log = []\n",
    "    valid3 = [(i,v) for i,v in enumerate(valid2)]\n",
    "    Log = kwargs.get('Log',False)\n",
    "    \n",
    "    for try_i in range(kwargs.get('tries',20)):\n",
    "\n",
    "        if len(layout) == 12: \n",
    "            print 'SUCCESS:', layout\n",
    "            print 'IN TRIES:', try_i\n",
    "            if Log:\n",
    "                return (layout,log)\n",
    "            else:\n",
    "                return (layout,try_i)\n",
    "\n",
    "        if len(struckout) > 0:\n",
    "            notavail = reduce(lambda x,y: x+y, struckout)\n",
    "        else:\n",
    "            notavail = ()\n",
    "        available = [x for x in allv if x not in notavail]\n",
    "\n",
    "        #Prune Condition: Not enough valid plays to complete puzzle.\n",
    "        if len(available) < (12 - len(layout)):\n",
    "            \n",
    "            back = random.randint(1,len(layout))\n",
    "            if kwargs.get('allback',False): back = len(layout)\n",
    "            if Log: log.append([(try_i, \"_BACK:\", back)])\n",
    "                           \n",
    "            for b in range(back):\n",
    "                lp = layout.pop()\n",
    "                sp = struckout.pop()\n",
    "                if Log: log.append([(try_i, \"POP:\", lp)])\n",
    "                \n",
    "        else:\n",
    "            \n",
    "            #Extend layout list with a play from available list\n",
    "            r = random.sample(available,1)[0]\n",
    "            layout.append(r)\n",
    "            struckout.append(so[r])\n",
    "            if Log: log.append([(try_i, \"_APP:\", len(layout), layout[:])])\n",
    "\n",
    "    return log\n",
    "\n",
    "ret = puzzle(tries = 20, Log=True)"
   ]
  },
  {
   "cell_type": "code",
   "execution_count": 279,
   "metadata": {
    "collapsed": false
   },
   "outputs": [
    {
     "data": {
      "text/plain": [
       "[[(0, '_APP:', 1, [125])],\n",
       " [(1, '_APP:', 2, [125, 25])],\n",
       " [(2, '_APP:', 3, [125, 25, 51])],\n",
       " [(3, '_APP:', 4, [125, 25, 51, 79])],\n",
       " [(4, '_APP:', 5, [125, 25, 51, 79, 110])],\n",
       " [(5, '_APP:', 6, [125, 25, 51, 79, 110, 35])],\n",
       " [(6, '_APP:', 7, [125, 25, 51, 79, 110, 35, 72])],\n",
       " [(7, '_APP:', 8, [125, 25, 51, 79, 110, 35, 72, 27])],\n",
       " [(8, '_BACK:', 2)],\n",
       " [(8, 'POP:', 27)],\n",
       " [(8, 'POP:', 72)],\n",
       " [(9, '_APP:', 7, [125, 25, 51, 79, 110, 35, 27])],\n",
       " [(10, '_APP:', 8, [125, 25, 51, 79, 110, 35, 27, 45])],\n",
       " [(11, '_BACK:', 2)],\n",
       " [(11, 'POP:', 45)],\n",
       " [(11, 'POP:', 27)],\n",
       " [(12, '_APP:', 7, [125, 25, 51, 79, 110, 35, 4])],\n",
       " [(13, '_APP:', 8, [125, 25, 51, 79, 110, 35, 4, 13])],\n",
       " [(14, '_BACK:', 6)],\n",
       " [(14, 'POP:', 13)],\n",
       " [(14, 'POP:', 4)],\n",
       " [(14, 'POP:', 35)],\n",
       " [(14, 'POP:', 110)],\n",
       " [(14, 'POP:', 79)],\n",
       " [(14, 'POP:', 51)],\n",
       " [(15, '_APP:', 3, [125, 25, 52])],\n",
       " [(16, '_APP:', 4, [125, 25, 52, 31])],\n",
       " [(17, '_APP:', 5, [125, 25, 52, 31, 108])],\n",
       " [(18, '_APP:', 6, [125, 25, 52, 31, 108, 12])],\n",
       " [(19, '_APP:', 7, [125, 25, 52, 31, 108, 12, 78])]]"
      ]
     },
     "execution_count": 279,
     "metadata": {},
     "output_type": "execute_result"
    }
   ],
   "source": [
    "ret"
   ]
  },
  {
   "cell_type": "markdown",
   "metadata": {},
   "source": [
    "### Now use puzzle() to search for wins"
   ]
  },
  {
   "cell_type": "code",
   "execution_count": 280,
   "metadata": {
    "collapsed": false
   },
   "outputs": [
    {
     "name": "stdout",
     "output_type": "stream",
     "text": [
      "SUCCESS: [102, 7, 70, 25, 91, 86, 120, 113, 67, 42, 105, 48]\n",
      "IN TRIES: 5397\n",
      "SUCCESS: [121, 25, 30, 9, 48, 86, 105, 42, 67, 113, 101, 7]\n",
      "IN TRIES: 3741\n",
      "1 loops, best of 3: 1.71 s per loop\n"
     ]
    }
   ],
   "source": [
    "%%timeit\n",
    "ret = puzzle(tries = 10000, Log=True)"
   ]
  },
  {
   "cell_type": "markdown",
   "metadata": {},
   "source": [
    "### wins - test avg performance time of function, and conserved plays"
   ]
  },
  {
   "cell_type": "code",
   "execution_count": 285,
   "metadata": {
    "collapsed": false
   },
   "outputs": [
    {
     "name": "stdout",
     "output_type": "stream",
     "text": [
      "SUCCESS: [52, 103, 18, 76, 108, 78, 125, 28, 68, 6, 50, 35]\n",
      "IN TRIES: 17183\n",
      "SUCCESS: [6, 89, 115, 125, 20, 45, 28, 15, 35, 103, 18, 46]\n",
      "IN TRIES: 26665\n",
      "SUCCESS: [46, 53, 19, 103, 15, 62, 5, 28, 20, 45, 34, 89]\n",
      "IN TRIES: 22461\n",
      "SUCCESS: [121, 9, 87, 31, 48, 64, 66, 113, 7, 38, 105, 109]\n",
      "IN TRIES: 54645\n",
      "SUCCESS: [34, 15, 53, 68, 50, 125, 28, 6, 103, 108, 18, 78]\n",
      "IN TRIES: 12311\n",
      "SUCCESS: [70, 120, 38, 86, 4, 106, 64, 67, 48, 32, 113, 109]\n",
      "IN TRIES: 17924\n",
      "SUCCESS: [42, 56, 4, 25, 31, 87, 106, 48, 113, 70, 102, 66]\n",
      "IN TRIES: 39842\n",
      "SUCCESS: [105, 67, 32, 109, 56, 7, 39, 64, 86, 9, 48, 113]\n",
      "IN TRIES: 10489\n",
      "SUCCESS: [93, 25, 106, 56, 42, 4, 101, 70, 67, 113, 86, 48]\n",
      "IN TRIES: 83968\n",
      "SUCCESS: [97, 6, 20, 18, 62, 89, 45, 115, 46, 15, 103, 28]\n",
      "IN TRIES: 21250\n",
      "SUCCESS: [15, 97, 20, 103, 115, 18, 28, 125, 6, 89, 45, 46]\n",
      "IN TRIES: 5554\n",
      "SUCCESS: [9, 109, 48, 119, 93, 4, 87, 39, 106, 66, 113, 64]\n",
      "IN TRIES: 12490\n",
      "SUCCESS: [50, 53, 45, 103, 19, 20, 123, 98, 28, 15, 78, 5]\n",
      "IN TRIES: 32848\n",
      "SUCCESS: [87, 30, 58, 64, 9, 101, 4, 106, 109, 66, 113, 48]\n",
      "IN TRIES: 872\n",
      "SUCCESS: [61, 45, 20, 98, 89, 5, 28, 76, 115, 46, 19, 103]\n",
      "IN TRIES: 4462\n",
      "SUCCESS: [98, 6, 18, 89, 123, 76, 68, 53, 46, 103, 28, 108]\n",
      "IN TRIES: 29223\n",
      "SUCCESS: [105, 67, 42, 9, 93, 7, 57, 38, 113, 48, 86, 25]\n",
      "IN TRIES: 15534\n",
      "SUCCESS: [61, 34, 46, 45, 6, 103, 76, 18, 89, 54, 28, 20]\n",
      "IN TRIES: 14913\n",
      "SUCCESS: [68, 89, 116, 62, 34, 108, 6, 18, 15, 103, 46, 28]\n",
      "IN TRIES: 66168\n",
      "SUCCESS: [48, 25, 9, 66, 4, 119, 87, 32, 106, 39, 113, 42]\n",
      "IN TRIES: 12060\n"
     ]
    },
    {
     "data": {
      "text/plain": [
       "[([52, 103, 18, 76, 108, 78, 125, 28, 68, 6, 50, 35], 17183),\n",
       " ([6, 89, 115, 125, 20, 45, 28, 15, 35, 103, 18, 46], 26665),\n",
       " ([46, 53, 19, 103, 15, 62, 5, 28, 20, 45, 34, 89], 22461),\n",
       " ([121, 9, 87, 31, 48, 64, 66, 113, 7, 38, 105, 109], 54645),\n",
       " ([34, 15, 53, 68, 50, 125, 28, 6, 103, 108, 18, 78], 12311),\n",
       " ([70, 120, 38, 86, 4, 106, 64, 67, 48, 32, 113, 109], 17924),\n",
       " ([42, 56, 4, 25, 31, 87, 106, 48, 113, 70, 102, 66], 39842),\n",
       " ([105, 67, 32, 109, 56, 7, 39, 64, 86, 9, 48, 113], 10489),\n",
       " ([93, 25, 106, 56, 42, 4, 101, 70, 67, 113, 86, 48], 83968),\n",
       " ([97, 6, 20, 18, 62, 89, 45, 115, 46, 15, 103, 28], 21250),\n",
       " ([15, 97, 20, 103, 115, 18, 28, 125, 6, 89, 45, 46], 5554),\n",
       " ([9, 109, 48, 119, 93, 4, 87, 39, 106, 66, 113, 64], 12490),\n",
       " ([50, 53, 45, 103, 19, 20, 123, 98, 28, 15, 78, 5], 32848),\n",
       " ([87, 30, 58, 64, 9, 101, 4, 106, 109, 66, 113, 48], 872),\n",
       " ([61, 45, 20, 98, 89, 5, 28, 76, 115, 46, 19, 103], 4462),\n",
       " ([98, 6, 18, 89, 123, 76, 68, 53, 46, 103, 28, 108], 29223),\n",
       " ([105, 67, 42, 9, 93, 7, 57, 38, 113, 48, 86, 25], 15534),\n",
       " ([61, 34, 46, 45, 6, 103, 76, 18, 89, 54, 28, 20], 14913),\n",
       " ([68, 89, 116, 62, 34, 108, 6, 18, 15, 103, 46, 28], 66168),\n",
       " ([48, 25, 9, 66, 4, 119, 87, 32, 106, 39, 113, 42], 12060)]"
      ]
     },
     "execution_count": 285,
     "metadata": {},
     "output_type": "execute_result"
    }
   ],
   "source": [
    "wins = []\n",
    "for trial in range(20):\n",
    "    wins.append(puzzle(tries=100000,Log = False))\n",
    "    \n",
    "wins    "
   ]
  },
  {
   "cell_type": "code",
   "execution_count": 319,
   "metadata": {
    "collapsed": false
   },
   "outputs": [
    {
     "name": "stdout",
     "output_type": "stream",
     "text": [
      "SUCCESS: [101, 109, 87, 70, 56, 106, 32, 66, 64, 113, 48, 4]\n",
      "IN TRIES: 12944\n",
      "SUCCESS: [56, 64, 70, 31, 48, 102, 7, 109, 113, 105, 86, 67]\n",
      "IN TRIES: 38369\n",
      "SUCCESS: [50, 108, 117, 6, 61, 68, 18, 34, 28, 78, 76, 103]\n",
      "IN TRIES: 79740\n",
      "SUCCESS: [67, 9, 105, 120, 102, 30, 42, 86, 25, 113, 7, 48]\n",
      "IN TRIES: 17060\n",
      "SUCCESS: [86, 93, 105, 42, 39, 67, 56, 48, 25, 7, 70, 113]\n",
      "IN TRIES: 20548\n",
      "SUCCESS: [50, 98, 103, 108, 76, 53, 123, 5, 68, 19, 78, 28]\n",
      "IN TRIES: 12241\n",
      "SUCCESS: [86, 25, 7, 105, 58, 67, 9, 92, 113, 100, 42, 48]\n",
      "IN TRIES: 6421\n",
      "SUCCESS: [119, 31, 67, 70, 86, 102, 42, 113, 4, 106, 25, 48]\n",
      "IN TRIES: 14999\n",
      "SUCCESS: [93, 109, 120, 86, 100, 70, 106, 67, 4, 48, 113, 64]\n",
      "IN TRIES: 7343\n",
      "SUCCESS: [115, 61, 28, 20, 98, 76, 46, 6, 89, 45, 103, 18]\n",
      "IN TRIES: 11474\n",
      "SUCCESS: [68, 15, 52, 36, 18, 46, 108, 124, 6, 89, 103, 28]\n",
      "IN TRIES: 3627\n",
      "SUCCESS: [96, 76, 45, 116, 103, 50, 125, 19, 20, 28, 5, 78]\n",
      "IN TRIES: 27641\n",
      "SUCCESS: [97, 117, 46, 60, 76, 103, 108, 6, 89, 18, 68, 28]\n",
      "IN TRIES: 4287\n",
      "SUCCESS: [123, 20, 50, 76, 98, 18, 116, 28, 78, 45, 103, 6]\n",
      "IN TRIES: 8810\n",
      "SUCCESS: [68, 34, 54, 108, 89, 18, 6, 61, 46, 15, 28, 103]\n",
      "IN TRIES: 24219\n",
      "SUCCESS: [123, 117, 20, 5, 103, 50, 45, 19, 28, 15, 78, 97]\n",
      "IN TRIES: 39040\n",
      "SUCCESS: [123, 5, 19, 68, 103, 36, 76, 108, 28, 50, 78, 53]\n",
      "IN TRIES: 36875\n",
      "SUCCESS: [121, 39, 105, 25, 7, 42, 113, 91, 87, 70, 66, 48]\n",
      "IN TRIES: 81575\n",
      "SUCCESS: [109, 7, 9, 67, 58, 31, 86, 113, 38, 64, 48, 105]\n",
      "IN TRIES: 14721\n",
      "SUCCESS: [54, 19, 15, 34, 45, 89, 103, 124, 28, 46, 20, 5]\n",
      "IN TRIES: 4414\n"
     ]
    }
   ],
   "source": [
    "wins_ab = []\n",
    "for trial in range(20):\n",
    "    wins_ab.append(puzzle(tries=100000,Log = False, allback=True))"
   ]
  },
  {
   "cell_type": "code",
   "execution_count": 322,
   "metadata": {
    "collapsed": false
   },
   "outputs": [
    {
     "data": {
      "text/plain": [
       "20674"
      ]
     },
     "execution_count": 322,
     "metadata": {},
     "output_type": "execute_result"
    }
   ],
   "source": [
    "mean([w[1] for w in wins[20:]])"
   ]
  },
  {
   "cell_type": "code",
   "execution_count": 323,
   "metadata": {
    "collapsed": false
   },
   "outputs": [
    {
     "data": {
      "text/plain": [
       "23317"
      ]
     },
     "execution_count": 323,
     "metadata": {},
     "output_type": "execute_result"
    }
   ],
   "source": [
    "mean([w[1] for w in wins_ab])"
   ]
  },
  {
   "cell_type": "markdown",
   "metadata": {},
   "source": [
    "### Print out a WIN"
   ]
  },
  {
   "cell_type": "code",
   "execution_count": 281,
   "metadata": {
    "collapsed": true
   },
   "outputs": [],
   "source": [
    "#win1 = [105, 109, 113, 7, 50, 83, 28, 58, 67, 9, 31, 75]\n",
    "#win1 = [28, 101, 121, 106, 75, 109, 4, 9, 31, 91, 113, 50]\n",
    "win1 = [102, 7, 70, 25, 91, 86, 120, 113, 67, 42, 105, 48]\n",
    "win_v = [valid2[w] for w in win1]"
   ]
  },
  {
   "cell_type": "code",
   "execution_count": 282,
   "metadata": {
    "collapsed": false
   },
   "outputs": [
    {
     "name": "stdout",
     "output_type": "stream",
     "text": [
      "{0: 'A', 1: 'B', 2: 'C', 3: 'D', 4: 'E', 5: 'F', 6: 'G', 7: 'H', 8: 'I', 9: 'J', 10: 'K', 11: 'L'}\n"
     ]
    }
   ],
   "source": [
    "letters = 'abcdefghijkl'\n",
    "letters = list(letters)\n",
    "dletters = {}\n",
    "for i,v in enumerate(letters):\n",
    "    dletters[i]=v.capitalize() \n",
    "print dletters"
   ]
  },
  {
   "cell_type": "code",
   "execution_count": 284,
   "metadata": {
    "collapsed": false
   },
   "outputs": [
    {
     "name": "stdout",
     "output_type": "stream",
     "text": [
      "HHHCCCEEEEEEFFFFFF\n",
      "HHHCCCEEEEEEFFFFFF\n",
      "HHHCCCEEEEEEFFFFFF\n",
      "HHHCCCBBBBBBDDDJJJ\n",
      "HHHCCCBBBBBBDDDJJJ\n",
      "HHHCCCBBBBBBDDDJJJ\n",
      "LLLAAAAAAGGGDDDJJJ\n",
      "LLLAAAAAAGGGDDDJJJ\n",
      "LLLAAAAAAGGGDDDJJJ\n",
      "LLLIIIIIIGGGKKKKKK\n",
      "LLLIIIIIIGGGKKKKKK\n",
      "LLLIIIIIIGGGKKKKKK\n",
      "\n",
      "000000000000000000\n",
      "000000011110000000\n",
      "000001111111100000\n",
      "000001111111100000\n",
      "000011111111110000\n",
      "000011111111110000\n",
      "000011111111110000\n",
      "000011111111110000\n",
      "000001111111100000\n",
      "000001111111100000\n",
      "000000011110000000\n",
      "000000000000000000\n",
      "\n"
     ]
    }
   ],
   "source": [
    "def build_puzzle_letter(inp_rows):\n",
    "    s = \"\"\n",
    "    for row in inp_rows:\n",
    "        s += \"\".join(row)\n",
    "        s += \"\\n\"\n",
    "    return s\n",
    "\n",
    "def build_puzzle_mark(inp_rows):\n",
    "    s = \"\"\n",
    "    for row in inp_rows:\n",
    "        s += \"\".join(str(row))\n",
    "        s += \"\\n\"\n",
    "    return s\n",
    "\n",
    "def lookup_letter(xyt):\n",
    "    v = filter(lambda v: xyt in v[5],win_v)\n",
    "    try:\n",
    "        tilenum = v[0][4]\n",
    "        return dletters[tilenum]\n",
    "    except:\n",
    "        return \"?\"\n",
    "    \n",
    "def code2xy(xyt):\n",
    "    y = int(xyt / 18)\n",
    "    x =  xyt % 18\n",
    "    return (x,y)\n",
    "\n",
    "def lookup_mark(xyt):\n",
    "    vv = filter(lambda v: xyt in v[5],win_v)\n",
    "    try:\n",
    "        v = vv[0]\n",
    "        tside = v[2]\n",
    "        tdata = v[0][tside]\n",
    "        \n",
    "        z,f =  v[3][2], v[1]\n",
    "        \n",
    "        x0,y0, = v[3][0], v[3][1]\n",
    "        x1, y1 = code2xy(xyt)\n",
    "        x,y = x1 - x0, y1 - y0\n",
    "        #return str(x)\n",
    "        #return str(1)\n",
    "        return str(tilemark(tdata,x,y,z,f))\n",
    "    except:\n",
    "        return \"?\"\n",
    "\n",
    "rows,rows2 = [], []\n",
    "for y in range(12):\n",
    "    row,row2 = \"\",\"\"\n",
    "    for x in range(18):\n",
    "        xyt = x + (y*18)\n",
    "        row += lookup_letter(xyt)\n",
    "        row2 += lookup_mark(xyt)\n",
    "    rows.append(row)\n",
    "    rows2.append(row2)\n",
    "    \n",
    "out = build_puzzle_letter(rows)\n",
    "print out\n",
    "\n",
    "out = build_puzzle_mark(rows2)\n",
    "print out"
   ]
  },
  {
   "cell_type": "markdown",
   "metadata": {},
   "source": [
    "### Analyze algo performance"
   ]
  },
  {
   "cell_type": "code",
   "execution_count": 296,
   "metadata": {
    "collapsed": false
   },
   "outputs": [
    {
     "name": "stdout",
     "output_type": "stream",
     "text": [
      "20\n"
     ]
    },
    {
     "data": {
      "text/plain": [
       "[([52, 103, 18, 76, 108, 78, 125, 28, 68, 6, 50, 35], 17183),\n",
       " ([6, 89, 115, 125, 20, 45, 28, 15, 35, 103, 18, 46], 26665),\n",
       " ([46, 53, 19, 103, 15, 62, 5, 28, 20, 45, 34, 89], 22461),\n",
       " ([121, 9, 87, 31, 48, 64, 66, 113, 7, 38, 105, 109], 54645),\n",
       " ([34, 15, 53, 68, 50, 125, 28, 6, 103, 108, 18, 78], 12311),\n",
       " ([70, 120, 38, 86, 4, 106, 64, 67, 48, 32, 113, 109], 17924),\n",
       " ([42, 56, 4, 25, 31, 87, 106, 48, 113, 70, 102, 66], 39842),\n",
       " ([105, 67, 32, 109, 56, 7, 39, 64, 86, 9, 48, 113], 10489),\n",
       " ([93, 25, 106, 56, 42, 4, 101, 70, 67, 113, 86, 48], 83968),\n",
       " ([97, 6, 20, 18, 62, 89, 45, 115, 46, 15, 103, 28], 21250),\n",
       " ([15, 97, 20, 103, 115, 18, 28, 125, 6, 89, 45, 46], 5554),\n",
       " ([9, 109, 48, 119, 93, 4, 87, 39, 106, 66, 113, 64], 12490),\n",
       " ([50, 53, 45, 103, 19, 20, 123, 98, 28, 15, 78, 5], 32848),\n",
       " ([87, 30, 58, 64, 9, 101, 4, 106, 109, 66, 113, 48], 872),\n",
       " ([61, 45, 20, 98, 89, 5, 28, 76, 115, 46, 19, 103], 4462),\n",
       " ([98, 6, 18, 89, 123, 76, 68, 53, 46, 103, 28, 108], 29223),\n",
       " ([105, 67, 42, 9, 93, 7, 57, 38, 113, 48, 86, 25], 15534),\n",
       " ([61, 34, 46, 45, 6, 103, 76, 18, 89, 54, 28, 20], 14913),\n",
       " ([68, 89, 116, 62, 34, 108, 6, 18, 15, 103, 46, 28], 66168),\n",
       " ([48, 25, 9, 66, 4, 119, 87, 32, 106, 39, 113, 42], 12060)]"
      ]
     },
     "execution_count": 296,
     "metadata": {},
     "output_type": "execute_result"
    }
   ],
   "source": [
    "wins2 = [w for w in wins if len(w) > 1]\n",
    "print len(wins2)\n",
    "wins2"
   ]
  },
  {
   "cell_type": "code",
   "execution_count": 315,
   "metadata": {
    "collapsed": false
   },
   "outputs": [
    {
     "name": "stdout",
     "output_type": "stream",
     "text": [
      "[(28, 11), (103, 11), (48, 9), (113, 9), (6, 8), (18, 8), (46, 8), (89, 8), (15, 7), (20, 7), (45, 7), (4, 6), (9, 6), (106, 6), (64, 5), (66, 5), (87, 5), (109, 5), (25, 4), (34, 4), (42, 4), (53, 4), (67, 4), (68, 4), (76, 4), (86, 4), (108, 4), (115, 4), (125, 4), (5, 3), (7, 3), (19, 3), (32, 3), (38, 3), (39, 3), (50, 3), (56, 3), (62, 3), (70, 3), (78, 3), (93, 3), (98, 3), (105, 3), (31, 2), (35, 2), (61, 2), (97, 2), (101, 2), (119, 2), (123, 2), (30, 1), (52, 1), (54, 1), (57, 1), (58, 1), (102, 1), (116, 1), (120, 1), (121, 1)]\n"
     ]
    }
   ],
   "source": [
    "common_plays = [ (i, sum(map(lambda win: i in win[0], wins2)  )) for i in range(_SYVECS * _SXDOTS)]\n",
    "common_plays.sort(key=lambda t:t[1],reverse=True)\n",
    "print filter(lambda t: t[1] > 0, common_plays)"
   ]
  },
  {
   "cell_type": "code",
   "execution_count": 352,
   "metadata": {
    "collapsed": true
   },
   "outputs": [],
   "source": [
    "games = [ sorted(w.layout) for w in allwins ]"
   ]
  },
  {
   "cell_type": "code",
   "execution_count": 353,
   "metadata": {
    "collapsed": false
   },
   "outputs": [
    {
     "data": {
      "text/plain": [
       "[[6, 18, 28, 35, 50, 52, 68, 76, 78, 103, 108, 125],\n",
       " [6, 15, 18, 20, 28, 35, 45, 46, 89, 103, 115, 125],\n",
       " [5, 15, 19, 20, 28, 34, 45, 46, 53, 62, 89, 103],\n",
       " [7, 9, 31, 38, 48, 64, 66, 87, 105, 109, 113, 121],\n",
       " [6, 15, 18, 28, 34, 50, 53, 68, 78, 103, 108, 125],\n",
       " [4, 32, 38, 48, 64, 67, 70, 86, 106, 109, 113, 120],\n",
       " [4, 25, 31, 42, 48, 56, 66, 70, 87, 102, 106, 113],\n",
       " [7, 9, 32, 39, 48, 56, 64, 67, 86, 105, 109, 113],\n",
       " [4, 25, 42, 48, 56, 67, 70, 86, 93, 101, 106, 113],\n",
       " [6, 15, 18, 20, 28, 45, 46, 62, 89, 97, 103, 115],\n",
       " [6, 15, 18, 20, 28, 45, 46, 89, 97, 103, 115, 125],\n",
       " [4, 9, 39, 48, 64, 66, 87, 93, 106, 109, 113, 119],\n",
       " [5, 15, 19, 20, 28, 45, 50, 53, 78, 98, 103, 123],\n",
       " [4, 9, 30, 48, 58, 64, 66, 87, 101, 106, 109, 113],\n",
       " [5, 19, 20, 28, 45, 46, 61, 76, 89, 98, 103, 115],\n",
       " [6, 18, 28, 46, 53, 68, 76, 89, 98, 103, 108, 123],\n",
       " [7, 9, 25, 38, 42, 48, 57, 67, 86, 93, 105, 113],\n",
       " [6, 18, 20, 28, 34, 45, 46, 54, 61, 76, 89, 103],\n",
       " [6, 15, 18, 28, 34, 46, 62, 68, 89, 103, 108, 116],\n",
       " [4, 9, 25, 32, 39, 42, 48, 66, 87, 106, 113, 119]]"
      ]
     },
     "execution_count": 353,
     "metadata": {},
     "output_type": "execute_result"
    }
   ],
   "source": [
    "games"
   ]
  },
  {
   "cell_type": "code",
   "execution_count": null,
   "metadata": {
    "collapsed": true
   },
   "outputs": [],
   "source": []
  },
  {
   "cell_type": "code",
   "execution_count": 354,
   "metadata": {
    "collapsed": false
   },
   "outputs": [],
   "source": [
    "from collections import Counter as cnt\n",
    "from collections import namedtuple as nt\n",
    "Win = nt('Win','layout tries')\n",
    "\n",
    "allwins = [Win(layout=i[0],tries=i[1]) for i in wins2]\n",
    "\n",
    "games = [ tuple(sorted(w.layout)) for w in allwins ]\n",
    "plays = reduce(lambda x,y: x+y , games )\n",
    "\n",
    "cnt_plays = cnt(games)\n",
    "cnt_games = cnt(plays)"
   ]
  },
  {
   "cell_type": "code",
   "execution_count": 355,
   "metadata": {
    "collapsed": false
   },
   "outputs": [
    {
     "name": "stdout",
     "output_type": "stream",
     "text": [
      "games --------\n",
      "[((7, 9, 31, 38, 48, 64, 66, 87, 105, 109, 113, 121), 1), ((5, 19, 20, 28, 45, 46, 61, 76, 89, 98, 103, 115), 1), ((4, 25, 31, 42, 48, 56, 66, 70, 87, 102, 106, 113), 1), ((4, 32, 38, 48, 64, 67, 70, 86, 106, 109, 113, 120), 1), ((7, 9, 25, 38, 42, 48, 57, 67, 86, 93, 105, 113), 1)]\n",
      "plays --------\n",
      "[(28, 11), (103, 11), (48, 9), (113, 9), (6, 8), (18, 8), (46, 8), (89, 8), (15, 7), (20, 7), (45, 7), (4, 6), (9, 6), (106, 6), (64, 5)]\n"
     ]
    }
   ],
   "source": [
    "print 'games --------'\n",
    "print cnt_plays.most_common(5)\n",
    "print 'plays --------'\n",
    "print cnt_games.most_common(15)"
   ]
  },
  {
   "cell_type": "code",
   "execution_count": 342,
   "metadata": {
    "collapsed": false
   },
   "outputs": [],
   "source": []
  },
  {
   "cell_type": "code",
   "execution_count": null,
   "metadata": {
    "collapsed": true
   },
   "outputs": [],
   "source": []
  },
  {
   "cell_type": "code",
   "execution_count": null,
   "metadata": {
    "collapsed": true
   },
   "outputs": [],
   "source": []
  },
  {
   "cell_type": "code",
   "execution_count": 338,
   "metadata": {
    "collapsed": false
   },
   "outputs": [
    {
     "data": {
      "text/plain": [
       "[(28, 11),\n",
       " (103, 11),\n",
       " (48, 9),\n",
       " (113, 9),\n",
       " (6, 8),\n",
       " (18, 8),\n",
       " (46, 8),\n",
       " (89, 8),\n",
       " (15, 7),\n",
       " (20, 7),\n",
       " (45, 7),\n",
       " (4, 6),\n",
       " (9, 6),\n",
       " (106, 6),\n",
       " (64, 5),\n",
       " (66, 5),\n",
       " (87, 5),\n",
       " (109, 5),\n",
       " (25, 4),\n",
       " (34, 4),\n",
       " (42, 4),\n",
       " (53, 4),\n",
       " (67, 4),\n",
       " (68, 4),\n",
       " (76, 4),\n",
       " (86, 4),\n",
       " (108, 4),\n",
       " (115, 4),\n",
       " (125, 4),\n",
       " (5, 3),\n",
       " (7, 3),\n",
       " (19, 3),\n",
       " (32, 3),\n",
       " (38, 3),\n",
       " (39, 3),\n",
       " (50, 3),\n",
       " (56, 3),\n",
       " (62, 3),\n",
       " (70, 3),\n",
       " (78, 3),\n",
       " (93, 3),\n",
       " (98, 3),\n",
       " (105, 3),\n",
       " (31, 2),\n",
       " (35, 2),\n",
       " (61, 2),\n",
       " (97, 2),\n",
       " (101, 2),\n",
       " (119, 2),\n",
       " (123, 2),\n",
       " (30, 1),\n",
       " (52, 1),\n",
       " (54, 1),\n",
       " (57, 1),\n",
       " (58, 1),\n",
       " (102, 1),\n",
       " (116, 1),\n",
       " (120, 1),\n",
       " (121, 1)]"
      ]
     },
     "execution_count": 338,
     "metadata": {},
     "output_type": "execute_result"
    }
   ],
   "source": [
    "cnt_games.most_common()"
   ]
  },
  {
   "cell_type": "code",
   "execution_count": 339,
   "metadata": {
    "collapsed": false
   },
   "outputs": [
    {
     "data": {
      "text/plain": [
       "(1, 2, 3)"
      ]
     },
     "execution_count": 339,
     "metadata": {},
     "output_type": "execute_result"
    }
   ],
   "source": []
  },
  {
   "cell_type": "code",
   "execution_count": null,
   "metadata": {
    "collapsed": true
   },
   "outputs": [],
   "source": []
  },
  {
   "cell_type": "code",
   "execution_count": null,
   "metadata": {
    "collapsed": true
   },
   "outputs": [],
   "source": []
  },
  {
   "cell_type": "code",
   "execution_count": 357,
   "metadata": {
    "collapsed": false
   },
   "outputs": [
    {
     "ename": "ImportError",
     "evalue": "No module named enum",
     "output_type": "error",
     "traceback": [
      "\u001b[1;31m---------------------------------------------------------------------------\u001b[0m",
      "\u001b[1;31mImportError\u001b[0m                               Traceback (most recent call last)",
      "\u001b[1;32m<ipython-input-357-1fa79e382ec5>\u001b[0m in \u001b[0;36m<module>\u001b[1;34m()\u001b[0m\n\u001b[1;32m----> 1\u001b[1;33m \u001b[1;32mfrom\u001b[0m \u001b[0menum\u001b[0m \u001b[1;32mimport\u001b[0m \u001b[0mEnum\u001b[0m\u001b[1;33m\u001b[0m\u001b[0m\n\u001b[0m",
      "\u001b[1;31mImportError\u001b[0m: No module named enum"
     ]
    }
   ],
   "source": []
  },
  {
   "cell_type": "code",
   "execution_count": null,
   "metadata": {
    "collapsed": true
   },
   "outputs": [],
   "source": []
  },
  {
   "cell_type": "code",
   "execution_count": null,
   "metadata": {
    "collapsed": true
   },
   "outputs": [],
   "source": []
  },
  {
   "cell_type": "code",
   "execution_count": null,
   "metadata": {
    "collapsed": true
   },
   "outputs": [],
   "source": []
  },
  {
   "cell_type": "code",
   "execution_count": null,
   "metadata": {
    "collapsed": true
   },
   "outputs": [],
   "source": []
  },
  {
   "cell_type": "code",
   "execution_count": null,
   "metadata": {
    "collapsed": true
   },
   "outputs": [],
   "source": []
  },
  {
   "cell_type": "code",
   "execution_count": null,
   "metadata": {
    "collapsed": true
   },
   "outputs": [],
   "source": []
  },
  {
   "cell_type": "code",
   "execution_count": null,
   "metadata": {
    "collapsed": true
   },
   "outputs": [],
   "source": []
  },
  {
   "cell_type": "code",
   "execution_count": null,
   "metadata": {
    "collapsed": true
   },
   "outputs": [],
   "source": []
  },
  {
   "cell_type": "code",
   "execution_count": 316,
   "metadata": {
    "collapsed": false
   },
   "outputs": [
    {
     "data": {
      "text/plain": [
       "240"
      ]
     },
     "execution_count": 316,
     "metadata": {},
     "output_type": "execute_result"
    }
   ],
   "source": [
    "sum([cp[1] for cp in common_plays])"
   ]
  },
  {
   "cell_type": "code",
   "execution_count": 297,
   "metadata": {
    "collapsed": true
   },
   "outputs": [],
   "source": [
    "from matplotlib import pyplot as plt"
   ]
  },
  {
   "cell_type": "code",
   "execution_count": 298,
   "metadata": {
    "collapsed": true
   },
   "outputs": [],
   "source": [
    "%matplotlib inline"
   ]
  },
  {
   "cell_type": "code",
   "execution_count": 318,
   "metadata": {
    "collapsed": false
   },
   "outputs": [
    {
     "name": "stdout",
     "output_type": "stream",
     "text": [
      "[]\n"
     ]
    }
   ],
   "source": [
    "tries = [w[1] for w in wins_ab]\n",
    "print tries"
   ]
  },
  {
   "cell_type": "code",
   "execution_count": 302,
   "metadata": {
    "collapsed": false
   },
   "outputs": [
    {
     "data": {
      "text/plain": [
       "(array([ 3.,  7.,  3.,  3.,  1.,  0.,  1.,  1.,  0.,  1.]),\n",
       " array([   872. ,   9181.6,  17491.2,  25800.8,  34110.4,  42420. ,\n",
       "         50729.6,  59039.2,  67348.8,  75658.4,  83968. ]),\n",
       " <a list of 10 Patch objects>)"
      ]
     },
     "execution_count": 302,
     "metadata": {},
     "output_type": "execute_result"
    },
    {
     "data": {
      "image/png": "[encoded data removed]",
      "text/plain": [
       "<matplotlib.figure.Figure at 0x6cd9f60>"
      ]
     },
     "metadata": {},
     "output_type": "display_data"
    }
   ],
   "source": [
    "plt.hist(tries)"
   ]
  },
  {
   "cell_type": "code",
   "execution_count": 313,
   "metadata": {
    "collapsed": false
   },
   "outputs": [
    {
     "name": "stdout",
     "output_type": "stream",
     "text": [
      "mean:  25043\n",
      "sd:  20921.2540733\n"
     ]
    }
   ],
   "source": [
    "def mean(x):\n",
    "    return sum(x) / len(x)\n",
    "def var(x):\n",
    "    u = mean(x)\n",
    "    return sum(map(lambda xi: (xi - u)**2 ,x)) / len(x)\n",
    "                                       \n",
    "print 'mean: ', mean(tries)\n",
    "var = var(tries)\n",
    "print 'sd: ', str(math.sqrt(var))"
   ]
  },
  {
   "cell_type": "code",
   "execution_count": null,
   "metadata": {
    "collapsed": true
   },
   "outputs": [],
   "source": []
  },
  {
   "cell_type": "markdown",
   "metadata": {},
   "source": [
    "### Combos etc"
   ]
  },
  {
   "cell_type": "code",
   "execution_count": 286,
   "metadata": {
    "collapsed": false
   },
   "outputs": [
    {
     "data": {
      "text/plain": [
       "6"
      ]
     },
     "execution_count": 286,
     "metadata": {},
     "output_type": "execute_result"
    }
   ],
   "source": [
    "math.factorial(3)"
   ]
  },
  {
   "cell_type": "code",
   "execution_count": 288,
   "metadata": {
    "collapsed": false
   },
   "outputs": [],
   "source": [
    "allthem = math.factorial(126) / ( math.factorial(12) * math.factorial(126 - 12))"
   ]
  },
  {
   "cell_type": "code",
   "execution_count": 290,
   "metadata": {
    "collapsed": false
   },
   "outputs": [
    {
     "data": {
      "text/plain": [
       "19470069317824125L"
      ]
     },
     "execution_count": 290,
     "metadata": {},
     "output_type": "execute_result"
    }
   ],
   "source": [
    "c = 0\n",
    "for s in list(allthem):\n",
    "    if \n",
    "    allthem[len(allthem)-c]\n",
    "    c += 1\n"
   ]
  },
  {
   "cell_type": "code",
   "execution_count": 293,
   "metadata": {
    "collapsed": false
   },
   "outputs": [
    {
     "data": {
      "text/plain": [
       "17"
      ]
     },
     "execution_count": 293,
     "metadata": {},
     "output_type": "execute_result"
    }
   ],
   "source": [
    "len(list(str(allthem)))  #too many"
   ]
  },
  {
   "cell_type": "code",
   "execution_count": null,
   "metadata": {
    "collapsed": true
   },
   "outputs": [],
   "source": [
    "# you can approximate how many solutions there are by randomly finding them, and seeing how many times they are the same"
   ]
  },
  {
   "cell_type": "code",
   "execution_count": null,
   "metadata": {
    "collapsed": true
   },
   "outputs": [],
   "source": []
  },
  {
   "cell_type": "code",
   "execution_count": null,
   "metadata": {
    "collapsed": true
   },
   "outputs": [],
   "source": []
  },
  {
   "cell_type": "markdown",
   "metadata": {
    "collapsed": true
   },
   "source": [
    "### Draw Solution : crap below --------"
   ]
  },
  {
   "cell_type": "code",
   "execution_count": 17,
   "metadata": {
    "collapsed": false
   },
   "outputs": [
    {
     "data": {
      "text/plain": [
       "(((1, 1, 1, 1, 1, 1), (1, 1, 1, 1, 1, 1), (1, 1, 1, 1, 1, 1)),\n",
       " ((0, 1, 1, 1, 1, 1), (0, 1, 1, 1, 1, 1), (0, 0, 1, 1, 1, 1)))"
      ]
     },
     "execution_count": 17,
     "metadata": {},
     "output_type": "execute_result"
    }
   ],
   "source": [
    "t[0]"
   ]
  },
  {
   "cell_type": "code",
   "execution_count": 18,
   "metadata": {
    "collapsed": false
   },
   "outputs": [
    {
     "data": {
      "text/plain": [
       "((1, 1, 1, 1, 1, 1), (1, 1, 1, 1, 1, 1), (1, 1, 1, 1, 1, 1))"
      ]
     },
     "execution_count": 18,
     "metadata": {},
     "output_type": "execute_result"
    }
   ],
   "source": [
    "t[0][0]"
   ]
  },
  {
   "cell_type": "code",
   "execution_count": 19,
   "metadata": {
    "collapsed": false
   },
   "outputs": [
    {
     "data": {
      "text/plain": [
       "[((((0, 0, 0, 0, 0, 1), (0, 0, 0, 0, 1, 1), (0, 0, 0, 0, 1, 1)),\n",
       "   ((0, 0, 0, 0, 0, 0), (0, 0, 0, 0, 0, 0), (0, 0, 0, 0, 0, 1))),\n",
       "  0,\n",
       "  0,\n",
       "  (0, 3, 0),\n",
       "  10,\n",
       "  (54, 72, 90, 55, 73, 91, 56, 74, 92, 57, 75, 93, 58, 76, 94, 59, 77, 95)),\n",
       " ((((0, 0, 0, 0, 1, 1), (0, 0, 0, 0, 1, 1), (0, 0, 0, 0, 0, 1)),\n",
       "   ((0, 0, 0, 0, 0, 0), (0, 0, 0, 0, 0, 0), (0, 0, 0, 0, 0, 0))),\n",
       "  0,\n",
       "  0,\n",
       "  (0, 6, 0),\n",
       "  9,\n",
       "  (108,\n",
       "   126,\n",
       "   144,\n",
       "   109,\n",
       "   127,\n",
       "   145,\n",
       "   110,\n",
       "   128,\n",
       "   146,\n",
       "   111,\n",
       "   129,\n",
       "   147,\n",
       "   112,\n",
       "   130,\n",
       "   148,\n",
       "   113,\n",
       "   131,\n",
       "   149)),\n",
       " ((((0, 0, 0, 0, 0, 1), (0, 0, 0, 0, 0, 0), (0, 0, 0, 0, 0, 0)),\n",
       "   ((0, 0, 0, 0, 0, 0), (0, 0, 0, 0, 0, 0), (0, 0, 0, 0, 0, 0))),\n",
       "  0,\n",
       "  0,\n",
       "  (0, 9, 0),\n",
       "  11,\n",
       "  (162,\n",
       "   180,\n",
       "   198,\n",
       "   163,\n",
       "   181,\n",
       "   199,\n",
       "   164,\n",
       "   182,\n",
       "   200,\n",
       "   165,\n",
       "   183,\n",
       "   201,\n",
       "   166,\n",
       "   184,\n",
       "   202,\n",
       "   167,\n",
       "   185,\n",
       "   203)),\n",
       " ((((0, 0, 0, 0, 0, 0), (0, 0, 0, 0, 1, 1), (0, 0, 1, 1, 1, 1)),\n",
       "   ((0, 0, 0, 0, 0, 0), (0, 0, 0, 0, 0, 0), (0, 0, 0, 0, 0, 0))),\n",
       "  0,\n",
       "  0,\n",
       "  (3, 0, 0),\n",
       "  7,\n",
       "  (3, 21, 39, 4, 22, 40, 5, 23, 41, 6, 24, 42, 7, 25, 43, 8, 26, 44)),\n",
       " ((((0, 0, 1, 1, 1, 1), (0, 0, 0, 0, 1, 1), (0, 0, 0, 0, 0, 0)),\n",
       "   ((0, 0, 0, 0, 0, 0), (0, 0, 0, 0, 0, 0), (0, 0, 0, 0, 0, 1))),\n",
       "  0,\n",
       "  0,\n",
       "  (3, 0, 1),\n",
       "  8,\n",
       "  (3, 21, 39, 57, 75, 93, 4, 22, 40, 58, 76, 94, 5, 23, 41, 59, 77, 95)),\n",
       " ((((1, 1, 1, 1, 1, 1), (0, 1, 1, 1, 1, 0), (0, 0, 0, 0, 0, 0)),\n",
       "   ((1, 1, 1, 1, 0, 0), (1, 1, 0, 0, 0, 0), (0, 0, 0, 0, 0, 0))),\n",
       "  0,\n",
       "  0,\n",
       "  (3, 3, 1),\n",
       "  3,\n",
       "  (57,\n",
       "   75,\n",
       "   93,\n",
       "   111,\n",
       "   129,\n",
       "   147,\n",
       "   58,\n",
       "   76,\n",
       "   94,\n",
       "   112,\n",
       "   130,\n",
       "   148,\n",
       "   59,\n",
       "   77,\n",
       "   95,\n",
       "   113,\n",
       "   131,\n",
       "   149)),\n",
       " ((((1, 1, 1, 1, 1, 1), (0, 1, 1, 1, 1, 0), (0, 0, 0, 0, 0, 0)),\n",
       "   ((0, 0, 0, 0, 0, 0), (0, 0, 0, 0, 0, 0), (0, 0, 0, 0, 0, 0))),\n",
       "  0,\n",
       "  0,\n",
       "  (3, 3, 1),\n",
       "  4,\n",
       "  (57,\n",
       "   75,\n",
       "   93,\n",
       "   111,\n",
       "   129,\n",
       "   147,\n",
       "   58,\n",
       "   76,\n",
       "   94,\n",
       "   112,\n",
       "   130,\n",
       "   148,\n",
       "   59,\n",
       "   77,\n",
       "   95,\n",
       "   113,\n",
       "   131,\n",
       "   149)),\n",
       " ((((0, 0, 1, 1, 1, 1), (0, 0, 0, 0, 1, 1), (0, 0, 0, 0, 0, 0)),\n",
       "   ((0, 0, 0, 0, 0, 0), (0, 0, 0, 0, 0, 0), (0, 0, 0, 0, 0, 1))),\n",
       "  0,\n",
       "  0,\n",
       "  (3, 9, 0),\n",
       "  8,\n",
       "  (165,\n",
       "   183,\n",
       "   201,\n",
       "   166,\n",
       "   184,\n",
       "   202,\n",
       "   167,\n",
       "   185,\n",
       "   203,\n",
       "   168,\n",
       "   186,\n",
       "   204,\n",
       "   169,\n",
       "   187,\n",
       "   205,\n",
       "   170,\n",
       "   188,\n",
       "   206)),\n",
       " ((((1, 1, 1, 1, 1, 1), (1, 1, 1, 1, 1, 1), (1, 1, 1, 1, 1, 1)),\n",
       "   ((0, 1, 1, 1, 1, 1), (0, 1, 1, 1, 1, 1), (0, 0, 1, 1, 1, 1))),\n",
       "  0,\n",
       "  0,\n",
       "  (6, 3, 0),\n",
       "  0,\n",
       "  (60, 78, 96, 61, 79, 97, 62, 80, 98, 63, 81, 99, 64, 82, 100, 65, 83, 101)),\n",
       " ((((1, 1, 1, 1, 1, 1), (1, 1, 1, 1, 1, 1), (1, 1, 1, 1, 1, 1)),\n",
       "   ((1, 1, 0, 0, 0, 0), (1, 1, 0, 0, 0, 0), (1, 0, 0, 0, 0, 0))),\n",
       "  0,\n",
       "  0,\n",
       "  (6, 3, 0),\n",
       "  1,\n",
       "  (60, 78, 96, 61, 79, 97, 62, 80, 98, 63, 81, 99, 64, 82, 100, 65, 83, 101)),\n",
       " ((((1, 1, 1, 1, 1, 1), (1, 1, 1, 1, 1, 1), (1, 1, 1, 1, 1, 1)),\n",
       "   ((0, 0, 0, 0, 0, 0), (1, 1, 0, 0, 0, 0), (1, 1, 1, 1, 0, 0))),\n",
       "  0,\n",
       "  0,\n",
       "  (6, 3, 0),\n",
       "  2,\n",
       "  (60, 78, 96, 61, 79, 97, 62, 80, 98, 63, 81, 99, 64, 82, 100, 65, 83, 101)),\n",
       " ((((1, 1, 1, 1, 1, 1), (1, 1, 1, 1, 1, 1), (1, 1, 1, 1, 1, 1)),\n",
       "   ((0, 1, 1, 1, 1, 1), (0, 1, 1, 1, 1, 1), (0, 0, 1, 1, 1, 1))),\n",
       "  0,\n",
       "  0,\n",
       "  (6, 3, 1),\n",
       "  0,\n",
       "  (60,\n",
       "   78,\n",
       "   96,\n",
       "   114,\n",
       "   132,\n",
       "   150,\n",
       "   61,\n",
       "   79,\n",
       "   97,\n",
       "   115,\n",
       "   133,\n",
       "   151,\n",
       "   62,\n",
       "   80,\n",
       "   98,\n",
       "   116,\n",
       "   134,\n",
       "   152)),\n",
       " ((((1, 1, 1, 1, 1, 1), (1, 1, 1, 1, 1, 1), (1, 1, 1, 1, 1, 1)),\n",
       "   ((1, 1, 0, 0, 0, 0), (1, 1, 0, 0, 0, 0), (1, 0, 0, 0, 0, 0))),\n",
       "  0,\n",
       "  0,\n",
       "  (6, 3, 1),\n",
       "  1,\n",
       "  (60,\n",
       "   78,\n",
       "   96,\n",
       "   114,\n",
       "   132,\n",
       "   150,\n",
       "   61,\n",
       "   79,\n",
       "   97,\n",
       "   115,\n",
       "   133,\n",
       "   151,\n",
       "   62,\n",
       "   80,\n",
       "   98,\n",
       "   116,\n",
       "   134,\n",
       "   152)),\n",
       " ((((1, 1, 1, 1, 1, 1), (1, 1, 1, 1, 1, 1), (1, 1, 1, 1, 1, 1)),\n",
       "   ((0, 0, 0, 0, 0, 0), (1, 1, 0, 0, 0, 0), (1, 1, 1, 1, 0, 0))),\n",
       "  0,\n",
       "  0,\n",
       "  (6, 3, 1),\n",
       "  2,\n",
       "  (60,\n",
       "   78,\n",
       "   96,\n",
       "   114,\n",
       "   132,\n",
       "   150,\n",
       "   61,\n",
       "   79,\n",
       "   97,\n",
       "   115,\n",
       "   133,\n",
       "   151,\n",
       "   62,\n",
       "   80,\n",
       "   98,\n",
       "   116,\n",
       "   134,\n",
       "   152)),\n",
       " ((((1, 1, 1, 1, 1, 1), (1, 1, 1, 1, 1, 1), (1, 1, 1, 1, 1, 1)),\n",
       "   ((0, 1, 1, 1, 1, 1), (0, 1, 1, 1, 1, 1), (0, 0, 1, 1, 1, 1))),\n",
       "  0,\n",
       "  0,\n",
       "  (6, 6, 0),\n",
       "  0,\n",
       "  (114,\n",
       "   132,\n",
       "   150,\n",
       "   115,\n",
       "   133,\n",
       "   151,\n",
       "   116,\n",
       "   134,\n",
       "   152,\n",
       "   117,\n",
       "   135,\n",
       "   153,\n",
       "   118,\n",
       "   136,\n",
       "   154,\n",
       "   119,\n",
       "   137,\n",
       "   155)),\n",
       " ((((1, 1, 1, 1, 1, 1), (1, 1, 1, 1, 1, 1), (1, 1, 1, 1, 1, 1)),\n",
       "   ((1, 1, 0, 0, 0, 0), (1, 1, 0, 0, 0, 0), (1, 0, 0, 0, 0, 0))),\n",
       "  0,\n",
       "  0,\n",
       "  (6, 6, 0),\n",
       "  1,\n",
       "  (114,\n",
       "   132,\n",
       "   150,\n",
       "   115,\n",
       "   133,\n",
       "   151,\n",
       "   116,\n",
       "   134,\n",
       "   152,\n",
       "   117,\n",
       "   135,\n",
       "   153,\n",
       "   118,\n",
       "   136,\n",
       "   154,\n",
       "   119,\n",
       "   137,\n",
       "   155)),\n",
       " ((((1, 1, 1, 1, 1, 1), (1, 1, 1, 1, 1, 1), (1, 1, 1, 1, 1, 1)),\n",
       "   ((0, 0, 0, 0, 0, 0), (1, 1, 0, 0, 0, 0), (1, 1, 1, 1, 0, 0))),\n",
       "  0,\n",
       "  0,\n",
       "  (6, 6, 0),\n",
       "  2,\n",
       "  (114,\n",
       "   132,\n",
       "   150,\n",
       "   115,\n",
       "   133,\n",
       "   151,\n",
       "   116,\n",
       "   134,\n",
       "   152,\n",
       "   117,\n",
       "   135,\n",
       "   153,\n",
       "   118,\n",
       "   136,\n",
       "   154,\n",
       "   119,\n",
       "   137,\n",
       "   155)),\n",
       " ((((1, 1, 1, 1, 1, 0), (1, 1, 1, 1, 1, 0), (1, 1, 1, 1, 0, 0)),\n",
       "   ((0, 0, 0, 0, 0, 0), (0, 0, 0, 0, 0, 0), (1, 0, 0, 0, 0, 0))),\n",
       "  0,\n",
       "  0,\n",
       "  (6, 6, 1),\n",
       "  5,\n",
       "  (114,\n",
       "   132,\n",
       "   150,\n",
       "   168,\n",
       "   186,\n",
       "   204,\n",
       "   115,\n",
       "   133,\n",
       "   151,\n",
       "   169,\n",
       "   187,\n",
       "   205,\n",
       "   116,\n",
       "   134,\n",
       "   152,\n",
       "   170,\n",
       "   188,\n",
       "   206)),\n",
       " ((((1, 1, 1, 1, 1, 1), (0, 1, 1, 1, 1, 0), (0, 0, 0, 0, 0, 0)),\n",
       "   ((1, 1, 1, 1, 0, 0), (1, 1, 0, 0, 0, 0), (0, 0, 0, 0, 0, 0))),\n",
       "  0,\n",
       "  0,\n",
       "  (6, 9, 0),\n",
       "  3,\n",
       "  (168,\n",
       "   186,\n",
       "   204,\n",
       "   169,\n",
       "   187,\n",
       "   205,\n",
       "   170,\n",
       "   188,\n",
       "   206,\n",
       "   171,\n",
       "   189,\n",
       "   207,\n",
       "   172,\n",
       "   190,\n",
       "   208,\n",
       "   173,\n",
       "   191,\n",
       "   209)),\n",
       " ((((1, 1, 1, 1, 1, 1), (0, 1, 1, 1, 1, 0), (0, 0, 0, 0, 0, 0)),\n",
       "   ((0, 0, 0, 0, 0, 0), (0, 0, 0, 0, 0, 0), (0, 0, 0, 0, 0, 0))),\n",
       "  0,\n",
       "  0,\n",
       "  (6, 9, 0),\n",
       "  4,\n",
       "  (168,\n",
       "   186,\n",
       "   204,\n",
       "   169,\n",
       "   187,\n",
       "   205,\n",
       "   170,\n",
       "   188,\n",
       "   206,\n",
       "   171,\n",
       "   189,\n",
       "   207,\n",
       "   172,\n",
       "   190,\n",
       "   208,\n",
       "   173,\n",
       "   191,\n",
       "   209)),\n",
       " ((((1, 1, 1, 1, 0, 0), (1, 1, 1, 1, 1, 0), (1, 1, 1, 1, 1, 0)),\n",
       "   ((0, 0, 1, 1, 1, 1), (0, 0, 0, 0, 1, 1), (0, 0, 0, 0, 0, 0))),\n",
       "  0,\n",
       "  0,\n",
       "  (9, 3, 0),\n",
       "  6,\n",
       "  (63,\n",
       "   81,\n",
       "   99,\n",
       "   64,\n",
       "   82,\n",
       "   100,\n",
       "   65,\n",
       "   83,\n",
       "   101,\n",
       "   66,\n",
       "   84,\n",
       "   102,\n",
       "   67,\n",
       "   85,\n",
       "   103,\n",
       "   68,\n",
       "   86,\n",
       "   104)),\n",
       " ((((1, 1, 1, 1, 1, 1), (1, 1, 1, 1, 1, 1), (1, 1, 1, 1, 1, 1)),\n",
       "   ((0, 1, 1, 1, 1, 1), (0, 1, 1, 1, 1, 1), (0, 0, 1, 1, 1, 1))),\n",
       "  0,\n",
       "  0,\n",
       "  (9, 3, 1),\n",
       "  0,\n",
       "  (63,\n",
       "   81,\n",
       "   99,\n",
       "   117,\n",
       "   135,\n",
       "   153,\n",
       "   64,\n",
       "   82,\n",
       "   100,\n",
       "   118,\n",
       "   136,\n",
       "   154,\n",
       "   65,\n",
       "   83,\n",
       "   101,\n",
       "   119,\n",
       "   137,\n",
       "   155)),\n",
       " ((((1, 1, 1, 1, 1, 1), (1, 1, 1, 1, 1, 1), (1, 1, 1, 1, 1, 1)),\n",
       "   ((1, 1, 0, 0, 0, 0), (1, 1, 0, 0, 0, 0), (1, 0, 0, 0, 0, 0))),\n",
       "  0,\n",
       "  0,\n",
       "  (9, 3, 1),\n",
       "  1,\n",
       "  (63,\n",
       "   81,\n",
       "   99,\n",
       "   117,\n",
       "   135,\n",
       "   153,\n",
       "   64,\n",
       "   82,\n",
       "   100,\n",
       "   118,\n",
       "   136,\n",
       "   154,\n",
       "   65,\n",
       "   83,\n",
       "   101,\n",
       "   119,\n",
       "   137,\n",
       "   155)),\n",
       " ((((1, 1, 1, 1, 1, 1), (1, 1, 1, 1, 1, 1), (1, 1, 1, 1, 1, 1)),\n",
       "   ((0, 0, 0, 0, 0, 0), (1, 1, 0, 0, 0, 0), (1, 1, 1, 1, 0, 0))),\n",
       "  0,\n",
       "  0,\n",
       "  (9, 3, 1),\n",
       "  2,\n",
       "  (63,\n",
       "   81,\n",
       "   99,\n",
       "   117,\n",
       "   135,\n",
       "   153,\n",
       "   64,\n",
       "   82,\n",
       "   100,\n",
       "   118,\n",
       "   136,\n",
       "   154,\n",
       "   65,\n",
       "   83,\n",
       "   101,\n",
       "   119,\n",
       "   137,\n",
       "   155)),\n",
       " ((((1, 1, 1, 1, 1, 0), (1, 1, 1, 1, 1, 0), (1, 1, 1, 1, 0, 0)),\n",
       "   ((0, 0, 0, 0, 0, 0), (0, 0, 0, 0, 0, 0), (1, 0, 0, 0, 0, 0))),\n",
       "  0,\n",
       "  0,\n",
       "  (9, 6, 0),\n",
       "  5,\n",
       "  (117,\n",
       "   135,\n",
       "   153,\n",
       "   118,\n",
       "   136,\n",
       "   154,\n",
       "   119,\n",
       "   137,\n",
       "   155,\n",
       "   120,\n",
       "   138,\n",
       "   156,\n",
       "   121,\n",
       "   139,\n",
       "   157,\n",
       "   122,\n",
       "   140,\n",
       "   158)),\n",
       " ((((1, 1, 1, 1, 0, 0), (1, 1, 1, 1, 1, 0), (1, 1, 1, 1, 1, 0)),\n",
       "   ((0, 0, 1, 1, 1, 1), (0, 0, 0, 0, 1, 1), (0, 0, 0, 0, 0, 0))),\n",
       "  0,\n",
       "  0,\n",
       "  (9, 6, 1),\n",
       "  6,\n",
       "  (117,\n",
       "   135,\n",
       "   153,\n",
       "   171,\n",
       "   189,\n",
       "   207,\n",
       "   118,\n",
       "   136,\n",
       "   154,\n",
       "   172,\n",
       "   190,\n",
       "   208,\n",
       "   119,\n",
       "   137,\n",
       "   155,\n",
       "   173,\n",
       "   191,\n",
       "   209)),\n",
       " ((((0, 0, 0, 0, 0, 0), (0, 0, 0, 0, 1, 1), (0, 0, 1, 1, 1, 1)),\n",
       "   ((0, 0, 0, 0, 0, 0), (0, 0, 0, 0, 0, 0), (0, 0, 0, 0, 0, 0))),\n",
       "  0,\n",
       "  0,\n",
       "  (12, 0, 1),\n",
       "  7,\n",
       "  (12, 30, 48, 66, 84, 102, 13, 31, 49, 67, 85, 103, 14, 32, 50, 68, 86, 104)),\n",
       " ((((1, 1, 1, 1, 1, 0), (1, 1, 1, 1, 1, 0), (1, 1, 1, 1, 0, 0)),\n",
       "   ((0, 0, 0, 0, 0, 0), (0, 0, 0, 0, 0, 0), (1, 0, 0, 0, 0, 0))),\n",
       "  0,\n",
       "  1,\n",
       "  (3, 3, 0),\n",
       "  5,\n",
       "  (57, 75, 93, 58, 76, 94, 59, 77, 95, 60, 78, 96, 61, 79, 97, 62, 80, 98)),\n",
       " ((((1, 1, 1, 1, 0, 0), (1, 1, 1, 1, 1, 0), (1, 1, 1, 1, 1, 0)),\n",
       "   ((0, 0, 1, 1, 1, 1), (0, 0, 0, 0, 1, 1), (0, 0, 0, 0, 0, 0))),\n",
       "  0,\n",
       "  1,\n",
       "  (3, 6, 0),\n",
       "  6,\n",
       "  (111,\n",
       "   129,\n",
       "   147,\n",
       "   112,\n",
       "   130,\n",
       "   148,\n",
       "   113,\n",
       "   131,\n",
       "   149,\n",
       "   114,\n",
       "   132,\n",
       "   150,\n",
       "   115,\n",
       "   133,\n",
       "   151,\n",
       "   116,\n",
       "   134,\n",
       "   152)),\n",
       " ((((0, 0, 0, 0, 0, 0), (0, 0, 0, 0, 1, 1), (0, 0, 1, 1, 1, 1)),\n",
       "   ((0, 0, 0, 0, 0, 0), (0, 0, 0, 0, 0, 0), (0, 0, 0, 0, 0, 0))),\n",
       "  0,\n",
       "  1,\n",
       "  (3, 6, 1),\n",
       "  7,\n",
       "  (111,\n",
       "   129,\n",
       "   147,\n",
       "   165,\n",
       "   183,\n",
       "   201,\n",
       "   112,\n",
       "   130,\n",
       "   148,\n",
       "   166,\n",
       "   184,\n",
       "   202,\n",
       "   113,\n",
       "   131,\n",
       "   149,\n",
       "   167,\n",
       "   185,\n",
       "   203)),\n",
       " ((((1, 1, 1, 1, 1, 1), (0, 1, 1, 1, 1, 0), (0, 0, 0, 0, 0, 0)),\n",
       "   ((1, 1, 1, 1, 0, 0), (1, 1, 0, 0, 0, 0), (0, 0, 0, 0, 0, 0))),\n",
       "  0,\n",
       "  1,\n",
       "  (6, 0, 0),\n",
       "  3,\n",
       "  (6, 24, 42, 7, 25, 43, 8, 26, 44, 9, 27, 45, 10, 28, 46, 11, 29, 47)),\n",
       " ((((1, 1, 1, 1, 1, 1), (0, 1, 1, 1, 1, 0), (0, 0, 0, 0, 0, 0)),\n",
       "   ((0, 0, 0, 0, 0, 0), (0, 0, 0, 0, 0, 0), (0, 0, 0, 0, 0, 0))),\n",
       "  0,\n",
       "  1,\n",
       "  (6, 0, 0),\n",
       "  4,\n",
       "  (6, 24, 42, 7, 25, 43, 8, 26, 44, 9, 27, 45, 10, 28, 46, 11, 29, 47)),\n",
       " ((((1, 1, 1, 1, 0, 0), (1, 1, 1, 1, 1, 0), (1, 1, 1, 1, 1, 0)),\n",
       "   ((0, 0, 1, 1, 1, 1), (0, 0, 0, 0, 1, 1), (0, 0, 0, 0, 0, 0))),\n",
       "  0,\n",
       "  1,\n",
       "  (6, 0, 1),\n",
       "  6,\n",
       "  (6, 24, 42, 60, 78, 96, 7, 25, 43, 61, 79, 97, 8, 26, 44, 62, 80, 98)),\n",
       " ((((1, 1, 1, 1, 1, 1), (1, 1, 1, 1, 1, 1), (1, 1, 1, 1, 1, 1)),\n",
       "   ((0, 1, 1, 1, 1, 1), (0, 1, 1, 1, 1, 1), (0, 0, 1, 1, 1, 1))),\n",
       "  0,\n",
       "  1,\n",
       "  (6, 3, 0),\n",
       "  0,\n",
       "  (60, 78, 96, 61, 79, 97, 62, 80, 98, 63, 81, 99, 64, 82, 100, 65, 83, 101)),\n",
       " ((((1, 1, 1, 1, 1, 1), (1, 1, 1, 1, 1, 1), (1, 1, 1, 1, 1, 1)),\n",
       "   ((1, 1, 0, 0, 0, 0), (1, 1, 0, 0, 0, 0), (1, 0, 0, 0, 0, 0))),\n",
       "  0,\n",
       "  1,\n",
       "  (6, 3, 0),\n",
       "  1,\n",
       "  (60, 78, 96, 61, 79, 97, 62, 80, 98, 63, 81, 99, 64, 82, 100, 65, 83, 101)),\n",
       " ((((1, 1, 1, 1, 1, 1), (1, 1, 1, 1, 1, 1), (1, 1, 1, 1, 1, 1)),\n",
       "   ((0, 0, 0, 0, 0, 0), (1, 1, 0, 0, 0, 0), (1, 1, 1, 1, 0, 0))),\n",
       "  0,\n",
       "  1,\n",
       "  (6, 3, 0),\n",
       "  2,\n",
       "  (60, 78, 96, 61, 79, 97, 62, 80, 98, 63, 81, 99, 64, 82, 100, 65, 83, 101)),\n",
       " ((((1, 1, 1, 1, 1, 1), (1, 1, 1, 1, 1, 1), (1, 1, 1, 1, 1, 1)),\n",
       "   ((0, 1, 1, 1, 1, 1), (0, 1, 1, 1, 1, 1), (0, 0, 1, 1, 1, 1))),\n",
       "  0,\n",
       "  1,\n",
       "  (6, 3, 1),\n",
       "  0,\n",
       "  (60,\n",
       "   78,\n",
       "   96,\n",
       "   114,\n",
       "   132,\n",
       "   150,\n",
       "   61,\n",
       "   79,\n",
       "   97,\n",
       "   115,\n",
       "   133,\n",
       "   151,\n",
       "   62,\n",
       "   80,\n",
       "   98,\n",
       "   116,\n",
       "   134,\n",
       "   152)),\n",
       " ((((1, 1, 1, 1, 1, 1), (1, 1, 1, 1, 1, 1), (1, 1, 1, 1, 1, 1)),\n",
       "   ((1, 1, 0, 0, 0, 0), (1, 1, 0, 0, 0, 0), (1, 0, 0, 0, 0, 0))),\n",
       "  0,\n",
       "  1,\n",
       "  (6, 3, 1),\n",
       "  1,\n",
       "  (60,\n",
       "   78,\n",
       "   96,\n",
       "   114,\n",
       "   132,\n",
       "   150,\n",
       "   61,\n",
       "   79,\n",
       "   97,\n",
       "   115,\n",
       "   133,\n",
       "   151,\n",
       "   62,\n",
       "   80,\n",
       "   98,\n",
       "   116,\n",
       "   134,\n",
       "   152)),\n",
       " ((((1, 1, 1, 1, 1, 1), (1, 1, 1, 1, 1, 1), (1, 1, 1, 1, 1, 1)),\n",
       "   ((0, 0, 0, 0, 0, 0), (1, 1, 0, 0, 0, 0), (1, 1, 1, 1, 0, 0))),\n",
       "  0,\n",
       "  1,\n",
       "  (6, 3, 1),\n",
       "  2,\n",
       "  (60,\n",
       "   78,\n",
       "   96,\n",
       "   114,\n",
       "   132,\n",
       "   150,\n",
       "   61,\n",
       "   79,\n",
       "   97,\n",
       "   115,\n",
       "   133,\n",
       "   151,\n",
       "   62,\n",
       "   80,\n",
       "   98,\n",
       "   116,\n",
       "   134,\n",
       "   152)),\n",
       " ((((1, 1, 1, 1, 1, 1), (1, 1, 1, 1, 1, 1), (1, 1, 1, 1, 1, 1)),\n",
       "   ((0, 1, 1, 1, 1, 1), (0, 1, 1, 1, 1, 1), (0, 0, 1, 1, 1, 1))),\n",
       "  0,\n",
       "  1,\n",
       "  (6, 6, 0),\n",
       "  0,\n",
       "  (114,\n",
       "   132,\n",
       "   150,\n",
       "   115,\n",
       "   133,\n",
       "   151,\n",
       "   116,\n",
       "   134,\n",
       "   152,\n",
       "   117,\n",
       "   135,\n",
       "   153,\n",
       "   118,\n",
       "   136,\n",
       "   154,\n",
       "   119,\n",
       "   137,\n",
       "   155)),\n",
       " ((((1, 1, 1, 1, 1, 1), (1, 1, 1, 1, 1, 1), (1, 1, 1, 1, 1, 1)),\n",
       "   ((1, 1, 0, 0, 0, 0), (1, 1, 0, 0, 0, 0), (1, 0, 0, 0, 0, 0))),\n",
       "  0,\n",
       "  1,\n",
       "  (6, 6, 0),\n",
       "  1,\n",
       "  (114,\n",
       "   132,\n",
       "   150,\n",
       "   115,\n",
       "   133,\n",
       "   151,\n",
       "   116,\n",
       "   134,\n",
       "   152,\n",
       "   117,\n",
       "   135,\n",
       "   153,\n",
       "   118,\n",
       "   136,\n",
       "   154,\n",
       "   119,\n",
       "   137,\n",
       "   155)),\n",
       " ((((1, 1, 1, 1, 1, 1), (1, 1, 1, 1, 1, 1), (1, 1, 1, 1, 1, 1)),\n",
       "   ((0, 0, 0, 0, 0, 0), (1, 1, 0, 0, 0, 0), (1, 1, 1, 1, 0, 0))),\n",
       "  0,\n",
       "  1,\n",
       "  (6, 6, 0),\n",
       "  2,\n",
       "  (114,\n",
       "   132,\n",
       "   150,\n",
       "   115,\n",
       "   133,\n",
       "   151,\n",
       "   116,\n",
       "   134,\n",
       "   152,\n",
       "   117,\n",
       "   135,\n",
       "   153,\n",
       "   118,\n",
       "   136,\n",
       "   154,\n",
       "   119,\n",
       "   137,\n",
       "   155)),\n",
       " ((((0, 0, 1, 1, 1, 1), (0, 0, 0, 0, 1, 1), (0, 0, 0, 0, 0, 0)),\n",
       "   ((0, 0, 0, 0, 0, 0), (0, 0, 0, 0, 0, 0), (0, 0, 0, 0, 0, 1))),\n",
       "  0,\n",
       "  1,\n",
       "  (9, 0, 0),\n",
       "  8,\n",
       "  (9, 27, 45, 10, 28, 46, 11, 29, 47, 12, 30, 48, 13, 31, 49, 14, 32, 50)),\n",
       " ((((1, 1, 1, 1, 1, 0), (1, 1, 1, 1, 1, 0), (1, 1, 1, 1, 0, 0)),\n",
       "   ((0, 0, 0, 0, 0, 0), (0, 0, 0, 0, 0, 0), (1, 0, 0, 0, 0, 0))),\n",
       "  0,\n",
       "  1,\n",
       "  (9, 0, 1),\n",
       "  5,\n",
       "  (9, 27, 45, 63, 81, 99, 10, 28, 46, 64, 82, 100, 11, 29, 47, 65, 83, 101)),\n",
       " ((((1, 1, 1, 1, 1, 1), (1, 1, 1, 1, 1, 1), (1, 1, 1, 1, 1, 1)),\n",
       "   ((0, 1, 1, 1, 1, 1), (0, 1, 1, 1, 1, 1), (0, 0, 1, 1, 1, 1))),\n",
       "  0,\n",
       "  1,\n",
       "  (9, 3, 1),\n",
       "  0,\n",
       "  (63,\n",
       "   81,\n",
       "   99,\n",
       "   117,\n",
       "   135,\n",
       "   153,\n",
       "   64,\n",
       "   82,\n",
       "   100,\n",
       "   118,\n",
       "   136,\n",
       "   154,\n",
       "   65,\n",
       "   83,\n",
       "   101,\n",
       "   119,\n",
       "   137,\n",
       "   155)),\n",
       " ((((1, 1, 1, 1, 1, 1), (1, 1, 1, 1, 1, 1), (1, 1, 1, 1, 1, 1)),\n",
       "   ((1, 1, 0, 0, 0, 0), (1, 1, 0, 0, 0, 0), (1, 0, 0, 0, 0, 0))),\n",
       "  0,\n",
       "  1,\n",
       "  (9, 3, 1),\n",
       "  1,\n",
       "  (63,\n",
       "   81,\n",
       "   99,\n",
       "   117,\n",
       "   135,\n",
       "   153,\n",
       "   64,\n",
       "   82,\n",
       "   100,\n",
       "   118,\n",
       "   136,\n",
       "   154,\n",
       "   65,\n",
       "   83,\n",
       "   101,\n",
       "   119,\n",
       "   137,\n",
       "   155)),\n",
       " ((((1, 1, 1, 1, 1, 1), (1, 1, 1, 1, 1, 1), (1, 1, 1, 1, 1, 1)),\n",
       "   ((0, 0, 0, 0, 0, 0), (1, 1, 0, 0, 0, 0), (1, 1, 1, 1, 0, 0))),\n",
       "  0,\n",
       "  1,\n",
       "  (9, 3, 1),\n",
       "  2,\n",
       "  (63,\n",
       "   81,\n",
       "   99,\n",
       "   117,\n",
       "   135,\n",
       "   153,\n",
       "   64,\n",
       "   82,\n",
       "   100,\n",
       "   118,\n",
       "   136,\n",
       "   154,\n",
       "   65,\n",
       "   83,\n",
       "   101,\n",
       "   119,\n",
       "   137,\n",
       "   155)),\n",
       " ((((0, 0, 0, 0, 0, 0), (0, 0, 0, 0, 1, 1), (0, 0, 1, 1, 1, 1)),\n",
       "   ((0, 0, 0, 0, 0, 0), (0, 0, 0, 0, 0, 0), (0, 0, 0, 0, 0, 0))),\n",
       "  0,\n",
       "  1,\n",
       "  (9, 9, 0),\n",
       "  7,\n",
       "  (171,\n",
       "   189,\n",
       "   207,\n",
       "   172,\n",
       "   190,\n",
       "   208,\n",
       "   173,\n",
       "   191,\n",
       "   209,\n",
       "   174,\n",
       "   192,\n",
       "   210,\n",
       "   175,\n",
       "   193,\n",
       "   211,\n",
       "   176,\n",
       "   194,\n",
       "   212)),\n",
       " ((((0, 0, 0, 0, 0, 1), (0, 0, 0, 0, 0, 0), (0, 0, 0, 0, 0, 0)),\n",
       "   ((0, 0, 0, 0, 0, 0), (0, 0, 0, 0, 0, 0), (0, 0, 0, 0, 0, 0))),\n",
       "  0,\n",
       "  1,\n",
       "  (12, 0, 0),\n",
       "  11,\n",
       "  (12, 30, 48, 13, 31, 49, 14, 32, 50, 15, 33, 51, 16, 34, 52, 17, 35, 53)),\n",
       " ((((0, 0, 0, 0, 1, 1), (0, 0, 0, 0, 1, 1), (0, 0, 0, 0, 0, 1)),\n",
       "   ((0, 0, 0, 0, 0, 0), (0, 0, 0, 0, 0, 0), (0, 0, 0, 0, 0, 0))),\n",
       "  0,\n",
       "  1,\n",
       "  (12, 3, 0),\n",
       "  9,\n",
       "  (66,\n",
       "   84,\n",
       "   102,\n",
       "   67,\n",
       "   85,\n",
       "   103,\n",
       "   68,\n",
       "   86,\n",
       "   104,\n",
       "   69,\n",
       "   87,\n",
       "   105,\n",
       "   70,\n",
       "   88,\n",
       "   106,\n",
       "   71,\n",
       "   89,\n",
       "   107)),\n",
       " ((((1, 1, 1, 1, 1, 1), (0, 1, 1, 1, 1, 0), (0, 0, 0, 0, 0, 0)),\n",
       "   ((1, 1, 1, 1, 0, 0), (1, 1, 0, 0, 0, 0), (0, 0, 0, 0, 0, 0))),\n",
       "  0,\n",
       "  1,\n",
       "  (12, 3, 1),\n",
       "  3,\n",
       "  (66,\n",
       "   84,\n",
       "   102,\n",
       "   120,\n",
       "   138,\n",
       "   156,\n",
       "   67,\n",
       "   85,\n",
       "   103,\n",
       "   121,\n",
       "   139,\n",
       "   157,\n",
       "   68,\n",
       "   86,\n",
       "   104,\n",
       "   122,\n",
       "   140,\n",
       "   158)),\n",
       " ((((1, 1, 1, 1, 1, 1), (0, 1, 1, 1, 1, 0), (0, 0, 0, 0, 0, 0)),\n",
       "   ((0, 0, 0, 0, 0, 0), (0, 0, 0, 0, 0, 0), (0, 0, 0, 0, 0, 0))),\n",
       "  0,\n",
       "  1,\n",
       "  (12, 3, 1),\n",
       "  4,\n",
       "  (66,\n",
       "   84,\n",
       "   102,\n",
       "   120,\n",
       "   138,\n",
       "   156,\n",
       "   67,\n",
       "   85,\n",
       "   103,\n",
       "   121,\n",
       "   139,\n",
       "   157,\n",
       "   68,\n",
       "   86,\n",
       "   104,\n",
       "   122,\n",
       "   140,\n",
       "   158)),\n",
       " ((((0, 0, 0, 0, 0, 1), (0, 0, 0, 0, 1, 1), (0, 0, 0, 0, 1, 1)),\n",
       "   ((0, 0, 0, 0, 0, 0), (0, 0, 0, 0, 0, 0), (0, 0, 0, 0, 0, 1))),\n",
       "  0,\n",
       "  1,\n",
       "  (12, 6, 0),\n",
       "  10,\n",
       "  (120,\n",
       "   138,\n",
       "   156,\n",
       "   121,\n",
       "   139,\n",
       "   157,\n",
       "   122,\n",
       "   140,\n",
       "   158,\n",
       "   123,\n",
       "   141,\n",
       "   159,\n",
       "   124,\n",
       "   142,\n",
       "   160,\n",
       "   125,\n",
       "   143,\n",
       "   161)),\n",
       " ((((0, 0, 1, 1, 1, 1), (0, 0, 0, 0, 1, 1), (0, 0, 0, 0, 0, 0)),\n",
       "   ((0, 0, 0, 0, 0, 0), (0, 0, 0, 0, 0, 0), (0, 0, 0, 0, 0, 1))),\n",
       "  0,\n",
       "  1,\n",
       "  (12, 6, 1),\n",
       "  8,\n",
       "  (120,\n",
       "   138,\n",
       "   156,\n",
       "   174,\n",
       "   192,\n",
       "   210,\n",
       "   121,\n",
       "   139,\n",
       "   157,\n",
       "   175,\n",
       "   193,\n",
       "   211,\n",
       "   122,\n",
       "   140,\n",
       "   158,\n",
       "   176,\n",
       "   194,\n",
       "   212)),\n",
       " ((((0, 0, 1, 1, 1, 1), (0, 0, 0, 0, 1, 1), (0, 0, 0, 0, 0, 0)),\n",
       "   ((0, 0, 0, 0, 0, 0), (0, 0, 0, 0, 0, 0), (0, 0, 0, 0, 0, 1))),\n",
       "  1,\n",
       "  0,\n",
       "  (0, 0, 0),\n",
       "  8,\n",
       "  (0, 18, 36, 1, 19, 37, 2, 20, 38, 3, 21, 39, 4, 22, 40, 5, 23, 41)),\n",
       " ((((0, 0, 0, 0, 0, 1), (0, 0, 0, 0, 1, 1), (0, 0, 0, 0, 1, 1)),\n",
       "   ((0, 0, 0, 0, 0, 0), (0, 0, 0, 0, 0, 0), (0, 0, 0, 0, 0, 1))),\n",
       "  1,\n",
       "  0,\n",
       "  (0, 0, 0),\n",
       "  10,\n",
       "  (0, 18, 36, 1, 19, 37, 2, 20, 38, 3, 21, 39, 4, 22, 40, 5, 23, 41)),\n",
       " ((((1, 1, 1, 1, 1, 1), (0, 1, 1, 1, 1, 0), (0, 0, 0, 0, 0, 0)),\n",
       "   ((0, 0, 0, 0, 0, 0), (0, 0, 0, 0, 0, 0), (0, 0, 0, 0, 0, 0))),\n",
       "  1,\n",
       "  0,\n",
       "  (0, 0, 1),\n",
       "  4,\n",
       "  (0, 18, 36, 54, 72, 90, 1, 19, 37, 55, 73, 91, 2, 20, 38, 56, 74, 92)),\n",
       " ((((0, 0, 0, 0, 0, 0), (0, 0, 0, 0, 1, 1), (0, 0, 1, 1, 1, 1)),\n",
       "   ((0, 0, 0, 0, 0, 0), (0, 0, 0, 0, 0, 0), (0, 0, 0, 0, 0, 0))),\n",
       "  1,\n",
       "  0,\n",
       "  (0, 0, 1),\n",
       "  7,\n",
       "  (0, 18, 36, 54, 72, 90, 1, 19, 37, 55, 73, 91, 2, 20, 38, 56, 74, 92)),\n",
       " ((((0, 0, 0, 0, 1, 1), (0, 0, 0, 0, 1, 1), (0, 0, 0, 0, 0, 1)),\n",
       "   ((0, 0, 0, 0, 0, 0), (0, 0, 0, 0, 0, 0), (0, 0, 0, 0, 0, 0))),\n",
       "  1,\n",
       "  0,\n",
       "  (0, 0, 1),\n",
       "  9,\n",
       "  (0, 18, 36, 54, 72, 90, 1, 19, 37, 55, 73, 91, 2, 20, 38, 56, 74, 92)),\n",
       " ((((0, 0, 0, 0, 0, 1), (0, 0, 0, 0, 0, 0), (0, 0, 0, 0, 0, 0)),\n",
       "   ((0, 0, 0, 0, 0, 0), (0, 0, 0, 0, 0, 0), (0, 0, 0, 0, 0, 0))),\n",
       "  1,\n",
       "  0,\n",
       "  (0, 0, 1),\n",
       "  11,\n",
       "  (0, 18, 36, 54, 72, 90, 1, 19, 37, 55, 73, 91, 2, 20, 38, 56, 74, 92)),\n",
       " ((((1, 1, 1, 1, 1, 1), (0, 1, 1, 1, 1, 0), (0, 0, 0, 0, 0, 0)),\n",
       "   ((0, 0, 0, 0, 0, 0), (0, 0, 0, 0, 0, 0), (0, 0, 0, 0, 0, 0))),\n",
       "  1,\n",
       "  0,\n",
       "  (0, 3, 1),\n",
       "  4,\n",
       "  (54,\n",
       "   72,\n",
       "   90,\n",
       "   108,\n",
       "   126,\n",
       "   144,\n",
       "   55,\n",
       "   73,\n",
       "   91,\n",
       "   109,\n",
       "   127,\n",
       "   145,\n",
       "   56,\n",
       "   74,\n",
       "   92,\n",
       "   110,\n",
       "   128,\n",
       "   146)),\n",
       " ((((0, 0, 0, 0, 0, 0), (0, 0, 0, 0, 1, 1), (0, 0, 1, 1, 1, 1)),\n",
       "   ((0, 0, 0, 0, 0, 0), (0, 0, 0, 0, 0, 0), (0, 0, 0, 0, 0, 0))),\n",
       "  1,\n",
       "  0,\n",
       "  (0, 3, 1),\n",
       "  7,\n",
       "  (54,\n",
       "   72,\n",
       "   90,\n",
       "   108,\n",
       "   126,\n",
       "   144,\n",
       "   55,\n",
       "   73,\n",
       "   91,\n",
       "   109,\n",
       "   127,\n",
       "   145,\n",
       "   56,\n",
       "   74,\n",
       "   92,\n",
       "   110,\n",
       "   128,\n",
       "   146)),\n",
       " ((((0, 0, 0, 0, 1, 1), (0, 0, 0, 0, 1, 1), (0, 0, 0, 0, 0, 1)),\n",
       "   ((0, 0, 0, 0, 0, 0), (0, 0, 0, 0, 0, 0), (0, 0, 0, 0, 0, 0))),\n",
       "  1,\n",
       "  0,\n",
       "  (0, 3, 1),\n",
       "  9,\n",
       "  (54,\n",
       "   72,\n",
       "   90,\n",
       "   108,\n",
       "   126,\n",
       "   144,\n",
       "   55,\n",
       "   73,\n",
       "   91,\n",
       "   109,\n",
       "   127,\n",
       "   145,\n",
       "   56,\n",
       "   74,\n",
       "   92,\n",
       "   110,\n",
       "   128,\n",
       "   146)),\n",
       " ((((0, 0, 0, 0, 0, 1), (0, 0, 0, 0, 0, 0), (0, 0, 0, 0, 0, 0)),\n",
       "   ((0, 0, 0, 0, 0, 0), (0, 0, 0, 0, 0, 0), (0, 0, 0, 0, 0, 0))),\n",
       "  1,\n",
       "  0,\n",
       "  (0, 3, 1),\n",
       "  11,\n",
       "  (54,\n",
       "   72,\n",
       "   90,\n",
       "   108,\n",
       "   126,\n",
       "   144,\n",
       "   55,\n",
       "   73,\n",
       "   91,\n",
       "   109,\n",
       "   127,\n",
       "   145,\n",
       "   56,\n",
       "   74,\n",
       "   92,\n",
       "   110,\n",
       "   128,\n",
       "   146)),\n",
       " ((((1, 1, 1, 1, 1, 1), (0, 1, 1, 1, 1, 0), (0, 0, 0, 0, 0, 0)),\n",
       "   ((0, 0, 0, 0, 0, 0), (0, 0, 0, 0, 0, 0), (0, 0, 0, 0, 0, 0))),\n",
       "  1,\n",
       "  0,\n",
       "  (0, 6, 1),\n",
       "  4,\n",
       "  (108,\n",
       "   126,\n",
       "   144,\n",
       "   162,\n",
       "   180,\n",
       "   198,\n",
       "   109,\n",
       "   127,\n",
       "   145,\n",
       "   163,\n",
       "   181,\n",
       "   199,\n",
       "   110,\n",
       "   128,\n",
       "   146,\n",
       "   164,\n",
       "   182,\n",
       "   200)),\n",
       " ((((0, 0, 0, 0, 0, 0), (0, 0, 0, 0, 1, 1), (0, 0, 1, 1, 1, 1)),\n",
       "   ((0, 0, 0, 0, 0, 0), (0, 0, 0, 0, 0, 0), (0, 0, 0, 0, 0, 0))),\n",
       "  1,\n",
       "  0,\n",
       "  (0, 6, 1),\n",
       "  7,\n",
       "  (108,\n",
       "   126,\n",
       "   144,\n",
       "   162,\n",
       "   180,\n",
       "   198,\n",
       "   109,\n",
       "   127,\n",
       "   145,\n",
       "   163,\n",
       "   181,\n",
       "   199,\n",
       "   110,\n",
       "   128,\n",
       "   146,\n",
       "   164,\n",
       "   182,\n",
       "   200)),\n",
       " ((((0, 0, 0, 0, 1, 1), (0, 0, 0, 0, 1, 1), (0, 0, 0, 0, 0, 1)),\n",
       "   ((0, 0, 0, 0, 0, 0), (0, 0, 0, 0, 0, 0), (0, 0, 0, 0, 0, 0))),\n",
       "  1,\n",
       "  0,\n",
       "  (0, 6, 1),\n",
       "  9,\n",
       "  (108,\n",
       "   126,\n",
       "   144,\n",
       "   162,\n",
       "   180,\n",
       "   198,\n",
       "   109,\n",
       "   127,\n",
       "   145,\n",
       "   163,\n",
       "   181,\n",
       "   199,\n",
       "   110,\n",
       "   128,\n",
       "   146,\n",
       "   164,\n",
       "   182,\n",
       "   200)),\n",
       " ((((0, 0, 0, 0, 0, 1), (0, 0, 0, 0, 0, 0), (0, 0, 0, 0, 0, 0)),\n",
       "   ((0, 0, 0, 0, 0, 0), (0, 0, 0, 0, 0, 0), (0, 0, 0, 0, 0, 0))),\n",
       "  1,\n",
       "  0,\n",
       "  (0, 6, 1),\n",
       "  11,\n",
       "  (108,\n",
       "   126,\n",
       "   144,\n",
       "   162,\n",
       "   180,\n",
       "   198,\n",
       "   109,\n",
       "   127,\n",
       "   145,\n",
       "   163,\n",
       "   181,\n",
       "   199,\n",
       "   110,\n",
       "   128,\n",
       "   146,\n",
       "   164,\n",
       "   182,\n",
       "   200)),\n",
       " ((((1, 1, 1, 1, 0, 0), (1, 1, 1, 1, 1, 0), (1, 1, 1, 1, 1, 0)),\n",
       "   ((0, 0, 1, 1, 1, 1), (0, 0, 0, 0, 1, 1), (0, 0, 0, 0, 0, 0))),\n",
       "  1,\n",
       "  0,\n",
       "  (3, 0, 1),\n",
       "  6,\n",
       "  (3, 21, 39, 57, 75, 93, 4, 22, 40, 58, 76, 94, 5, 23, 41, 59, 77, 95)),\n",
       " ((((1, 1, 1, 1, 1, 1), (1, 1, 1, 1, 1, 1), (1, 1, 1, 1, 1, 1)),\n",
       "   ((0, 1, 1, 1, 1, 1), (0, 1, 1, 1, 1, 1), (0, 0, 1, 1, 1, 1))),\n",
       "  1,\n",
       "  0,\n",
       "  (3, 6, 0),\n",
       "  0,\n",
       "  (111,\n",
       "   129,\n",
       "   147,\n",
       "   112,\n",
       "   130,\n",
       "   148,\n",
       "   113,\n",
       "   131,\n",
       "   149,\n",
       "   114,\n",
       "   132,\n",
       "   150,\n",
       "   115,\n",
       "   133,\n",
       "   151,\n",
       "   116,\n",
       "   134,\n",
       "   152)),\n",
       " ((((1, 1, 1, 1, 1, 1), (0, 1, 1, 1, 1, 0), (0, 0, 0, 0, 0, 0)),\n",
       "   ((1, 1, 1, 1, 0, 0), (1, 1, 0, 0, 0, 0), (0, 0, 0, 0, 0, 0))),\n",
       "  1,\n",
       "  0,\n",
       "  (3, 6, 1),\n",
       "  3,\n",
       "  (111,\n",
       "   129,\n",
       "   147,\n",
       "   165,\n",
       "   183,\n",
       "   201,\n",
       "   112,\n",
       "   130,\n",
       "   148,\n",
       "   166,\n",
       "   184,\n",
       "   202,\n",
       "   113,\n",
       "   131,\n",
       "   149,\n",
       "   167,\n",
       "   185,\n",
       "   203)),\n",
       " ((((1, 1, 1, 1, 0, 0), (1, 1, 1, 1, 1, 0), (1, 1, 1, 1, 1, 0)),\n",
       "   ((0, 0, 1, 1, 1, 1), (0, 0, 0, 0, 1, 1), (0, 0, 0, 0, 0, 0))),\n",
       "  1,\n",
       "  0,\n",
       "  (3, 9, 0),\n",
       "  6,\n",
       "  (165,\n",
       "   183,\n",
       "   201,\n",
       "   166,\n",
       "   184,\n",
       "   202,\n",
       "   167,\n",
       "   185,\n",
       "   203,\n",
       "   168,\n",
       "   186,\n",
       "   204,\n",
       "   169,\n",
       "   187,\n",
       "   205,\n",
       "   170,\n",
       "   188,\n",
       "   206)),\n",
       " ((((1, 1, 1, 1, 1, 1), (1, 1, 1, 1, 1, 1), (1, 1, 1, 1, 1, 1)),\n",
       "   ((0, 1, 1, 1, 1, 1), (0, 1, 1, 1, 1, 1), (0, 0, 1, 1, 1, 1))),\n",
       "  1,\n",
       "  0,\n",
       "  (6, 0, 1),\n",
       "  0,\n",
       "  (6, 24, 42, 60, 78, 96, 7, 25, 43, 61, 79, 97, 8, 26, 44, 62, 80, 98)),\n",
       " ((((1, 1, 1, 1, 1, 1), (1, 1, 1, 1, 1, 1), (1, 1, 1, 1, 1, 1)),\n",
       "   ((0, 0, 0, 0, 0, 0), (1, 1, 0, 0, 0, 0), (1, 1, 1, 1, 0, 0))),\n",
       "  1,\n",
       "  0,\n",
       "  (9, 0, 0),\n",
       "  2,\n",
       "  (9, 27, 45, 10, 28, 46, 11, 29, 47, 12, 30, 48, 13, 31, 49, 14, 32, 50)),\n",
       " ((((1, 1, 1, 1, 1, 1), (0, 1, 1, 1, 1, 0), (0, 0, 0, 0, 0, 0)),\n",
       "   ((1, 1, 1, 1, 0, 0), (1, 1, 0, 0, 0, 0), (0, 0, 0, 0, 0, 0))),\n",
       "  1,\n",
       "  0,\n",
       "  (9, 9, 0),\n",
       "  3,\n",
       "  (171,\n",
       "   189,\n",
       "   207,\n",
       "   172,\n",
       "   190,\n",
       "   208,\n",
       "   173,\n",
       "   191,\n",
       "   209,\n",
       "   174,\n",
       "   192,\n",
       "   210,\n",
       "   175,\n",
       "   193,\n",
       "   211,\n",
       "   176,\n",
       "   194,\n",
       "   212)),\n",
       " ((((1, 1, 1, 1, 1, 0), (1, 1, 1, 1, 1, 0), (1, 1, 1, 1, 0, 0)),\n",
       "   ((0, 0, 0, 0, 0, 0), (0, 0, 0, 0, 0, 0), (1, 0, 0, 0, 0, 0))),\n",
       "  1,\n",
       "  0,\n",
       "  (12, 0, 0),\n",
       "  5,\n",
       "  (12, 30, 48, 13, 31, 49, 14, 32, 50, 15, 33, 51, 16, 34, 52, 17, 35, 53)),\n",
       " ((((1, 1, 1, 1, 1, 1), (1, 1, 1, 1, 1, 1), (1, 1, 1, 1, 1, 1)),\n",
       "   ((1, 1, 0, 0, 0, 0), (1, 1, 0, 0, 0, 0), (1, 0, 0, 0, 0, 0))),\n",
       "  1,\n",
       "  0,\n",
       "  (12, 6, 0),\n",
       "  1,\n",
       "  (120,\n",
       "   138,\n",
       "   156,\n",
       "   121,\n",
       "   139,\n",
       "   157,\n",
       "   122,\n",
       "   140,\n",
       "   158,\n",
       "   123,\n",
       "   141,\n",
       "   159,\n",
       "   124,\n",
       "   142,\n",
       "   160,\n",
       "   125,\n",
       "   143,\n",
       "   161)),\n",
       " ((((1, 1, 1, 1, 1, 1), (1, 1, 1, 1, 1, 1), (1, 1, 1, 1, 1, 1)),\n",
       "   ((0, 0, 0, 0, 0, 0), (1, 1, 0, 0, 0, 0), (1, 1, 1, 1, 0, 0))),\n",
       "  1,\n",
       "  0,\n",
       "  (12, 6, 1),\n",
       "  2,\n",
       "  (120,\n",
       "   138,\n",
       "   156,\n",
       "   174,\n",
       "   192,\n",
       "   210,\n",
       "   121,\n",
       "   139,\n",
       "   157,\n",
       "   175,\n",
       "   193,\n",
       "   211,\n",
       "   122,\n",
       "   140,\n",
       "   158,\n",
       "   176,\n",
       "   194,\n",
       "   212)),\n",
       " ((((1, 1, 1, 1, 1, 1), (0, 1, 1, 1, 1, 0), (0, 0, 0, 0, 0, 0)),\n",
       "   ((0, 0, 0, 0, 0, 0), (0, 0, 0, 0, 0, 0), (0, 0, 0, 0, 0, 0))),\n",
       "  1,\n",
       "  0,\n",
       "  (15, 0, 1),\n",
       "  4,\n",
       "  (15, 33, 51, 69, 87, 105, 16, 34, 52, 70, 88, 106, 17, 35, 53, 71, 89, 107)),\n",
       " ((((0, 0, 0, 0, 0, 0), (0, 0, 0, 0, 1, 1), (0, 0, 1, 1, 1, 1)),\n",
       "   ((0, 0, 0, 0, 0, 0), (0, 0, 0, 0, 0, 0), (0, 0, 0, 0, 0, 0))),\n",
       "  1,\n",
       "  0,\n",
       "  (15, 0, 1),\n",
       "  7,\n",
       "  (15, 33, 51, 69, 87, 105, 16, 34, 52, 70, 88, 106, 17, 35, 53, 71, 89, 107)),\n",
       " ((((0, 0, 0, 0, 1, 1), (0, 0, 0, 0, 1, 1), (0, 0, 0, 0, 0, 1)),\n",
       "   ((0, 0, 0, 0, 0, 0), (0, 0, 0, 0, 0, 0), (0, 0, 0, 0, 0, 0))),\n",
       "  1,\n",
       "  0,\n",
       "  (15, 0, 1),\n",
       "  9,\n",
       "  (15, 33, 51, 69, 87, 105, 16, 34, 52, 70, 88, 106, 17, 35, 53, 71, 89, 107)),\n",
       " ((((0, 0, 0, 0, 0, 1), (0, 0, 0, 0, 0, 0), (0, 0, 0, 0, 0, 0)),\n",
       "   ((0, 0, 0, 0, 0, 0), (0, 0, 0, 0, 0, 0), (0, 0, 0, 0, 0, 0))),\n",
       "  1,\n",
       "  0,\n",
       "  (15, 0, 1),\n",
       "  11,\n",
       "  (15, 33, 51, 69, 87, 105, 16, 34, 52, 70, 88, 106, 17, 35, 53, 71, 89, 107)),\n",
       " ((((1, 1, 1, 1, 1, 1), (0, 1, 1, 1, 1, 0), (0, 0, 0, 0, 0, 0)),\n",
       "   ((0, 0, 0, 0, 0, 0), (0, 0, 0, 0, 0, 0), (0, 0, 0, 0, 0, 0))),\n",
       "  1,\n",
       "  0,\n",
       "  (15, 3, 1),\n",
       "  4,\n",
       "  (69,\n",
       "   87,\n",
       "   105,\n",
       "   123,\n",
       "   141,\n",
       "   159,\n",
       "   70,\n",
       "   88,\n",
       "   106,\n",
       "   124,\n",
       "   142,\n",
       "   160,\n",
       "   71,\n",
       "   89,\n",
       "   107,\n",
       "   125,\n",
       "   143,\n",
       "   161)),\n",
       " ((((0, 0, 0, 0, 0, 0), (0, 0, 0, 0, 1, 1), (0, 0, 1, 1, 1, 1)),\n",
       "   ((0, 0, 0, 0, 0, 0), (0, 0, 0, 0, 0, 0), (0, 0, 0, 0, 0, 0))),\n",
       "  1,\n",
       "  0,\n",
       "  (15, 3, 1),\n",
       "  7,\n",
       "  (69,\n",
       "   87,\n",
       "   105,\n",
       "   123,\n",
       "   141,\n",
       "   159,\n",
       "   70,\n",
       "   88,\n",
       "   106,\n",
       "   124,\n",
       "   142,\n",
       "   160,\n",
       "   71,\n",
       "   89,\n",
       "   107,\n",
       "   125,\n",
       "   143,\n",
       "   161)),\n",
       " ((((0, 0, 0, 0, 1, 1), (0, 0, 0, 0, 1, 1), (0, 0, 0, 0, 0, 1)),\n",
       "   ((0, 0, 0, 0, 0, 0), (0, 0, 0, 0, 0, 0), (0, 0, 0, 0, 0, 0))),\n",
       "  1,\n",
       "  0,\n",
       "  (15, 3, 1),\n",
       "  9,\n",
       "  (69,\n",
       "   87,\n",
       "   105,\n",
       "   123,\n",
       "   141,\n",
       "   159,\n",
       "   70,\n",
       "   88,\n",
       "   106,\n",
       "   124,\n",
       "   142,\n",
       "   160,\n",
       "   71,\n",
       "   89,\n",
       "   107,\n",
       "   125,\n",
       "   143,\n",
       "   161)),\n",
       " ((((0, 0, 0, 0, 0, 1), (0, 0, 0, 0, 0, 0), (0, 0, 0, 0, 0, 0)),\n",
       "   ((0, 0, 0, 0, 0, 0), (0, 0, 0, 0, 0, 0), (0, 0, 0, 0, 0, 0))),\n",
       "  1,\n",
       "  0,\n",
       "  (15, 3, 1),\n",
       "  11,\n",
       "  (69,\n",
       "   87,\n",
       "   105,\n",
       "   123,\n",
       "   141,\n",
       "   159,\n",
       "   70,\n",
       "   88,\n",
       "   106,\n",
       "   124,\n",
       "   142,\n",
       "   160,\n",
       "   71,\n",
       "   89,\n",
       "   107,\n",
       "   125,\n",
       "   143,\n",
       "   161)),\n",
       " ((((1, 1, 1, 1, 1, 1), (0, 1, 1, 1, 1, 0), (0, 0, 0, 0, 0, 0)),\n",
       "   ((0, 0, 0, 0, 0, 0), (0, 0, 0, 0, 0, 0), (0, 0, 0, 0, 0, 0))),\n",
       "  1,\n",
       "  0,\n",
       "  (15, 6, 1),\n",
       "  4,\n",
       "  (123,\n",
       "   141,\n",
       "   159,\n",
       "   177,\n",
       "   195,\n",
       "   213,\n",
       "   124,\n",
       "   142,\n",
       "   160,\n",
       "   178,\n",
       "   196,\n",
       "   214,\n",
       "   125,\n",
       "   143,\n",
       "   161,\n",
       "   179,\n",
       "   197,\n",
       "   215)),\n",
       " ((((0, 0, 0, 0, 0, 0), (0, 0, 0, 0, 1, 1), (0, 0, 1, 1, 1, 1)),\n",
       "   ((0, 0, 0, 0, 0, 0), (0, 0, 0, 0, 0, 0), (0, 0, 0, 0, 0, 0))),\n",
       "  1,\n",
       "  0,\n",
       "  (15, 6, 1),\n",
       "  7,\n",
       "  (123,\n",
       "   141,\n",
       "   159,\n",
       "   177,\n",
       "   195,\n",
       "   213,\n",
       "   124,\n",
       "   142,\n",
       "   160,\n",
       "   178,\n",
       "   196,\n",
       "   214,\n",
       "   125,\n",
       "   143,\n",
       "   161,\n",
       "   179,\n",
       "   197,\n",
       "   215)),\n",
       " ((((0, 0, 0, 0, 1, 1), (0, 0, 0, 0, 1, 1), (0, 0, 0, 0, 0, 1)),\n",
       "   ((0, 0, 0, 0, 0, 0), (0, 0, 0, 0, 0, 0), (0, 0, 0, 0, 0, 0))),\n",
       "  1,\n",
       "  0,\n",
       "  (15, 6, 1),\n",
       "  9,\n",
       "  (123,\n",
       "   141,\n",
       "   159,\n",
       "   177,\n",
       "   195,\n",
       "   213,\n",
       "   124,\n",
       "   142,\n",
       "   160,\n",
       "   178,\n",
       "   196,\n",
       "   214,\n",
       "   125,\n",
       "   143,\n",
       "   161,\n",
       "   179,\n",
       "   197,\n",
       "   215)),\n",
       " ((((0, 0, 0, 0, 0, 1), (0, 0, 0, 0, 0, 0), (0, 0, 0, 0, 0, 0)),\n",
       "   ((0, 0, 0, 0, 0, 0), (0, 0, 0, 0, 0, 0), (0, 0, 0, 0, 0, 0))),\n",
       "  1,\n",
       "  0,\n",
       "  (15, 6, 1),\n",
       "  11,\n",
       "  (123,\n",
       "   141,\n",
       "   159,\n",
       "   177,\n",
       "   195,\n",
       "   213,\n",
       "   124,\n",
       "   142,\n",
       "   160,\n",
       "   178,\n",
       "   196,\n",
       "   214,\n",
       "   125,\n",
       "   143,\n",
       "   161,\n",
       "   179,\n",
       "   197,\n",
       "   215)),\n",
       " ((((1, 1, 1, 1, 1, 1), (0, 1, 1, 1, 1, 0), (0, 0, 0, 0, 0, 0)),\n",
       "   ((0, 0, 0, 0, 0, 0), (0, 0, 0, 0, 0, 0), (0, 0, 0, 0, 0, 0))),\n",
       "  1,\n",
       "  1,\n",
       "  (0, 0, 1),\n",
       "  4,\n",
       "  (0, 18, 36, 54, 72, 90, 1, 19, 37, 55, 73, 91, 2, 20, 38, 56, 74, 92)),\n",
       " ((((0, 0, 0, 0, 0, 0), (0, 0, 0, 0, 1, 1), (0, 0, 1, 1, 1, 1)),\n",
       "   ((0, 0, 0, 0, 0, 0), (0, 0, 0, 0, 0, 0), (0, 0, 0, 0, 0, 0))),\n",
       "  1,\n",
       "  1,\n",
       "  (0, 0, 1),\n",
       "  7,\n",
       "  (0, 18, 36, 54, 72, 90, 1, 19, 37, 55, 73, 91, 2, 20, 38, 56, 74, 92)),\n",
       " ((((0, 0, 0, 0, 1, 1), (0, 0, 0, 0, 1, 1), (0, 0, 0, 0, 0, 1)),\n",
       "   ((0, 0, 0, 0, 0, 0), (0, 0, 0, 0, 0, 0), (0, 0, 0, 0, 0, 0))),\n",
       "  1,\n",
       "  1,\n",
       "  (0, 0, 1),\n",
       "  9,\n",
       "  (0, 18, 36, 54, 72, 90, 1, 19, 37, 55, 73, 91, 2, 20, 38, 56, 74, 92)),\n",
       " ((((0, 0, 0, 0, 0, 1), (0, 0, 0, 0, 0, 0), (0, 0, 0, 0, 0, 0)),\n",
       "   ((0, 0, 0, 0, 0, 0), (0, 0, 0, 0, 0, 0), (0, 0, 0, 0, 0, 0))),\n",
       "  1,\n",
       "  1,\n",
       "  (0, 0, 1),\n",
       "  11,\n",
       "  (0, 18, 36, 54, 72, 90, 1, 19, 37, 55, 73, 91, 2, 20, 38, 56, 74, 92)),\n",
       " ((((1, 1, 1, 1, 1, 1), (1, 1, 1, 1, 1, 1), (1, 1, 1, 1, 1, 1)),\n",
       "   ((1, 1, 0, 0, 0, 0), (1, 1, 0, 0, 0, 0), (1, 0, 0, 0, 0, 0))),\n",
       "  1,\n",
       "  1,\n",
       "  (0, 3, 0),\n",
       "  1,\n",
       "  (54, 72, 90, 55, 73, 91, 56, 74, 92, 57, 75, 93, 58, 76, 94, 59, 77, 95)),\n",
       " ((((1, 1, 1, 1, 1, 1), (0, 1, 1, 1, 1, 0), (0, 0, 0, 0, 0, 0)),\n",
       "   ((0, 0, 0, 0, 0, 0), (0, 0, 0, 0, 0, 0), (0, 0, 0, 0, 0, 0))),\n",
       "  1,\n",
       "  1,\n",
       "  (0, 3, 1),\n",
       "  4,\n",
       "  (54,\n",
       "   72,\n",
       "   90,\n",
       "   108,\n",
       "   126,\n",
       "   144,\n",
       "   55,\n",
       "   73,\n",
       "   91,\n",
       "   109,\n",
       "   127,\n",
       "   145,\n",
       "   56,\n",
       "   74,\n",
       "   92,\n",
       "   110,\n",
       "   128,\n",
       "   146)),\n",
       " ((((0, 0, 0, 0, 0, 0), (0, 0, 0, 0, 1, 1), (0, 0, 1, 1, 1, 1)),\n",
       "   ((0, 0, 0, 0, 0, 0), (0, 0, 0, 0, 0, 0), (0, 0, 0, 0, 0, 0))),\n",
       "  1,\n",
       "  1,\n",
       "  (0, 3, 1),\n",
       "  7,\n",
       "  (54,\n",
       "   72,\n",
       "   90,\n",
       "   108,\n",
       "   126,\n",
       "   144,\n",
       "   55,\n",
       "   73,\n",
       "   91,\n",
       "   109,\n",
       "   127,\n",
       "   145,\n",
       "   56,\n",
       "   74,\n",
       "   92,\n",
       "   110,\n",
       "   128,\n",
       "   146)),\n",
       " ((((0, 0, 0, 0, 1, 1), (0, 0, 0, 0, 1, 1), (0, 0, 0, 0, 0, 1)),\n",
       "   ((0, 0, 0, 0, 0, 0), (0, 0, 0, 0, 0, 0), (0, 0, 0, 0, 0, 0))),\n",
       "  1,\n",
       "  1,\n",
       "  (0, 3, 1),\n",
       "  9,\n",
       "  (54,\n",
       "   72,\n",
       "   90,\n",
       "   108,\n",
       "   126,\n",
       "   144,\n",
       "   55,\n",
       "   73,\n",
       "   91,\n",
       "   109,\n",
       "   127,\n",
       "   145,\n",
       "   56,\n",
       "   74,\n",
       "   92,\n",
       "   110,\n",
       "   128,\n",
       "   146)),\n",
       " ((((0, 0, 0, 0, 0, 1), (0, 0, 0, 0, 0, 0), (0, 0, 0, 0, 0, 0)),\n",
       "   ((0, 0, 0, 0, 0, 0), (0, 0, 0, 0, 0, 0), (0, 0, 0, 0, 0, 0))),\n",
       "  1,\n",
       "  1,\n",
       "  (0, 3, 1),\n",
       "  11,\n",
       "  (54,\n",
       "   72,\n",
       "   90,\n",
       "   108,\n",
       "   126,\n",
       "   144,\n",
       "   55,\n",
       "   73,\n",
       "   91,\n",
       "   109,\n",
       "   127,\n",
       "   145,\n",
       "   56,\n",
       "   74,\n",
       "   92,\n",
       "   110,\n",
       "   128,\n",
       "   146)),\n",
       " ((((1, 1, 1, 1, 1, 1), (0, 1, 1, 1, 1, 0), (0, 0, 0, 0, 0, 0)),\n",
       "   ((0, 0, 0, 0, 0, 0), (0, 0, 0, 0, 0, 0), (0, 0, 0, 0, 0, 0))),\n",
       "  1,\n",
       "  1,\n",
       "  (0, 6, 1),\n",
       "  4,\n",
       "  (108,\n",
       "   126,\n",
       "   144,\n",
       "   162,\n",
       "   180,\n",
       "   198,\n",
       "   109,\n",
       "   127,\n",
       "   145,\n",
       "   163,\n",
       "   181,\n",
       "   199,\n",
       "   110,\n",
       "   128,\n",
       "   146,\n",
       "   164,\n",
       "   182,\n",
       "   200)),\n",
       " ((((0, 0, 0, 0, 0, 0), (0, 0, 0, 0, 1, 1), (0, 0, 1, 1, 1, 1)),\n",
       "   ((0, 0, 0, 0, 0, 0), (0, 0, 0, 0, 0, 0), (0, 0, 0, 0, 0, 0))),\n",
       "  1,\n",
       "  1,\n",
       "  (0, 6, 1),\n",
       "  7,\n",
       "  (108,\n",
       "   126,\n",
       "   144,\n",
       "   162,\n",
       "   180,\n",
       "   198,\n",
       "   109,\n",
       "   127,\n",
       "   145,\n",
       "   163,\n",
       "   181,\n",
       "   199,\n",
       "   110,\n",
       "   128,\n",
       "   146,\n",
       "   164,\n",
       "   182,\n",
       "   200)),\n",
       " ((((0, 0, 0, 0, 1, 1), (0, 0, 0, 0, 1, 1), (0, 0, 0, 0, 0, 1)),\n",
       "   ((0, 0, 0, 0, 0, 0), (0, 0, 0, 0, 0, 0), (0, 0, 0, 0, 0, 0))),\n",
       "  1,\n",
       "  1,\n",
       "  (0, 6, 1),\n",
       "  9,\n",
       "  (108,\n",
       "   126,\n",
       "   144,\n",
       "   162,\n",
       "   180,\n",
       "   198,\n",
       "   109,\n",
       "   127,\n",
       "   145,\n",
       "   163,\n",
       "   181,\n",
       "   199,\n",
       "   110,\n",
       "   128,\n",
       "   146,\n",
       "   164,\n",
       "   182,\n",
       "   200)),\n",
       " ((((0, 0, 0, 0, 0, 1), (0, 0, 0, 0, 0, 0), (0, 0, 0, 0, 0, 0)),\n",
       "   ((0, 0, 0, 0, 0, 0), (0, 0, 0, 0, 0, 0), (0, 0, 0, 0, 0, 0))),\n",
       "  1,\n",
       "  1,\n",
       "  (0, 6, 1),\n",
       "  11,\n",
       "  (108,\n",
       "   126,\n",
       "   144,\n",
       "   162,\n",
       "   180,\n",
       "   198,\n",
       "   109,\n",
       "   127,\n",
       "   145,\n",
       "   163,\n",
       "   181,\n",
       "   199,\n",
       "   110,\n",
       "   128,\n",
       "   146,\n",
       "   164,\n",
       "   182,\n",
       "   200)),\n",
       " ((((1, 1, 1, 1, 1, 0), (1, 1, 1, 1, 1, 0), (1, 1, 1, 1, 0, 0)),\n",
       "   ((0, 0, 0, 0, 0, 0), (0, 0, 0, 0, 0, 0), (1, 0, 0, 0, 0, 0))),\n",
       "  1,\n",
       "  1,\n",
       "  (0, 9, 0),\n",
       "  5,\n",
       "  (162,\n",
       "   180,\n",
       "   198,\n",
       "   163,\n",
       "   181,\n",
       "   199,\n",
       "   164,\n",
       "   182,\n",
       "   200,\n",
       "   165,\n",
       "   183,\n",
       "   201,\n",
       "   166,\n",
       "   184,\n",
       "   202,\n",
       "   167,\n",
       "   185,\n",
       "   203)),\n",
       " ((((1, 1, 1, 1, 1, 1), (0, 1, 1, 1, 1, 0), (0, 0, 0, 0, 0, 0)),\n",
       "   ((1, 1, 1, 1, 0, 0), (1, 1, 0, 0, 0, 0), (0, 0, 0, 0, 0, 0))),\n",
       "  1,\n",
       "  1,\n",
       "  (3, 0, 0),\n",
       "  3,\n",
       "  (3, 21, 39, 4, 22, 40, 5, 23, 41, 6, 24, 42, 7, 25, 43, 8, 26, 44)),\n",
       " ((((1, 1, 1, 1, 1, 1), (1, 1, 1, 1, 1, 1), (1, 1, 1, 1, 1, 1)),\n",
       "   ((0, 0, 0, 0, 0, 0), (1, 1, 0, 0, 0, 0), (1, 1, 1, 1, 0, 0))),\n",
       "  1,\n",
       "  1,\n",
       "  (3, 0, 1),\n",
       "  2,\n",
       "  (3, 21, 39, 57, 75, 93, 4, 22, 40, 58, 76, 94, 5, 23, 41, 59, 77, 95)),\n",
       " ((((1, 1, 1, 1, 1, 1), (1, 1, 1, 1, 1, 1), (1, 1, 1, 1, 1, 1)),\n",
       "   ((0, 0, 0, 0, 0, 0), (1, 1, 0, 0, 0, 0), (1, 1, 1, 1, 0, 0))),\n",
       "  1,\n",
       "  1,\n",
       "  (3, 9, 0),\n",
       "  2,\n",
       "  (165,\n",
       "   183,\n",
       "   201,\n",
       "   166,\n",
       "   184,\n",
       "   202,\n",
       "   167,\n",
       "   185,\n",
       "   203,\n",
       "   168,\n",
       "   186,\n",
       "   204,\n",
       "   169,\n",
       "   187,\n",
       "   205,\n",
       "   170,\n",
       "   188,\n",
       "   206)),\n",
       " ((((1, 1, 1, 1, 0, 0), (1, 1, 1, 1, 1, 0), (1, 1, 1, 1, 1, 0)),\n",
       "   ((0, 0, 1, 1, 1, 1), (0, 0, 0, 0, 1, 1), (0, 0, 0, 0, 0, 0))),\n",
       "  1,\n",
       "  1,\n",
       "  (9, 0, 0),\n",
       "  6,\n",
       "  (9, 27, 45, 10, 28, 46, 11, 29, 47, 12, 30, 48, 13, 31, 49, 14, 32, 50)),\n",
       " ((((1, 1, 1, 1, 1, 1), (1, 1, 1, 1, 1, 1), (1, 1, 1, 1, 1, 1)),\n",
       "   ((0, 1, 1, 1, 1, 1), (0, 1, 1, 1, 1, 1), (0, 0, 1, 1, 1, 1))),\n",
       "  1,\n",
       "  1,\n",
       "  (9, 3, 0),\n",
       "  0,\n",
       "  (63,\n",
       "   81,\n",
       "   99,\n",
       "   64,\n",
       "   82,\n",
       "   100,\n",
       "   65,\n",
       "   83,\n",
       "   101,\n",
       "   66,\n",
       "   84,\n",
       "   102,\n",
       "   67,\n",
       "   85,\n",
       "   103,\n",
       "   68,\n",
       "   86,\n",
       "   104)),\n",
       " ((((1, 1, 1, 1, 1, 1), (1, 1, 1, 1, 1, 1), (1, 1, 1, 1, 1, 1)),\n",
       "   ((0, 1, 1, 1, 1, 1), (0, 1, 1, 1, 1, 1), (0, 0, 1, 1, 1, 1))),\n",
       "  1,\n",
       "  1,\n",
       "  (9, 6, 1),\n",
       "  0,\n",
       "  (117,\n",
       "   135,\n",
       "   153,\n",
       "   171,\n",
       "   189,\n",
       "   207,\n",
       "   118,\n",
       "   136,\n",
       "   154,\n",
       "   172,\n",
       "   190,\n",
       "   208,\n",
       "   119,\n",
       "   137,\n",
       "   155,\n",
       "   173,\n",
       "   191,\n",
       "   209)),\n",
       " ((((1, 1, 1, 1, 1, 1), (0, 1, 1, 1, 1, 0), (0, 0, 0, 0, 0, 0)),\n",
       "   ((1, 1, 1, 1, 0, 0), (1, 1, 0, 0, 0, 0), (0, 0, 0, 0, 0, 0))),\n",
       "  1,\n",
       "  1,\n",
       "  (12, 0, 1),\n",
       "  3,\n",
       "  (12, 30, 48, 66, 84, 102, 13, 31, 49, 67, 85, 103, 14, 32, 50, 68, 86, 104)),\n",
       " ((((1, 1, 1, 1, 0, 0), (1, 1, 1, 1, 1, 0), (1, 1, 1, 1, 1, 0)),\n",
       "   ((0, 0, 1, 1, 1, 1), (0, 0, 0, 0, 1, 1), (0, 0, 0, 0, 0, 0))),\n",
       "  1,\n",
       "  1,\n",
       "  (12, 6, 1),\n",
       "  6,\n",
       "  (120,\n",
       "   138,\n",
       "   156,\n",
       "   174,\n",
       "   192,\n",
       "   210,\n",
       "   121,\n",
       "   139,\n",
       "   157,\n",
       "   175,\n",
       "   193,\n",
       "   211,\n",
       "   122,\n",
       "   140,\n",
       "   158,\n",
       "   176,\n",
       "   194,\n",
       "   212)),\n",
       " ((((0, 0, 1, 1, 1, 1), (0, 0, 0, 0, 1, 1), (0, 0, 0, 0, 0, 0)),\n",
       "   ((0, 0, 0, 0, 0, 0), (0, 0, 0, 0, 0, 0), (0, 0, 0, 0, 0, 1))),\n",
       "  1,\n",
       "  1,\n",
       "  (12, 9, 0),\n",
       "  8,\n",
       "  (174,\n",
       "   192,\n",
       "   210,\n",
       "   175,\n",
       "   193,\n",
       "   211,\n",
       "   176,\n",
       "   194,\n",
       "   212,\n",
       "   177,\n",
       "   195,\n",
       "   213,\n",
       "   178,\n",
       "   196,\n",
       "   214,\n",
       "   179,\n",
       "   197,\n",
       "   215)),\n",
       " ((((0, 0, 0, 0, 0, 1), (0, 0, 0, 0, 1, 1), (0, 0, 0, 0, 1, 1)),\n",
       "   ((0, 0, 0, 0, 0, 0), (0, 0, 0, 0, 0, 0), (0, 0, 0, 0, 0, 1))),\n",
       "  1,\n",
       "  1,\n",
       "  (12, 9, 0),\n",
       "  10,\n",
       "  (174,\n",
       "   192,\n",
       "   210,\n",
       "   175,\n",
       "   193,\n",
       "   211,\n",
       "   176,\n",
       "   194,\n",
       "   212,\n",
       "   177,\n",
       "   195,\n",
       "   213,\n",
       "   178,\n",
       "   196,\n",
       "   214,\n",
       "   179,\n",
       "   197,\n",
       "   215)),\n",
       " ((((1, 1, 1, 1, 1, 1), (0, 1, 1, 1, 1, 0), (0, 0, 0, 0, 0, 0)),\n",
       "   ((0, 0, 0, 0, 0, 0), (0, 0, 0, 0, 0, 0), (0, 0, 0, 0, 0, 0))),\n",
       "  1,\n",
       "  1,\n",
       "  (15, 0, 1),\n",
       "  4,\n",
       "  (15, 33, 51, 69, 87, 105, 16, 34, 52, 70, 88, 106, 17, 35, 53, 71, 89, 107)),\n",
       " ((((0, 0, 0, 0, 0, 0), (0, 0, 0, 0, 1, 1), (0, 0, 1, 1, 1, 1)),\n",
       "   ((0, 0, 0, 0, 0, 0), (0, 0, 0, 0, 0, 0), (0, 0, 0, 0, 0, 0))),\n",
       "  1,\n",
       "  1,\n",
       "  (15, 0, 1),\n",
       "  7,\n",
       "  (15, 33, 51, 69, 87, 105, 16, 34, 52, 70, 88, 106, 17, 35, 53, 71, 89, 107)),\n",
       " ((((0, 0, 0, 0, 1, 1), (0, 0, 0, 0, 1, 1), (0, 0, 0, 0, 0, 1)),\n",
       "   ((0, 0, 0, 0, 0, 0), (0, 0, 0, 0, 0, 0), (0, 0, 0, 0, 0, 0))),\n",
       "  1,\n",
       "  1,\n",
       "  (15, 0, 1),\n",
       "  9,\n",
       "  (15, 33, 51, 69, 87, 105, 16, 34, 52, 70, 88, 106, 17, 35, 53, 71, 89, 107)),\n",
       " ((((0, 0, 0, 0, 0, 1), (0, 0, 0, 0, 0, 0), (0, 0, 0, 0, 0, 0)),\n",
       "   ((0, 0, 0, 0, 0, 0), (0, 0, 0, 0, 0, 0), (0, 0, 0, 0, 0, 0))),\n",
       "  1,\n",
       "  1,\n",
       "  (15, 0, 1),\n",
       "  11,\n",
       "  (15, 33, 51, 69, 87, 105, 16, 34, 52, 70, 88, 106, 17, 35, 53, 71, 89, 107)),\n",
       " ((((1, 1, 1, 1, 1, 1), (0, 1, 1, 1, 1, 0), (0, 0, 0, 0, 0, 0)),\n",
       "   ((0, 0, 0, 0, 0, 0), (0, 0, 0, 0, 0, 0), (0, 0, 0, 0, 0, 0))),\n",
       "  1,\n",
       "  1,\n",
       "  (15, 3, 1),\n",
       "  4,\n",
       "  (69,\n",
       "   87,\n",
       "   105,\n",
       "   123,\n",
       "   141,\n",
       "   159,\n",
       "   70,\n",
       "   88,\n",
       "   106,\n",
       "   124,\n",
       "   142,\n",
       "   160,\n",
       "   71,\n",
       "   89,\n",
       "   107,\n",
       "   125,\n",
       "   143,\n",
       "   161)),\n",
       " ((((0, 0, 0, 0, 0, 0), (0, 0, 0, 0, 1, 1), (0, 0, 1, 1, 1, 1)),\n",
       "   ((0, 0, 0, 0, 0, 0), (0, 0, 0, 0, 0, 0), (0, 0, 0, 0, 0, 0))),\n",
       "  1,\n",
       "  1,\n",
       "  (15, 3, 1),\n",
       "  7,\n",
       "  (69,\n",
       "   87,\n",
       "   105,\n",
       "   123,\n",
       "   141,\n",
       "   159,\n",
       "   70,\n",
       "   88,\n",
       "   106,\n",
       "   124,\n",
       "   142,\n",
       "   160,\n",
       "   71,\n",
       "   89,\n",
       "   107,\n",
       "   125,\n",
       "   143,\n",
       "   161)),\n",
       " ((((0, 0, 0, 0, 1, 1), (0, 0, 0, 0, 1, 1), (0, 0, 0, 0, 0, 1)),\n",
       "   ((0, 0, 0, 0, 0, 0), (0, 0, 0, 0, 0, 0), (0, 0, 0, 0, 0, 0))),\n",
       "  1,\n",
       "  1,\n",
       "  (15, 3, 1),\n",
       "  9,\n",
       "  (69,\n",
       "   87,\n",
       "   105,\n",
       "   123,\n",
       "   141,\n",
       "   159,\n",
       "   70,\n",
       "   88,\n",
       "   106,\n",
       "   124,\n",
       "   142,\n",
       "   160,\n",
       "   71,\n",
       "   89,\n",
       "   107,\n",
       "   125,\n",
       "   143,\n",
       "   161)),\n",
       " ((((0, 0, 0, 0, 0, 1), (0, 0, 0, 0, 0, 0), (0, 0, 0, 0, 0, 0)),\n",
       "   ((0, 0, 0, 0, 0, 0), (0, 0, 0, 0, 0, 0), (0, 0, 0, 0, 0, 0))),\n",
       "  1,\n",
       "  1,\n",
       "  (15, 3, 1),\n",
       "  11,\n",
       "  (69,\n",
       "   87,\n",
       "   105,\n",
       "   123,\n",
       "   141,\n",
       "   159,\n",
       "   70,\n",
       "   88,\n",
       "   106,\n",
       "   124,\n",
       "   142,\n",
       "   160,\n",
       "   71,\n",
       "   89,\n",
       "   107,\n",
       "   125,\n",
       "   143,\n",
       "   161)),\n",
       " ((((1, 1, 1, 1, 1, 1), (0, 1, 1, 1, 1, 0), (0, 0, 0, 0, 0, 0)),\n",
       "   ((0, 0, 0, 0, 0, 0), (0, 0, 0, 0, 0, 0), (0, 0, 0, 0, 0, 0))),\n",
       "  1,\n",
       "  1,\n",
       "  (15, 6, 1),\n",
       "  4,\n",
       "  (123,\n",
       "   141,\n",
       "   159,\n",
       "   177,\n",
       "   195,\n",
       "   213,\n",
       "   124,\n",
       "   142,\n",
       "   160,\n",
       "   178,\n",
       "   196,\n",
       "   214,\n",
       "   125,\n",
       "   143,\n",
       "   161,\n",
       "   179,\n",
       "   197,\n",
       "   215)),\n",
       " ((((0, 0, 0, 0, 0, 0), (0, 0, 0, 0, 1, 1), (0, 0, 1, 1, 1, 1)),\n",
       "   ((0, 0, 0, 0, 0, 0), (0, 0, 0, 0, 0, 0), (0, 0, 0, 0, 0, 0))),\n",
       "  1,\n",
       "  1,\n",
       "  (15, 6, 1),\n",
       "  7,\n",
       "  (123,\n",
       "   141,\n",
       "   159,\n",
       "   177,\n",
       "   195,\n",
       "   213,\n",
       "   124,\n",
       "   142,\n",
       "   160,\n",
       "   178,\n",
       "   196,\n",
       "   214,\n",
       "   125,\n",
       "   143,\n",
       "   161,\n",
       "   179,\n",
       "   197,\n",
       "   215)),\n",
       " ((((0, 0, 0, 0, 1, 1), (0, 0, 0, 0, 1, 1), (0, 0, 0, 0, 0, 1)),\n",
       "   ((0, 0, 0, 0, 0, 0), (0, 0, 0, 0, 0, 0), (0, 0, 0, 0, 0, 0))),\n",
       "  1,\n",
       "  1,\n",
       "  (15, 6, 1),\n",
       "  9,\n",
       "  (123,\n",
       "   141,\n",
       "   159,\n",
       "   177,\n",
       "   195,\n",
       "   213,\n",
       "   124,\n",
       "   142,\n",
       "   160,\n",
       "   178,\n",
       "   196,\n",
       "   214,\n",
       "   125,\n",
       "   143,\n",
       "   161,\n",
       "   179,\n",
       "   197,\n",
       "   215)),\n",
       " ((((0, 0, 0, 0, 0, 1), (0, 0, 0, 0, 0, 0), (0, 0, 0, 0, 0, 0)),\n",
       "   ((0, 0, 0, 0, 0, 0), (0, 0, 0, 0, 0, 0), (0, 0, 0, 0, 0, 0))),\n",
       "  1,\n",
       "  1,\n",
       "  (15, 6, 1),\n",
       "  11,\n",
       "  (123,\n",
       "   141,\n",
       "   159,\n",
       "   177,\n",
       "   195,\n",
       "   213,\n",
       "   124,\n",
       "   142,\n",
       "   160,\n",
       "   178,\n",
       "   196,\n",
       "   214,\n",
       "   125,\n",
       "   143,\n",
       "   161,\n",
       "   179,\n",
       "   197,\n",
       "   215))]"
      ]
     },
     "execution_count": 19,
     "metadata": {},
     "output_type": "execute_result"
    }
   ],
   "source": [
    "valid2"
   ]
  },
  {
   "cell_type": "code",
   "execution_count": 20,
   "metadata": {
    "collapsed": true
   },
   "outputs": [],
   "source": [
    "# z: orientation => 0: stout, 6longx3high ; 1: tall: 3longx6high\n",
    "#valid2: (tile, flip,tileside,xyz,indt, (xyt's))\n",
    "#flip = 180 degree rotation\n",
    "valid2 = map(lambda v: ( v[0], v[1], v[2], v[3],v[4], xyt(v) ) ,valid)"
   ]
  },
  {
   "cell_type": "code",
   "execution_count": 21,
   "metadata": {
    "collapsed": false
   },
   "outputs": [
    {
     "data": {
      "text/plain": [
       "((((0, 0, 0, 0, 0, 1), (0, 0, 0, 0, 1, 1), (0, 0, 0, 0, 1, 1)),\n",
       "  ((0, 0, 0, 0, 0, 0), (0, 0, 0, 0, 0, 0), (0, 0, 0, 0, 0, 1))),\n",
       " 0,\n",
       " 0,\n",
       " (0, 3, 0),\n",
       " 10,\n",
       " (54, 72, 90, 55, 73, 91, 56, 74, 92, 57, 75, 93, 58, 76, 94, 59, 77, 95))"
      ]
     },
     "execution_count": 21,
     "metadata": {},
     "output_type": "execute_result"
    }
   ],
   "source": [
    "valid2[0]"
   ]
  },
  {
   "cell_type": "code",
   "execution_count": 22,
   "metadata": {
    "collapsed": true
   },
   "outputs": [],
   "source": [
    "mywin = [55, 42, 116, 77, 40, 123, 18, 32, 108, 103, 63, 6]"
   ]
  },
  {
   "cell_type": "code",
   "execution_count": 23,
   "metadata": {
    "collapsed": false
   },
   "outputs": [
    {
     "data": {
      "text/plain": [
       "[10, 8, 9, 2, 1, 7, 3, 6, 0, 5, 11, 4]"
      ]
     },
     "execution_count": 23,
     "metadata": {},
     "output_type": "execute_result"
    }
   ],
   "source": [
    "win1 = [valid2[i][4] for i in mywin]\n",
    "win1"
   ]
  },
  {
   "cell_type": "code",
   "execution_count": 24,
   "metadata": {
    "collapsed": false
   },
   "outputs": [
    {
     "name": "stdout",
     "output_type": "stream",
     "text": [
      "((0, 0, 0, 0, 0, 1), (0, 0, 0, 0, 1, 1), (0, 0, 0, 0, 1, 1))\n",
      "55\n"
     ]
    },
    {
     "ename": "NameError",
     "evalue": "name 'mat' is not defined",
     "output_type": "error",
     "traceback": [
      "\u001b[1;31m---------------------------------------------------------------------------\u001b[0m",
      "\u001b[1;31mNameError\u001b[0m                                 Traceback (most recent call last)",
      "\u001b[1;32m<ipython-input-24-39e201a70f9e>\u001b[0m in \u001b[0;36m<module>\u001b[1;34m()\u001b[0m\n\u001b[0;32m     16\u001b[0m         \u001b[1;32mprint\u001b[0m \u001b[0mw\u001b[0m\u001b[1;33m\u001b[0m\u001b[0m\n\u001b[0;32m     17\u001b[0m \u001b[1;33m\u001b[0m\u001b[0m\n\u001b[1;32m---> 18\u001b[1;33m     \u001b[0mvalid3\u001b[0m\u001b[1;33m.\u001b[0m\u001b[0mappend\u001b[0m\u001b[1;33m(\u001b[0m\u001b[0mv\u001b[0m\u001b[1;33m[\u001b[0m\u001b[1;33m:\u001b[0m\u001b[1;33m]\u001b[0m\u001b[1;33m,\u001b[0m \u001b[0mmat\u001b[0m\u001b[1;33m[\u001b[0m\u001b[1;33m:\u001b[0m\u001b[1;33m]\u001b[0m \u001b[1;33m)\u001b[0m\u001b[1;33m\u001b[0m\u001b[0m\n\u001b[0m",
      "\u001b[1;31mNameError\u001b[0m: name 'mat' is not defined"
     ]
    }
   ],
   "source": [
    "valid3 = []\n",
    "for w in mywin:\n",
    "    v= valid2[w]\n",
    "\n",
    "    x,y,z =  v[3][0], v[3][1], v[3][2]\n",
    "    tileside = v[2]\n",
    "    mytile = v[0][tileside]\n",
    "    myflip = v[1]    \n",
    "    #fillborder(z,borders(z), mytile, v[1])\n",
    "    print mytile\n",
    "    try:\n",
    "        mat = fillborder(z,borders(z), mytile[tileside],myflip)\n",
    "        \n",
    "\n",
    "    except:\n",
    "        print w\n",
    "    \n",
    "    valid3.append(v[:], mat[:] )"
   ]
  },
  {
   "cell_type": "code",
   "execution_count": 25,
   "metadata": {
    "collapsed": true
   },
   "outputs": [],
   "source": [
    "def combine(v3vec):\n",
    "    \n",
    "    for tup in v3vec:\n",
    "        \n",
    "        v = tup[0]\n",
    "        x,y,z =  v[3][0], v[3][1], v[3][2]\n",
    "        tileside = v[2]\n",
    "        mytile = v[0][tileside]\n",
    "        myflip = v[1]    \n",
    "    \n",
    "        yiter = range(1,4) if z else range(1,7)\n",
    "        yy = map(lambda a: -2 + ((a-1)/3) + a*3, yiter)\n",
    "        \n",
    "        \n",
    "    return mat\n",
    "    "
   ]
  },
  {
   "cell_type": "code",
   "execution_count": 193,
   "metadata": {
    "collapsed": false
   },
   "outputs": [
    {
     "data": {
      "text/plain": [
       "((((0, 0, 0, 0, 0, 1), (0, 0, 0, 0, 1, 1), (0, 0, 0, 0, 1, 1)),\n",
       "  ((0, 0, 0, 0, 0, 0), (0, 0, 0, 0, 0, 0), (0, 0, 0, 0, 0, 1))),\n",
       " 1,\n",
       " 0,\n",
       " (0, 0, 0),\n",
       " 10,\n",
       " (0, 18, 36, 1, 19, 37, 2, 20, 38, 3, 21, 39, 4, 22, 40, 5, 23, 41))"
      ]
     },
     "execution_count": 193,
     "metadata": {},
     "output_type": "execute_result"
    }
   ],
   "source": [
    "valid2[55]"
   ]
  },
  {
   "cell_type": "code",
   "execution_count": 40,
   "metadata": {
    "collapsed": false
   },
   "outputs": [
    {
     "name": "stdout",
     "output_type": "stream",
     "text": [
      "TILE: 10 z: 0  xy:  (0, 0)\n",
      "((0, 0, 0, 0, 0, 1), (0, 0, 0, 0, 1, 1), (0, 0, 0, 0, 1, 1))\n",
      "-------------------------\n",
      "+---------~---------+\n",
      "| 1  1  0   0  0  0 |\n",
      "| 1  1  0   0  0  0 |\n",
      "| 1  0  0   0  0  0 |\n",
      "+---------~---------+\n",
      "\n",
      "\n",
      "-------------------------\n",
      "TILE: 8 z: 0  xy:  (9, 0)\n",
      "((0, 0, 0, 0, 0, 0), (0, 0, 0, 0, 0, 0), (0, 0, 0, 0, 0, 1))\n",
      "-------------------------\n",
      "+---------~---------+\n",
      "| 0  0  0   0  0  0 |\n",
      "| 0  0  0   0  0  0 |\n",
      "| 0  0  0   0  0  1 |\n",
      "+---------~---------+\n",
      "\n",
      "\n",
      "-------------------------\n",
      "TILE: 9 z: 1  xy:  (15, 0)\n",
      "((0, 0, 0, 0, 0, 0), (0, 0, 0, 0, 0, 0), (0, 0, 0, 0, 0, 0))\n",
      "-------------------------\n",
      "+---------+\n",
      "| 0  0  0 |\n",
      "| 0  0  0 |\n",
      "| 0  0  0 |\n",
      "{         }\n",
      "| 0  0  0 |\n",
      "| 0  0  0 |\n",
      "| 0  0  0 |\n",
      "+---------+\n",
      "\n",
      "\n",
      "-------------------------\n",
      "TILE: 2 z: 1  xy:  (12, 6)\n",
      "((1, 1, 1, 1, 1, 1), (1, 1, 1, 1, 1, 1), (1, 1, 1, 1, 1, 1))\n",
      "-------------------------\n",
      "+---------+\n",
      "| 1  1  1 |\n",
      "| 1  1  1 |\n",
      "| 1  1  1 |\n",
      "{         }\n",
      "| 1  1  1 |\n",
      "| 1  1  1 |\n",
      "| 1  1  1 |\n",
      "+---------+\n",
      "\n",
      "\n",
      "-------------------------\n",
      "TILE: 1 z: 0  xy:  (6, 6)\n",
      "((1, 1, 0, 0, 0, 0), (1, 1, 0, 0, 0, 0), (1, 0, 0, 0, 0, 0))\n",
      "-------------------------\n",
      "+---------~---------+\n",
      "| 1  1  0   0  0  0 |\n",
      "| 1  1  0   0  0  0 |\n",
      "| 1  0  0   0  0  0 |\n",
      "+---------~---------+\n",
      "\n",
      "\n",
      "-------------------------\n",
      "TILE: 7 z: 1  xy:  (15, 6)\n",
      "((0, 0, 0, 0, 0, 0), (0, 0, 0, 0, 0, 0), (0, 0, 0, 0, 0, 0))\n",
      "-------------------------\n",
      "+---------+\n",
      "| 0  0  0 |\n",
      "| 0  0  0 |\n",
      "| 0  0  0 |\n",
      "{         }\n",
      "| 0  0  0 |\n",
      "| 0  0  0 |\n",
      "| 0  0  0 |\n",
      "+---------+\n",
      "\n",
      "\n",
      "-------------------------\n",
      "TILE: 3 z: 0  xy:  (6, 9)\n",
      "((1, 1, 1, 1, 1, 1), (0, 1, 1, 1, 1, 0), (0, 0, 0, 0, 0, 0))\n",
      "-------------------------\n",
      "+---------~---------+\n",
      "| 1  1  1   1  1  1 |\n",
      "| 0  1  1   1  1  0 |\n",
      "| 0  0  0   0  0  0 |\n",
      "+---------~---------+\n",
      "\n",
      "\n",
      "-------------------------\n",
      "TILE: 6 z: 1  xy:  (6, 0)\n",
      "((0, 0, 1, 1, 1, 1), (0, 0, 0, 0, 1, 1), (0, 0, 0, 0, 0, 0))\n",
      "-------------------------\n",
      "+---------+\n",
      "| 0  0  0 |\n",
      "| 0  0  0 |\n",
      "| 0  0  1 |\n",
      "{         }\n",
      "| 0  0  1 |\n",
      "| 0  1  1 |\n",
      "| 0  1  1 |\n",
      "+---------+\n",
      "\n",
      "\n",
      "-------------------------\n",
      "TILE: 0 z: 0  xy:  (9, 3)\n",
      "((0, 1, 1, 1, 1, 1), (0, 1, 1, 1, 1, 1), (0, 0, 1, 1, 1, 1))\n",
      "-------------------------\n",
      "+---------~---------+\n",
      "| 1  1  1   1  0  0 |\n",
      "| 1  1  1   1  1  0 |\n",
      "| 1  1  1   1  1  0 |\n",
      "+---------~---------+\n",
      "\n",
      "\n",
      "-------------------------\n",
      "TILE: 5 z: 0  xy:  (0, 9)\n",
      "((0, 0, 0, 0, 0, 0), (0, 0, 0, 0, 0, 0), (1, 0, 0, 0, 0, 0))\n",
      "-------------------------\n",
      "+---------~---------+\n",
      "| 0  0  0   0  0  1 |\n",
      "| 0  0  0   0  0  0 |\n",
      "| 0  0  0   0  0  0 |\n",
      "+---------~---------+\n",
      "\n",
      "\n",
      "-------------------------\n",
      "TILE: 11 z: 1  xy:  (0, 3)\n",
      "((0, 0, 0, 0, 0, 1), (0, 0, 0, 0, 0, 0), (0, 0, 0, 0, 0, 0))\n",
      "-------------------------\n",
      "+---------+\n",
      "| 1  0  0 |\n",
      "| 0  0  0 |\n",
      "| 0  0  0 |\n",
      "{         }\n",
      "| 0  0  0 |\n",
      "| 0  0  0 |\n",
      "| 0  0  0 |\n",
      "+---------+\n",
      "\n",
      "\n",
      "-------------------------\n",
      "TILE: 4 z: 1  xy:  (3, 3)\n",
      "((1, 1, 1, 1, 1, 1), (0, 1, 1, 1, 1, 0), (0, 0, 0, 0, 0, 0))\n",
      "-------------------------\n",
      "+---------+\n",
      "| 0  0  1 |\n",
      "| 0  1  1 |\n",
      "| 0  1  1 |\n",
      "{         }\n",
      "| 0  1  1 |\n",
      "| 0  1  1 |\n",
      "| 0  0  1 |\n",
      "+---------+\n",
      "\n",
      "\n",
      "-------------------------\n"
     ]
    }
   ],
   "source": [
    "valid3 = []\n",
    "for w in mywin:\n",
    "    v = valid2[w]\n",
    "    z = v[3][2]\n",
    "    mytile = v[0][v[2]]\n",
    "    x,y,z =  v[3][0], v[3][1], v[3][2]\n",
    "    myflip = v[1]    \n",
    "    \n",
    "    \n",
    "    print \"TILE:\", str(v[4]), \"z:\", z, \" xy: \",(x,y)\n",
    "    print mytile\n",
    "    \n",
    "    print '-------------------------'\n",
    "    \n",
    "    tt = fillborder(z,borders(z), mytile, v[1])\n",
    "    mat = fillborder(z,borders(z), mytile,myflip)\n",
    "    print tt\n",
    "    print '-------------------------'\n",
    "    valid3.append((v,tt))"
   ]
  },
  {
   "cell_type": "code",
   "execution_count": 43,
   "metadata": {
    "collapsed": false
   },
   "outputs": [
    {
     "data": {
      "text/plain": [
       "[55, 42, 116, 77, 40, 123, 18, 32, 108, 103, 63, 6]"
      ]
     },
     "execution_count": 43,
     "metadata": {},
     "output_type": "execute_result"
    }
   ],
   "source": [
    "mywin"
   ]
  },
  {
   "cell_type": "code",
   "execution_count": 62,
   "metadata": {
    "collapsed": false
   },
   "outputs": [],
   "source": [
    "ysort = valid3[:]"
   ]
  },
  {
   "cell_type": "code",
   "execution_count": 63,
   "metadata": {
    "collapsed": false
   },
   "outputs": [
    {
     "name": "stdout",
     "output_type": "stream",
     "text": [
      "[(0, 0, 0), (9, 0, 0), (15, 0, 1), (12, 6, 1), (6, 6, 0), (15, 6, 1), (6, 9, 0), (6, 0, 1), (9, 3, 0), (0, 9, 0), (0, 3, 1), (3, 3, 1)]\n",
      "[(0, 0, 0), (9, 0, 0), (15, 0, 1), (6, 0, 1), (9, 3, 0), (0, 3, 1), (3, 3, 1), (12, 6, 1), (6, 6, 0), (15, 6, 1), (6, 9, 0), (0, 9, 0)]\n"
     ]
    }
   ],
   "source": [
    "print map(lambda x: x[0][3], ysort)\n",
    "ysort.sort(key=lambda x: x[0][3][1])\n",
    "print map(lambda x: x[0][3], ysort)"
   ]
  },
  {
   "cell_type": "code",
   "execution_count": null,
   "metadata": {
    "collapsed": true
   },
   "outputs": [],
   "source": [
    "#Rules: \n",
    "#keep the left most edge\n",
    "#all right appends overlap leftmost left border\n",
    "#all bottom appends overlap bottom border\n"
   ]
  },
  {
   "cell_type": "code",
   "execution_count": 64,
   "metadata": {
    "collapsed": false
   },
   "outputs": [
    {
     "data": {
      "text/plain": [
       "(12, 18)"
      ]
     },
     "execution_count": 64,
     "metadata": {},
     "output_type": "execute_result"
    }
   ],
   "source": [
    "_SYVECS, _SXDOTS\n"
   ]
  },
  {
   "cell_type": "code",
   "execution_count": 65,
   "metadata": {
    "collapsed": true
   },
   "outputs": [],
   "source": [
    "def ystart(v,y):\n",
    "    return (v[0][3][1] == y)"
   ]
  },
  {
   "cell_type": "code",
   "execution_count": 69,
   "metadata": {
    "collapsed": false
   },
   "outputs": [
    {
     "data": {
      "text/plain": [
       "3"
      ]
     },
     "execution_count": 69,
     "metadata": {},
     "output_type": "execute_result"
    }
   ],
   "source": [
    "vy = filter(lambda v: ystart(v,y), valid3 )\n",
    "len(vy)"
   ]
  },
  {
   "cell_type": "code",
   "execution_count": 158,
   "metadata": {
    "collapsed": false
   },
   "outputs": [],
   "source": [
    "def ygood(v,y):\n",
    "    z = v[0][3][2]\n",
    "    ystart = v[0][3][1]\n",
    "    yend = (z+1)*(ystart + 4) + 1\n",
    "    return ((y < yend) and ( y >= ystart))"
   ]
  },
  {
   "cell_type": "code",
   "execution_count": 116,
   "metadata": {
    "collapsed": false
   },
   "outputs": [
    {
     "data": {
      "text/plain": [
       "True"
      ]
     },
     "execution_count": 116,
     "metadata": {},
     "output_type": "execute_result"
    }
   ],
   "source": [
    "ygood(valid3[0],5)"
   ]
  },
  {
   "cell_type": "code",
   "execution_count": 103,
   "metadata": {
    "collapsed": false
   },
   "outputs": [],
   "source": []
  },
  {
   "cell_type": "code",
   "execution_count": 135,
   "metadata": {
    "collapsed": false
   },
   "outputs": [],
   "source": [
    "vv = valid3[0][1]"
   ]
  },
  {
   "cell_type": "code",
   "execution_count": 136,
   "metadata": {
    "collapsed": false
   },
   "outputs": [],
   "source": [
    "vvv = vv.split(\"\\n\")"
   ]
  },
  {
   "cell_type": "code",
   "execution_count": 138,
   "metadata": {
    "collapsed": false
   },
   "outputs": [
    {
     "data": {
      "text/plain": [
       "'+---------~---------+'"
      ]
     },
     "execution_count": 138,
     "metadata": {},
     "output_type": "execute_result"
    }
   ],
   "source": [
    "qq = \"X\"\n",
    "out = qq[1:] + vvv[0]\n",
    "out"
   ]
  },
  {
   "cell_type": "code",
   "execution_count": 190,
   "metadata": {
    "collapsed": true
   },
   "outputs": [],
   "source": [
    "def ygood(v,y):\n",
    "    z = v[0][3][2]\n",
    "    ystart = v[0][3][1]\n",
    "    ystart += (ystart /3)\n",
    "    yend = (z+1)*(ystart + 4) \n",
    "    return ((y < yend) and ( y >= ystart))"
   ]
  },
  {
   "cell_type": "code",
   "execution_count": 199,
   "metadata": {
    "collapsed": true
   },
   "outputs": [],
   "source": [
    "def ygood2(v,y):\n",
    "    z = v[0][3][2]\n",
    "    ystart = v[0][3][1]\n",
    "    ystart += (ystart /3)\n",
    "    yend = (z+1)*(ystart + 4) \n",
    "    return (ystart,yend,z) if ((y < yend) and ( y >= ystart)) else 0"
   ]
  },
  {
   "cell_type": "code",
   "execution_count": 189,
   "metadata": {
    "collapsed": false
   },
   "outputs": [
    {
     "data": {
      "text/plain": [
       "[(0, 4, 0), (0, 4, 0), (0, 8, 1), 0, 0, 0, 0, (0, 8, 1), 0, 0, 0, 0]"
      ]
     },
     "execution_count": 189,
     "metadata": {},
     "output_type": "execute_result"
    }
   ],
   "source": [
    "y = 4\n",
    "y =  y - ((y+1)/3)\n",
    "map(lambda v: ygood2(v,y),valid3)"
   ]
  },
  {
   "cell_type": "code",
   "execution_count": 176,
   "metadata": {
    "collapsed": false
   },
   "outputs": [
    {
     "data": {
      "text/plain": [
       "7"
      ]
     },
     "execution_count": 176,
     "metadata": {},
     "output_type": "execute_result"
    }
   ],
   "source": [
    "y = 4`\n",
    "y =  y - ((y+1)/3)\n",
    "len(filter(lambda v: ygood(v,y), valid3))"
   ]
  },
  {
   "cell_type": "code",
   "execution_count": 200,
   "metadata": {
    "collapsed": false
   },
   "outputs": [
    {
     "name": "stdout",
     "output_type": "stream",
     "text": [
      "0 4 +---------~---------+---------+---------~---------+---------+\n",
      "1 4 | 1  1  0   0  0  0 | 0  0  0 | 0  0  0   0  0  0 | 0  0  0 |\n",
      "2 4 | 1  1  0   0  0  0 | 0  0  0 | 0  0  0   0  0  0 | 0  0  0 |\n",
      "3 4 | 1  1  0   0  0  0 | 0  0  0 | 0  0  0   0  0  0 | 0  0  0 |\n",
      "4 4 | 1  0  0   0  0  0 | 0  0  1 | 0  0  0   0  0  1 | 0  0  0 |\n",
      "5 4 | 1  0  0   0  0  0 | 0  0  1 | 0  0  0   0  0  1 | 0  0  0 |\n",
      "6 5 {         {         {         +---------~---------{         }\n",
      "7 5 | 0  0  0 | 0  1  1 | 0  0  1| 0  0  0 |\n",
      "8 5 | 0  0  0 | 0  1  1 | 0  0  1| 0  0  0 |\n"
     ]
    }
   ],
   "source": [
    "outmat = \"\"\n",
    "ylines = 9\n",
    "#ylines = (_SYVECS / 3) + _SYVECS + 1\n",
    "for y in range(ylines):\n",
    "    \n",
    "    #base_y [0,11] => print-y [0,17]\n",
    "    base_y = y - ((y+1)/3)\n",
    "    #print y, base_y\n",
    "    \n",
    "    #gather all tiles on this y-line\n",
    "    ytiles = filter(lambda v: ygood2(v,base_y), valid3)\n",
    "    \n",
    "    #sort left to right\n",
    "    ytiles.sort(key = lambda x: x[0][3][0])\n",
    "    \n",
    "    yline = \"X\"\n",
    "    for t in ytiles:\n",
    "        \n",
    "        tt = t[1]\n",
    "        tys = tt.split(\"\\n\")        \n",
    "        \n",
    "        #print tys\n",
    "        #print printy\n",
    "        #print tys[printy]\n",
    "        #print base_y,tys\n",
    "        yline = yline[:len(yline)-1] + tys[base_y]\n",
    "        #yline = yline + tys[printy]\n",
    "        \n",
    "    print str(y), len(ytiles), yline\n",
    "        \n",
    "    outmat += yline\n",
    "    outmat == \"\\n\"\n",
    "\n",
    "#print '-------'\n",
    "#print outmat\n",
    "    \n",
    "    "
   ]
  },
  {
   "cell_type": "code",
   "execution_count": null,
   "metadata": {
    "collapsed": true
   },
   "outputs": [],
   "source": []
  },
  {
   "cell_type": "code",
   "execution_count": null,
   "metadata": {
    "collapsed": true
   },
   "outputs": [],
   "source": []
  },
  {
   "cell_type": "code",
   "execution_count": 194,
   "metadata": {
    "collapsed": false
   },
   "outputs": [
    {
     "data": {
      "text/plain": [
       "(((((0, 0, 1, 1, 1, 1), (0, 0, 0, 0, 1, 1), (0, 0, 0, 0, 0, 0)),\n",
       "   ((0, 0, 0, 0, 0, 0), (0, 0, 0, 0, 0, 0), (0, 0, 0, 0, 0, 1))),\n",
       "  0,\n",
       "  1,\n",
       "  (9, 0, 0),\n",
       "  8,\n",
       "  (9, 27, 45, 10, 28, 46, 11, 29, 47, 12, 30, 48, 13, 31, 49, 14, 32, 50)),\n",
       " '+---------~---------+\\n| 0  0  0   0  0  0 |\\n| 0  0  0   0  0  0 |\\n| 0  0  0   0  0  1 |\\n+---------~---------+\\n\\n')"
      ]
     },
     "execution_count": 194,
     "metadata": {},
     "output_type": "execute_result"
    }
   ],
   "source": [
    "valid3[1]"
   ]
  },
  {
   "cell_type": "code",
   "execution_count": 38,
   "metadata": {
    "collapsed": false
   },
   "outputs": [
    {
     "name": "stdout",
     "output_type": "stream",
     "text": [
      "21\n",
      "11\n"
     ]
    }
   ],
   "source": [
    "print len(\"+---------~---------+\")\n",
    "print len(\"+---------+\")"
   ]
  },
  {
   "cell_type": "code",
   "execution_count": 37,
   "metadata": {
    "collapsed": false
   },
   "outputs": [
    {
     "data": {
      "text/plain": [
       "11"
      ]
     },
     "execution_count": 37,
     "metadata": {},
     "output_type": "execute_result"
    }
   ],
   "source": [
    "#tall = 21 by 5\n",
    "#stout = 11 by 9\n",
    "\n",
    "#6 by 3\n",
    "#3 by 6"
   ]
  },
  {
   "cell_type": "code",
   "execution_count": null,
   "metadata": {
    "collapsed": true
   },
   "outputs": [],
   "source": []
  },
  {
   "cell_type": "code",
   "execution_count": null,
   "metadata": {
    "collapsed": true
   },
   "outputs": [],
   "source": []
  },
  {
   "cell_type": "code",
   "execution_count": 35,
   "metadata": {
    "collapsed": false
   },
   "outputs": [
    {
     "data": {
      "text/plain": [
       "(((((0, 0, 1, 1, 1, 1), (0, 0, 0, 0, 1, 1), (0, 0, 0, 0, 0, 0)),\n",
       "   ((0, 0, 0, 0, 0, 0), (0, 0, 0, 0, 0, 0), (0, 0, 0, 0, 0, 1))),\n",
       "  0,\n",
       "  1,\n",
       "  (9, 0, 0),\n",
       "  8,\n",
       "  (9, 27, 45, 10, 28, 46, 11, 29, 47, 12, 30, 48, 13, 31, 49, 14, 32, 50)),\n",
       " '+---------~---------+\\n| 0  0  0   0  0  0 |\\n| 0  0  0   0  0  0 |\\n| 0  0  0   0  0  1 |\\n+---------~---------+\\n\\n')"
      ]
     },
     "execution_count": 35,
     "metadata": {},
     "output_type": "execute_result"
    }
   ],
   "source": [
    "valid3[1]"
   ]
  },
  {
   "cell_type": "code",
   "execution_count": null,
   "metadata": {
    "collapsed": true
   },
   "outputs": [],
   "source": []
  },
  {
   "cell_type": "code",
   "execution_count": 27,
   "metadata": {
    "collapsed": false
   },
   "outputs": [],
   "source": [
    "def borders(z):\n",
    "    \"\"\" returns character mat: z0 => 19long by 5high, or z1=> 10long by 7high \"\"\"\n",
    "    \n",
    "    d, s, b, p = \"-\",\" \", \"|\", \"+\"\n",
    "    \n",
    "    mL, mR = \"{\", \"}\"\n",
    "    dt = \"~\"\n",
    "    \n",
    "    h = p + d*3*3\n",
    "    if not(z): \n",
    "        h+= dt + (d*3*3)\n",
    "    h+= p + \"\\n\"\n",
    "    \n",
    "    hh = \"\" if z else s\n",
    "    \n",
    "    v = b + (s*3*3) + hh \n",
    "    if not(z):\n",
    "        v+= s*3*3\n",
    "    v += b + \"\\n\"\n",
    "    \n",
    "    vv = mL + v[1:len(v)-2] + mR + \"\\n\"\n",
    "    \n",
    "    mat = h + (v*3) \n",
    "    if z:\n",
    "        mat += vv + (v*3)\n",
    "    mat += h\n",
    "    \n",
    "    return mat\n"
   ]
  },
  {
   "cell_type": "code",
   "execution_count": 28,
   "metadata": {
    "collapsed": false
   },
   "outputs": [
    {
     "name": "stdout",
     "output_type": "stream",
     "text": [
      "+---------+\n",
      "|         |\n",
      "|         |\n",
      "|         |\n",
      "{         }\n",
      "|         |\n",
      "|         |\n",
      "|         |\n",
      "+---------+\n",
      "\n",
      "+---------~---------+\n",
      "|                   |\n",
      "|                   |\n",
      "|                   |\n",
      "+---------~---------+\n",
      "\n"
     ]
    }
   ],
   "source": [
    "print borders(1)\n",
    "print borders(0)"
   ]
  },
  {
   "cell_type": "code",
   "execution_count": 29,
   "metadata": {
    "collapsed": true
   },
   "outputs": [],
   "source": [
    "def gettilenum(tx,xx,yy,zz,ff):\n",
    "    #if flip = -1 -> y can be bigger than x\n",
    "    flip = -1 if ff else 1\n",
    "    tt = [x[::flip] for x in tx[::flip]]\n",
    "    if not(zz):\n",
    "        out = tt[yy][xx]\n",
    "    else:    \n",
    "        out = tt[2-xx][yy]\n",
    "    return out"
   ]
  },
  {
   "cell_type": "code",
   "execution_count": 30,
   "metadata": {
    "collapsed": false
   },
   "outputs": [
    {
     "ename": "NameError",
     "evalue": "name 't1' is not defined",
     "output_type": "error",
     "traceback": [
      "\u001b[1;31m---------------------------------------------------------------------------\u001b[0m",
      "\u001b[1;31mNameError\u001b[0m                                 Traceback (most recent call last)",
      "\u001b[1;32m<ipython-input-30-9571e8626790>\u001b[0m in \u001b[0;36m<module>\u001b[1;34m()\u001b[0m\n\u001b[1;32m----> 1\u001b[1;33m \u001b[1;32mprint\u001b[0m \u001b[0mgettilenum\u001b[0m\u001b[1;33m(\u001b[0m\u001b[0mt1\u001b[0m\u001b[1;33m,\u001b[0m\u001b[1;36m0\u001b[0m\u001b[1;33m,\u001b[0m\u001b[1;36m0\u001b[0m\u001b[1;33m,\u001b[0m\u001b[1;36m0\u001b[0m\u001b[1;33m,\u001b[0m\u001b[1;36m0\u001b[0m\u001b[1;33m)\u001b[0m\u001b[1;33m,\u001b[0m \u001b[0mgettilenum\u001b[0m\u001b[1;33m(\u001b[0m\u001b[0mt1\u001b[0m\u001b[1;33m,\u001b[0m\u001b[1;36m5\u001b[0m\u001b[1;33m,\u001b[0m\u001b[1;36m0\u001b[0m\u001b[1;33m,\u001b[0m\u001b[1;36m0\u001b[0m\u001b[1;33m,\u001b[0m\u001b[1;36m0\u001b[0m\u001b[1;33m)\u001b[0m\u001b[1;33m\u001b[0m\u001b[0m\n\u001b[0m\u001b[0;32m      2\u001b[0m \u001b[1;32mprint\u001b[0m \u001b[0mt1\u001b[0m\u001b[1;33m\u001b[0m\u001b[0m\n",
      "\u001b[1;31mNameError\u001b[0m: name 't1' is not defined"
     ]
    }
   ],
   "source": [
    "print gettilenum(t1,0,0,0,0), gettilenum(t1,5,0,0,0)\n",
    "print t1"
   ]
  },
  {
   "cell_type": "code",
   "execution_count": 31,
   "metadata": {
    "collapsed": false
   },
   "outputs": [],
   "source": [
    "def fillborder(z,border,tile,flip):\n",
    "    \n",
    "    bmat = border.split(\"\\n\")\n",
    "    tilevec = [subitem for t in tile for subitem in t ]\n",
    "    \n",
    "    ymodvec = range(1,4) if not(z) else (range(1,4) + range(5,8))\n",
    "    xmodrange = range(1,4) if z else range(1,7)\n",
    "    xmodvec = map(lambda xx: -1 + (xx*3) + ((xx-1)/3), xmodrange  )\n",
    "    \n",
    "    mat = \"\"\n",
    "    for y,bvec in enumerate(bmat):\n",
    "        if y in ymodvec:\n",
    "            vec = \"\"\n",
    "            for x,char in enumerate(bvec):\n",
    "                if x in xmodvec:\n",
    "                    \n",
    "                    xx,yy = xmodvec.index(x), ymodvec.index(y)\n",
    "                    try:\n",
    "                        vec += str(gettilenum(tile,xx,yy,z,flip))\n",
    "                    except:\n",
    "                        print x,y, xx, yy\n",
    "                else:\n",
    "                    vec += char\n",
    "        else:\n",
    "            vec = bvec\n",
    "        \n",
    "        mat += vec  + \"\\n\"\n",
    "    \n",
    "    #at.join(\"\\n\")\n",
    "    return mat\n",
    "    #return tilevec\n",
    "\n",
    "#[xmodvec.index(x) for x,c in enumerate(bvec) if x in xmodvec ].join(\"\")"
   ]
  },
  {
   "cell_type": "code",
   "execution_count": 33,
   "metadata": {
    "collapsed": false
   },
   "outputs": [
    {
     "ename": "NameError",
     "evalue": "name 't1' is not defined",
     "output_type": "error",
     "traceback": [
      "\u001b[1;31m---------------------------------------------------------------------------\u001b[0m",
      "\u001b[1;31mNameError\u001b[0m                                 Traceback (most recent call last)",
      "\u001b[1;32m<ipython-input-33-6d7921cae3c5>\u001b[0m in \u001b[0;36m<module>\u001b[1;34m()\u001b[0m\n\u001b[1;32m----> 1\u001b[1;33m \u001b[1;32mprint\u001b[0m \u001b[0mfillborder\u001b[0m\u001b[1;33m(\u001b[0m\u001b[1;36m0\u001b[0m\u001b[1;33m,\u001b[0m\u001b[0mborders\u001b[0m\u001b[1;33m(\u001b[0m\u001b[1;36m0\u001b[0m\u001b[1;33m)\u001b[0m\u001b[1;33m,\u001b[0m\u001b[0mt1\u001b[0m\u001b[1;33m,\u001b[0m\u001b[1;36m1\u001b[0m\u001b[1;33m)\u001b[0m\u001b[1;33m\u001b[0m\u001b[0m\n\u001b[0m\u001b[0;32m      2\u001b[0m \u001b[1;32mprint\u001b[0m \u001b[0mfillborder\u001b[0m\u001b[1;33m(\u001b[0m\u001b[1;36m0\u001b[0m\u001b[1;33m,\u001b[0m\u001b[0mborders\u001b[0m\u001b[1;33m(\u001b[0m\u001b[1;36m0\u001b[0m\u001b[1;33m)\u001b[0m\u001b[1;33m,\u001b[0m\u001b[0mt1\u001b[0m\u001b[1;33m,\u001b[0m\u001b[1;36m0\u001b[0m\u001b[1;33m)\u001b[0m\u001b[1;33m\u001b[0m\u001b[0m\n",
      "\u001b[1;31mNameError\u001b[0m: name 't1' is not defined"
     ]
    }
   ],
   "source": [
    "print fillborder(0,borders(0),t1,1)\n",
    "print fillborder(0,borders(0),t1,0)\n"
   ]
  },
  {
   "cell_type": "code",
   "execution_count": 242,
   "metadata": {
    "collapsed": false
   },
   "outputs": [
    {
     "name": "stdout",
     "output_type": "stream",
     "text": [
      "+---------+\n",
      "| 0  0  0 |\n",
      "| 0  0  0 |\n",
      "| 0  0  0 |\n",
      "{         }\n",
      "| 0  0  0 |\n",
      "| 1  1  0 |\n",
      "| 1  1  1 |\n",
      "+---------+\n",
      "\n",
      "\n"
     ]
    }
   ],
   "source": [
    "print fillborder(1,borders(1),t1,0)"
   ]
  },
  {
   "cell_type": "code",
   "execution_count": null,
   "metadata": {
    "collapsed": true
   },
   "outputs": [],
   "source": []
  }
 ],
 "metadata": {
  "kernelspec": {
   "display_name": "Python 2",
   "language": "python",
   "name": "python2"
  },
  "language_info": {
   "codemirror_mode": {
    "name": "ipython",
    "version": 2
   },
   "file_extension": ".py",
   "mimetype": "text/x-python",
   "name": "python",
   "nbconvert_exporter": "python",
   "pygments_lexer": "ipython2",
   "version": "2.7.10"
  }
 },
 "nbformat": 4,
 "nbformat_minor": 0
}
